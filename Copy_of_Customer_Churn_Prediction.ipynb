{
  "cells": [
    {
      "cell_type": "code",
      "execution_count": 1,
      "metadata": {
        "id": "rPdXuXRl-rFq"
      },
      "outputs": [],
      "source": [
        "import pandas as pd\n",
        "import numpy as np\n",
        "import matplotlib.pyplot as plt\n",
        "%matplotlib inline\n",
        "import seaborn as sns\n",
        "import scipy.stats\n",
        "import warnings\n",
        "import pickle\n",
        "warnings.filterwarnings('ignore')"
      ]
    },
    {
      "cell_type": "markdown",
      "metadata": {
        "id": "hzFuCybojmdt"
      },
      "source": [
        "# Input Data"
      ]
    },
    {
      "cell_type": "code",
      "execution_count": 88,
      "metadata": {
        "colab": {
          "base_uri": "https://localhost:8080/",
          "height": 424
        },
        "id": "Etw_u3iS_K0f",
        "outputId": "ecac0493-aee8-4d86-e17c-c42cbbe30518"
      },
      "outputs": [
        {
          "data": {
            "text/html": [
              "<div>\n",
              "<style scoped>\n",
              "    .dataframe tbody tr th:only-of-type {\n",
              "        vertical-align: middle;\n",
              "    }\n",
              "\n",
              "    .dataframe tbody tr th {\n",
              "        vertical-align: top;\n",
              "    }\n",
              "\n",
              "    .dataframe thead th {\n",
              "        text-align: right;\n",
              "    }\n",
              "</style>\n",
              "<table border=\"1\" class=\"dataframe\">\n",
              "  <thead>\n",
              "    <tr style=\"text-align: right;\">\n",
              "      <th></th>\n",
              "      <th>CustomerId</th>\n",
              "      <th>Gender</th>\n",
              "      <th>Age</th>\n",
              "      <th>CreditScore</th>\n",
              "      <th>EstimatedSalary</th>\n",
              "      <th>HasCrCard</th>\n",
              "      <th>Exited</th>\n",
              "    </tr>\n",
              "  </thead>\n",
              "  <tbody>\n",
              "    <tr>\n",
              "      <th>0</th>\n",
              "      <td>15634602</td>\n",
              "      <td>Female</td>\n",
              "      <td>42</td>\n",
              "      <td>619</td>\n",
              "      <td>101348.88</td>\n",
              "      <td>1</td>\n",
              "      <td>1</td>\n",
              "    </tr>\n",
              "    <tr>\n",
              "      <th>1</th>\n",
              "      <td>15647311</td>\n",
              "      <td>Female</td>\n",
              "      <td>41</td>\n",
              "      <td>608</td>\n",
              "      <td>112542.58</td>\n",
              "      <td>0</td>\n",
              "      <td>0</td>\n",
              "    </tr>\n",
              "    <tr>\n",
              "      <th>2</th>\n",
              "      <td>15619304</td>\n",
              "      <td>Female</td>\n",
              "      <td>42</td>\n",
              "      <td>502</td>\n",
              "      <td>113931.57</td>\n",
              "      <td>1</td>\n",
              "      <td>1</td>\n",
              "    </tr>\n",
              "    <tr>\n",
              "      <th>3</th>\n",
              "      <td>15701354</td>\n",
              "      <td>Female</td>\n",
              "      <td>39</td>\n",
              "      <td>699</td>\n",
              "      <td>93826.63</td>\n",
              "      <td>0</td>\n",
              "      <td>0</td>\n",
              "    </tr>\n",
              "    <tr>\n",
              "      <th>4</th>\n",
              "      <td>15737888</td>\n",
              "      <td>Female</td>\n",
              "      <td>43</td>\n",
              "      <td>850</td>\n",
              "      <td>79084.10</td>\n",
              "      <td>1</td>\n",
              "      <td>0</td>\n",
              "    </tr>\n",
              "    <tr>\n",
              "      <th>...</th>\n",
              "      <td>...</td>\n",
              "      <td>...</td>\n",
              "      <td>...</td>\n",
              "      <td>...</td>\n",
              "      <td>...</td>\n",
              "      <td>...</td>\n",
              "      <td>...</td>\n",
              "    </tr>\n",
              "    <tr>\n",
              "      <th>9995</th>\n",
              "      <td>15606229</td>\n",
              "      <td>Male</td>\n",
              "      <td>39</td>\n",
              "      <td>771</td>\n",
              "      <td>96270.64</td>\n",
              "      <td>1</td>\n",
              "      <td>0</td>\n",
              "    </tr>\n",
              "    <tr>\n",
              "      <th>9996</th>\n",
              "      <td>15569892</td>\n",
              "      <td>Male</td>\n",
              "      <td>35</td>\n",
              "      <td>516</td>\n",
              "      <td>101699.77</td>\n",
              "      <td>1</td>\n",
              "      <td>0</td>\n",
              "    </tr>\n",
              "    <tr>\n",
              "      <th>9997</th>\n",
              "      <td>15584532</td>\n",
              "      <td>Female</td>\n",
              "      <td>36</td>\n",
              "      <td>709</td>\n",
              "      <td>42085.58</td>\n",
              "      <td>0</td>\n",
              "      <td>1</td>\n",
              "    </tr>\n",
              "    <tr>\n",
              "      <th>9998</th>\n",
              "      <td>15682355</td>\n",
              "      <td>Male</td>\n",
              "      <td>42</td>\n",
              "      <td>772</td>\n",
              "      <td>92888.52</td>\n",
              "      <td>1</td>\n",
              "      <td>1</td>\n",
              "    </tr>\n",
              "    <tr>\n",
              "      <th>9999</th>\n",
              "      <td>15628319</td>\n",
              "      <td>Female</td>\n",
              "      <td>28</td>\n",
              "      <td>792</td>\n",
              "      <td>38190.78</td>\n",
              "      <td>1</td>\n",
              "      <td>0</td>\n",
              "    </tr>\n",
              "  </tbody>\n",
              "</table>\n",
              "<p>10000 rows × 7 columns</p>\n",
              "</div>"
            ],
            "text/plain": [
              "      CustomerId  Gender  Age  CreditScore  EstimatedSalary  HasCrCard  Exited\n",
              "0       15634602  Female   42          619        101348.88          1       1\n",
              "1       15647311  Female   41          608        112542.58          0       0\n",
              "2       15619304  Female   42          502        113931.57          1       1\n",
              "3       15701354  Female   39          699         93826.63          0       0\n",
              "4       15737888  Female   43          850         79084.10          1       0\n",
              "...          ...     ...  ...          ...              ...        ...     ...\n",
              "9995    15606229    Male   39          771         96270.64          1       0\n",
              "9996    15569892    Male   35          516        101699.77          1       0\n",
              "9997    15584532  Female   36          709         42085.58          0       1\n",
              "9998    15682355    Male   42          772         92888.52          1       1\n",
              "9999    15628319  Female   28          792         38190.78          1       0\n",
              "\n",
              "[10000 rows x 7 columns]"
            ]
          },
          "execution_count": 88,
          "metadata": {},
          "output_type": "execute_result"
        }
      ],
      "source": [
        "df = pd.read_csv('Dataset1_Customer_Churn.csv')\n",
        "df"
      ]
    },
    {
      "cell_type": "code",
      "execution_count": 89,
      "metadata": {
        "colab": {
          "base_uri": "https://localhost:8080/"
        },
        "id": "CGS4wKb9_0VJ",
        "outputId": "cc2b14c9-e733-416d-c0b6-61c7cf362d84"
      },
      "outputs": [
        {
          "data": {
            "text/plain": [
              "CustomerId         0\n",
              "Gender             0\n",
              "Age                0\n",
              "CreditScore        0\n",
              "EstimatedSalary    0\n",
              "HasCrCard          0\n",
              "Exited             0\n",
              "dtype: int64"
            ]
          },
          "execution_count": 89,
          "metadata": {},
          "output_type": "execute_result"
        }
      ],
      "source": [
        "df.isnull().sum()"
      ]
    },
    {
      "cell_type": "code",
      "execution_count": 90,
      "metadata": {
        "colab": {
          "base_uri": "https://localhost:8080/"
        },
        "id": "NK9UMJ_v_5MG",
        "outputId": "f9be7cac-8ede-442b-a424-fc654c34652d"
      },
      "outputs": [
        {
          "data": {
            "text/plain": [
              "CustomerId         0\n",
              "Gender             0\n",
              "Age                0\n",
              "CreditScore        0\n",
              "EstimatedSalary    0\n",
              "HasCrCard          0\n",
              "Exited             0\n",
              "dtype: int64"
            ]
          },
          "execution_count": 90,
          "metadata": {},
          "output_type": "execute_result"
        }
      ],
      "source": [
        "df.isna().sum()"
      ]
    },
    {
      "cell_type": "code",
      "execution_count": 91,
      "metadata": {
        "colab": {
          "base_uri": "https://localhost:8080/"
        },
        "id": "x05K0H6z_84t",
        "outputId": "78393c57-be0e-4995-9bf6-ee41ced1f643"
      },
      "outputs": [
        {
          "data": {
            "text/plain": [
              "Index(['CustomerId', 'Age', 'CreditScore', 'EstimatedSalary', 'HasCrCard',\n",
              "       'Exited'],\n",
              "      dtype='object')"
            ]
          },
          "execution_count": 91,
          "metadata": {},
          "output_type": "execute_result"
        }
      ],
      "source": [
        "df.select_dtypes(np.number).columns"
      ]
    },
    {
      "cell_type": "code",
      "execution_count": 92,
      "metadata": {
        "colab": {
          "base_uri": "https://localhost:8080/"
        },
        "id": "6JQpSw4nc47u",
        "outputId": "2094a9bc-f6c5-4294-8f48-dff91baa28b5"
      },
      "outputs": [
        {
          "data": {
            "text/plain": [
              "Index(['Gender'], dtype='object')"
            ]
          },
          "execution_count": 92,
          "metadata": {},
          "output_type": "execute_result"
        }
      ],
      "source": [
        "df.select_dtypes('object').columns"
      ]
    },
    {
      "cell_type": "code",
      "execution_count": 93,
      "metadata": {
        "colab": {
          "base_uri": "https://localhost:8080/"
        },
        "id": "dxxSoehVXXWy",
        "outputId": "7047a827-be6f-47f7-ba65-e0e1b7a7bff2"
      },
      "outputs": [
        {
          "data": {
            "text/plain": [
              "CustomerId         10000\n",
              "Gender                 2\n",
              "Age                   70\n",
              "CreditScore          460\n",
              "EstimatedSalary     9999\n",
              "HasCrCard              2\n",
              "Exited                 2\n",
              "dtype: int64"
            ]
          },
          "execution_count": 93,
          "metadata": {},
          "output_type": "execute_result"
        }
      ],
      "source": [
        "df.nunique()"
      ]
    },
    {
      "cell_type": "code",
      "execution_count": 94,
      "metadata": {
        "colab": {
          "base_uri": "https://localhost:8080/"
        },
        "id": "JDQ3tJCEYBFU",
        "outputId": "9377a9a8-e5ec-4a99-e029-5afff48c1094"
      },
      "outputs": [
        {
          "data": {
            "text/plain": [
              "0"
            ]
          },
          "execution_count": 94,
          "metadata": {},
          "output_type": "execute_result"
        }
      ],
      "source": [
        "len(df[df.duplicated()])"
      ]
    },
    {
      "cell_type": "code",
      "execution_count": 95,
      "metadata": {
        "colab": {
          "base_uri": "https://localhost:8080/",
          "height": 301
        },
        "id": "VgtJ15mMe6Li",
        "outputId": "63a4c415-4b72-44c3-9b56-5412ed424947"
      },
      "outputs": [
        {
          "data": {
            "text/html": [
              "<div>\n",
              "<style scoped>\n",
              "    .dataframe tbody tr th:only-of-type {\n",
              "        vertical-align: middle;\n",
              "    }\n",
              "\n",
              "    .dataframe tbody tr th {\n",
              "        vertical-align: top;\n",
              "    }\n",
              "\n",
              "    .dataframe thead th {\n",
              "        text-align: right;\n",
              "    }\n",
              "</style>\n",
              "<table border=\"1\" class=\"dataframe\">\n",
              "  <thead>\n",
              "    <tr style=\"text-align: right;\">\n",
              "      <th></th>\n",
              "      <th>CustomerId</th>\n",
              "      <th>Age</th>\n",
              "      <th>CreditScore</th>\n",
              "      <th>EstimatedSalary</th>\n",
              "      <th>HasCrCard</th>\n",
              "      <th>Exited</th>\n",
              "    </tr>\n",
              "  </thead>\n",
              "  <tbody>\n",
              "    <tr>\n",
              "      <th>count</th>\n",
              "      <td>1.000000e+04</td>\n",
              "      <td>10000.000000</td>\n",
              "      <td>10000.000000</td>\n",
              "      <td>10000.000000</td>\n",
              "      <td>10000.00000</td>\n",
              "      <td>10000.000000</td>\n",
              "    </tr>\n",
              "    <tr>\n",
              "      <th>mean</th>\n",
              "      <td>1.569094e+07</td>\n",
              "      <td>38.921800</td>\n",
              "      <td>650.528800</td>\n",
              "      <td>100090.239881</td>\n",
              "      <td>0.70550</td>\n",
              "      <td>0.203700</td>\n",
              "    </tr>\n",
              "    <tr>\n",
              "      <th>std</th>\n",
              "      <td>7.193619e+04</td>\n",
              "      <td>10.487806</td>\n",
              "      <td>96.653299</td>\n",
              "      <td>57510.492818</td>\n",
              "      <td>0.45584</td>\n",
              "      <td>0.402769</td>\n",
              "    </tr>\n",
              "    <tr>\n",
              "      <th>min</th>\n",
              "      <td>1.556570e+07</td>\n",
              "      <td>18.000000</td>\n",
              "      <td>350.000000</td>\n",
              "      <td>11.580000</td>\n",
              "      <td>0.00000</td>\n",
              "      <td>0.000000</td>\n",
              "    </tr>\n",
              "    <tr>\n",
              "      <th>25%</th>\n",
              "      <td>1.562853e+07</td>\n",
              "      <td>32.000000</td>\n",
              "      <td>584.000000</td>\n",
              "      <td>51002.110000</td>\n",
              "      <td>0.00000</td>\n",
              "      <td>0.000000</td>\n",
              "    </tr>\n",
              "    <tr>\n",
              "      <th>50%</th>\n",
              "      <td>1.569074e+07</td>\n",
              "      <td>37.000000</td>\n",
              "      <td>652.000000</td>\n",
              "      <td>100193.915000</td>\n",
              "      <td>1.00000</td>\n",
              "      <td>0.000000</td>\n",
              "    </tr>\n",
              "    <tr>\n",
              "      <th>75%</th>\n",
              "      <td>1.575323e+07</td>\n",
              "      <td>44.000000</td>\n",
              "      <td>718.000000</td>\n",
              "      <td>149388.247500</td>\n",
              "      <td>1.00000</td>\n",
              "      <td>0.000000</td>\n",
              "    </tr>\n",
              "    <tr>\n",
              "      <th>max</th>\n",
              "      <td>1.581569e+07</td>\n",
              "      <td>92.000000</td>\n",
              "      <td>850.000000</td>\n",
              "      <td>199992.480000</td>\n",
              "      <td>1.00000</td>\n",
              "      <td>1.000000</td>\n",
              "    </tr>\n",
              "  </tbody>\n",
              "</table>\n",
              "</div>"
            ],
            "text/plain": [
              "         CustomerId           Age   CreditScore  EstimatedSalary    HasCrCard  \\\n",
              "count  1.000000e+04  10000.000000  10000.000000     10000.000000  10000.00000   \n",
              "mean   1.569094e+07     38.921800    650.528800    100090.239881      0.70550   \n",
              "std    7.193619e+04     10.487806     96.653299     57510.492818      0.45584   \n",
              "min    1.556570e+07     18.000000    350.000000        11.580000      0.00000   \n",
              "25%    1.562853e+07     32.000000    584.000000     51002.110000      0.00000   \n",
              "50%    1.569074e+07     37.000000    652.000000    100193.915000      1.00000   \n",
              "75%    1.575323e+07     44.000000    718.000000    149388.247500      1.00000   \n",
              "max    1.581569e+07     92.000000    850.000000    199992.480000      1.00000   \n",
              "\n",
              "             Exited  \n",
              "count  10000.000000  \n",
              "mean       0.203700  \n",
              "std        0.402769  \n",
              "min        0.000000  \n",
              "25%        0.000000  \n",
              "50%        0.000000  \n",
              "75%        0.000000  \n",
              "max        1.000000  "
            ]
          },
          "execution_count": 95,
          "metadata": {},
          "output_type": "execute_result"
        }
      ],
      "source": [
        "df.describe()"
      ]
    },
    {
      "cell_type": "markdown",
      "metadata": {
        "id": "yab3asiz1-50"
      },
      "source": [
        "\n",
        "\n",
        "*  HasCrCard mengandung kategorikal data. Sebanyak 25% dari nasabah tidak memiliki kartu kredit.\n",
        "*   \n",
        "\n"
      ]
    },
    {
      "cell_type": "code",
      "execution_count": 96,
      "metadata": {
        "colab": {
          "base_uri": "https://localhost:8080/",
          "height": 175
        },
        "id": "7f26NZH7fACT",
        "outputId": "0d9bd4b7-adb9-4ab3-e8a3-8af292c2ed33"
      },
      "outputs": [
        {
          "data": {
            "text/html": [
              "<div>\n",
              "<style scoped>\n",
              "    .dataframe tbody tr th:only-of-type {\n",
              "        vertical-align: middle;\n",
              "    }\n",
              "\n",
              "    .dataframe tbody tr th {\n",
              "        vertical-align: top;\n",
              "    }\n",
              "\n",
              "    .dataframe thead th {\n",
              "        text-align: right;\n",
              "    }\n",
              "</style>\n",
              "<table border=\"1\" class=\"dataframe\">\n",
              "  <thead>\n",
              "    <tr style=\"text-align: right;\">\n",
              "      <th></th>\n",
              "      <th>Gender</th>\n",
              "    </tr>\n",
              "  </thead>\n",
              "  <tbody>\n",
              "    <tr>\n",
              "      <th>count</th>\n",
              "      <td>10000</td>\n",
              "    </tr>\n",
              "    <tr>\n",
              "      <th>unique</th>\n",
              "      <td>2</td>\n",
              "    </tr>\n",
              "    <tr>\n",
              "      <th>top</th>\n",
              "      <td>Male</td>\n",
              "    </tr>\n",
              "    <tr>\n",
              "      <th>freq</th>\n",
              "      <td>5457</td>\n",
              "    </tr>\n",
              "  </tbody>\n",
              "</table>\n",
              "</div>"
            ],
            "text/plain": [
              "       Gender\n",
              "count   10000\n",
              "unique      2\n",
              "top      Male\n",
              "freq     5457"
            ]
          },
          "execution_count": 96,
          "metadata": {},
          "output_type": "execute_result"
        }
      ],
      "source": [
        "df.describe(include='object')"
      ]
    },
    {
      "cell_type": "markdown",
      "metadata": {
        "id": "8-XHmYPuyCy5"
      },
      "source": [
        "Target kita adalah untuk mengidentifikasi seorang nasabah apakah dia akan berhenti menjadi nasabah. Variabel 'Exited' sebagai target yang mengandung tipe data kategorikal, dimana 0 artinya tidak berhenti dan 1 artinya berhenti. Prediktornya adalah variabel 'Age', CreditScore', 'EstimatedSalary', dan 'HasCrCard'. Variabel 'CustomerId' tidak relevan terhadap model sehingga kita abaikan."
      ]
    },
    {
      "cell_type": "code",
      "execution_count": 97,
      "metadata": {
        "id": "SwByn-9B0Aiq"
      },
      "outputs": [],
      "source": [
        "df.drop(['CustomerId'], axis=1, inplace=True)"
      ]
    },
    {
      "cell_type": "markdown",
      "metadata": {
        "id": "nb9iWKMqfsyS"
      },
      "source": [
        "**Label Encoder untuk Gender**"
      ]
    },
    {
      "cell_type": "markdown",
      "metadata": {
        "id": "PxCdq_GDf9vQ"
      },
      "source": [
        "0 = Female ; 1 = Male"
      ]
    },
    {
      "cell_type": "code",
      "execution_count": 98,
      "metadata": {
        "colab": {
          "base_uri": "https://localhost:8080/",
          "height": 424
        },
        "id": "kKJT5P-rfdjL",
        "outputId": "16f85670-4388-4a4c-c183-c0a2d5b219eb"
      },
      "outputs": [
        {
          "data": {
            "text/html": [
              "<div>\n",
              "<style scoped>\n",
              "    .dataframe tbody tr th:only-of-type {\n",
              "        vertical-align: middle;\n",
              "    }\n",
              "\n",
              "    .dataframe tbody tr th {\n",
              "        vertical-align: top;\n",
              "    }\n",
              "\n",
              "    .dataframe thead th {\n",
              "        text-align: right;\n",
              "    }\n",
              "</style>\n",
              "<table border=\"1\" class=\"dataframe\">\n",
              "  <thead>\n",
              "    <tr style=\"text-align: right;\">\n",
              "      <th></th>\n",
              "      <th>Gender</th>\n",
              "      <th>Age</th>\n",
              "      <th>CreditScore</th>\n",
              "      <th>EstimatedSalary</th>\n",
              "      <th>HasCrCard</th>\n",
              "      <th>Exited</th>\n",
              "    </tr>\n",
              "  </thead>\n",
              "  <tbody>\n",
              "    <tr>\n",
              "      <th>0</th>\n",
              "      <td>0</td>\n",
              "      <td>42</td>\n",
              "      <td>619</td>\n",
              "      <td>101348.88</td>\n",
              "      <td>1</td>\n",
              "      <td>1</td>\n",
              "    </tr>\n",
              "    <tr>\n",
              "      <th>1</th>\n",
              "      <td>0</td>\n",
              "      <td>41</td>\n",
              "      <td>608</td>\n",
              "      <td>112542.58</td>\n",
              "      <td>0</td>\n",
              "      <td>0</td>\n",
              "    </tr>\n",
              "    <tr>\n",
              "      <th>2</th>\n",
              "      <td>0</td>\n",
              "      <td>42</td>\n",
              "      <td>502</td>\n",
              "      <td>113931.57</td>\n",
              "      <td>1</td>\n",
              "      <td>1</td>\n",
              "    </tr>\n",
              "    <tr>\n",
              "      <th>3</th>\n",
              "      <td>0</td>\n",
              "      <td>39</td>\n",
              "      <td>699</td>\n",
              "      <td>93826.63</td>\n",
              "      <td>0</td>\n",
              "      <td>0</td>\n",
              "    </tr>\n",
              "    <tr>\n",
              "      <th>4</th>\n",
              "      <td>0</td>\n",
              "      <td>43</td>\n",
              "      <td>850</td>\n",
              "      <td>79084.10</td>\n",
              "      <td>1</td>\n",
              "      <td>0</td>\n",
              "    </tr>\n",
              "    <tr>\n",
              "      <th>...</th>\n",
              "      <td>...</td>\n",
              "      <td>...</td>\n",
              "      <td>...</td>\n",
              "      <td>...</td>\n",
              "      <td>...</td>\n",
              "      <td>...</td>\n",
              "    </tr>\n",
              "    <tr>\n",
              "      <th>9995</th>\n",
              "      <td>1</td>\n",
              "      <td>39</td>\n",
              "      <td>771</td>\n",
              "      <td>96270.64</td>\n",
              "      <td>1</td>\n",
              "      <td>0</td>\n",
              "    </tr>\n",
              "    <tr>\n",
              "      <th>9996</th>\n",
              "      <td>1</td>\n",
              "      <td>35</td>\n",
              "      <td>516</td>\n",
              "      <td>101699.77</td>\n",
              "      <td>1</td>\n",
              "      <td>0</td>\n",
              "    </tr>\n",
              "    <tr>\n",
              "      <th>9997</th>\n",
              "      <td>0</td>\n",
              "      <td>36</td>\n",
              "      <td>709</td>\n",
              "      <td>42085.58</td>\n",
              "      <td>0</td>\n",
              "      <td>1</td>\n",
              "    </tr>\n",
              "    <tr>\n",
              "      <th>9998</th>\n",
              "      <td>1</td>\n",
              "      <td>42</td>\n",
              "      <td>772</td>\n",
              "      <td>92888.52</td>\n",
              "      <td>1</td>\n",
              "      <td>1</td>\n",
              "    </tr>\n",
              "    <tr>\n",
              "      <th>9999</th>\n",
              "      <td>0</td>\n",
              "      <td>28</td>\n",
              "      <td>792</td>\n",
              "      <td>38190.78</td>\n",
              "      <td>1</td>\n",
              "      <td>0</td>\n",
              "    </tr>\n",
              "  </tbody>\n",
              "</table>\n",
              "<p>10000 rows × 6 columns</p>\n",
              "</div>"
            ],
            "text/plain": [
              "      Gender  Age  CreditScore  EstimatedSalary  HasCrCard  Exited\n",
              "0          0   42          619        101348.88          1       1\n",
              "1          0   41          608        112542.58          0       0\n",
              "2          0   42          502        113931.57          1       1\n",
              "3          0   39          699         93826.63          0       0\n",
              "4          0   43          850         79084.10          1       0\n",
              "...      ...  ...          ...              ...        ...     ...\n",
              "9995       1   39          771         96270.64          1       0\n",
              "9996       1   35          516        101699.77          1       0\n",
              "9997       0   36          709         42085.58          0       1\n",
              "9998       1   42          772         92888.52          1       1\n",
              "9999       0   28          792         38190.78          1       0\n",
              "\n",
              "[10000 rows x 6 columns]"
            ]
          },
          "execution_count": 98,
          "metadata": {},
          "output_type": "execute_result"
        }
      ],
      "source": [
        "from sklearn import preprocessing\n",
        "\n",
        "le = preprocessing.LabelEncoder()\n",
        "df['Gender'] = le.fit_transform(df['Gender'])\n",
        "df"
      ]
    },
    {
      "cell_type": "markdown",
      "metadata": {
        "id": "J6rzJd4ua3yJ"
      },
      "source": [
        "Kategorikal data =\n",
        "\n",
        "- Gender\n",
        "- HasCrCard\n",
        "\n",
        "Numerikal data =\n",
        "- Age\n",
        "- CreditScore\n",
        "- EstimatedSalary"
      ]
    },
    {
      "cell_type": "markdown",
      "metadata": {
        "id": "NPwAHf4Bjb7A"
      },
      "source": [
        "# EDA"
      ]
    },
    {
      "cell_type": "markdown",
      "metadata": {
        "id": "YmufYMavcm-M"
      },
      "source": [
        "## Status Target Data"
      ]
    },
    {
      "cell_type": "code",
      "execution_count": 99,
      "metadata": {
        "colab": {
          "base_uri": "https://localhost:8080/",
          "height": 54
        },
        "id": "0AaUP6etYce2",
        "outputId": "0049244f-e274-4ad5-89e1-7c225985ec52"
      },
      "outputs": [
        {
          "data": {
            "image/png": "[encoded data removed]",
            "text/plain": [
              "<Figure size 1000x800 with 1 Axes>"
            ]
          },
          "metadata": {},
          "output_type": "display_data"
        }
      ],
      "source": [
        "# Let's see how our target data looks like\n",
        "df['Exited'].value_counts().plot.pie(explode=[0.05, 0.05], autopct='%1.1f%%', startangle=90, shadow=True, figsize=(10,8))\n",
        "plt.title('Pie Chart for Churn')\n",
        "plt.show()"
      ]
    },
    {
      "cell_type": "markdown",
      "metadata": {
        "id": "P29NHeDaZ9yS"
      },
      "source": [
        "Dapat disimpulkan bahwa sekitar 20% nasabah telah menutup akunnya."
      ]
    },
    {
      "cell_type": "markdown",
      "metadata": {
        "id": "W0gzW69huFKw"
      },
      "source": [
        "Adanya ketimpangan (skewed) antara total No Exited dan Exited. Proporsi minority class (Exited) sebesar 20.37%, yang dimana masuk ke dalam kategori mild imbalanced data. Maka kita dapat melakukan teknik SMOTE."
      ]
    },
    {
      "cell_type": "markdown",
      "metadata": {
        "id": "Yh9S3jjLbqci"
      },
      "source": [
        "## Hubungan Kategorikal Data terhadap Target"
      ]
    },
    {
      "cell_type": "code",
      "execution_count": 100,
      "metadata": {
        "colab": {
          "base_uri": "https://localhost:8080/",
          "height": 72
        },
        "id": "0gHZskCz8S1g",
        "outputId": "1e07c229-eed1-4834-ecd5-a80d0a6ff316"
      },
      "outputs": [
        {
          "data": {
            "image/png": "[encoded data removed]",
            "text/plain": [
              "<Figure size 1200x700 with 1 Axes>"
            ]
          },
          "metadata": {},
          "output_type": "display_data"
        },
        {
          "data": {
            "image/png": "[encoded data removed]",
            "text/plain": [
              "<Figure size 1200x700 with 1 Axes>"
            ]
          },
          "metadata": {},
          "output_type": "display_data"
        }
      ],
      "source": [
        "for i, predictor in enumerate(df.drop(columns=['Age', 'CreditScore', 'EstimatedSalary', 'Exited'])):\n",
        "  plt.figure(i)\n",
        "  sns.countplot(data=df, x=predictor, hue='Exited')"
      ]
    },
    {
      "cell_type": "markdown",
      "metadata": {
        "id": "udLOj40ckI7Z"
      },
      "source": [
        "## Hubungan Numerikal Data terhadap Target"
      ]
    },
    {
      "cell_type": "markdown",
      "metadata": {
        "id": "IdnhSDJzj0NN"
      },
      "source": [
        "**1.) Age vs Exited**"
      ]
    },
    {
      "cell_type": "code",
      "execution_count": 101,
      "metadata": {
        "colab": {
          "base_uri": "https://localhost:8080/",
          "height": 54
        },
        "id": "dpG7aF5NoW2h",
        "outputId": "4bcb6708-129e-4575-ae8e-0ec9711a7881"
      },
      "outputs": [
        {
          "data": {
            "image/png": "[encoded data removed]",
            "text/plain": [
              "<Figure size 1200x700 with 1 Axes>"
            ]
          },
          "metadata": {},
          "output_type": "display_data"
        }
      ],
      "source": [
        "plt.rcParams['figure.figsize'] = (12,7)\n",
        "color = plt.cm.copper(np.linspace(0, 0.5, 20))\n",
        "((df.groupby(['Age'])['Exited'].mean())*100).sort_values(ascending=False).head(30).plot.bar()\n",
        "plt.title('Age with most churn percentage', fontsize=20)\n",
        "plt.xlabel('Age', fontsize=15)\n",
        "plt.ylabel('Percentage', fontsize=15)\n",
        "plt.show()"
      ]
    },
    {
      "cell_type": "code",
      "execution_count": 102,
      "metadata": {
        "colab": {
          "base_uri": "https://localhost:8080/",
          "height": 54
        },
        "id": "OMjQ0MpKjkXj",
        "outputId": "636b7706-bf8a-4080-de4f-f21fed17d507"
      },
      "outputs": [
        {
          "data": {
            "image/png": "[encoded data removed]",
            "text/plain": [
              "<Figure size 1200x700 with 1 Axes>"
            ]
          },
          "metadata": {},
          "output_type": "display_data"
        }
      ],
      "source": [
        "sns.boxplot( x = 'Exited',y = 'Age', data = df )\n",
        "plt.show()"
      ]
    },
    {
      "cell_type": "markdown",
      "metadata": {
        "id": "-UmmgYpFkNTg"
      },
      "source": [
        "**2.) CreditScore vs Exited**"
      ]
    },
    {
      "cell_type": "code",
      "execution_count": 103,
      "metadata": {
        "colab": {
          "base_uri": "https://localhost:8080/",
          "height": 54
        },
        "id": "wIWcliKzkZ41",
        "outputId": "23ea7171-a35b-4b55-f2d8-8983a171cfe1"
      },
      "outputs": [
        {
          "data": {
            "image/png": "[encoded data removed]",
            "text/plain": [
              "<Figure size 1200x700 with 1 Axes>"
            ]
          },
          "metadata": {},
          "output_type": "display_data"
        }
      ],
      "source": [
        "plt.rcParams['figure.figsize'] = (12,7)\n",
        "color = plt.cm.copper(np.linspace(0, 0.5, 20))\n",
        "((df.groupby(['CreditScore'])['Exited'].mean())*100).sort_values(ascending=False).head(50).plot.bar()\n",
        "plt.title('CreditScore with most churn percentage', fontsize=20)\n",
        "plt.xlabel('Credit Score', fontsize=15)\n",
        "plt.ylabel('Percentage', fontsize=15)\n",
        "plt.show()"
      ]
    },
    {
      "cell_type": "code",
      "execution_count": 104,
      "metadata": {
        "colab": {
          "base_uri": "https://localhost:8080/",
          "height": 54
        },
        "id": "QgYJAPn0n7BW",
        "outputId": "e347aa89-98a3-4c0d-9bdc-97eada35d1b9"
      },
      "outputs": [
        {
          "data": {
            "image/png": "[encoded data removed]",
            "text/plain": [
              "<Figure size 1200x700 with 1 Axes>"
            ]
          },
          "metadata": {},
          "output_type": "display_data"
        }
      ],
      "source": [
        "sns.boxplot( x = 'Exited',y = 'CreditScore', data = df )\n",
        "plt.show()"
      ]
    },
    {
      "cell_type": "markdown",
      "metadata": {
        "id": "90wOGte_kUow"
      },
      "source": [
        "3.) EstimatedSalary vs Exited"
      ]
    },
    {
      "cell_type": "code",
      "execution_count": 105,
      "metadata": {
        "colab": {
          "base_uri": "https://localhost:8080/",
          "height": 54
        },
        "id": "7nL-yCW6kYex",
        "outputId": "059a9868-47d5-48b5-f469-ab4d3c725bf2"
      },
      "outputs": [
        {
          "data": {
            "image/png": "[encoded data removed]",
            "text/plain": [
              "<Figure size 1200x700 with 1 Axes>"
            ]
          },
          "metadata": {},
          "output_type": "display_data"
        }
      ],
      "source": [
        "sns.boxplot( x = 'Exited',y = 'EstimatedSalary', data = df )\n",
        "plt.show()"
      ]
    },
    {
      "cell_type": "markdown",
      "metadata": {
        "id": "jPT98TY5UoxT"
      },
      "source": [
        "## Hubungan Korelasi antar Feature"
      ]
    },
    {
      "cell_type": "code",
      "execution_count": 106,
      "metadata": {
        "colab": {
          "base_uri": "https://localhost:8080/",
          "height": 54
        },
        "id": "1xQFTk1NerMy",
        "outputId": "51cef162-723a-4076-c594-8879f43c43f8"
      },
      "outputs": [
        {
          "data": {
            "image/png": "[encoded data removed]",
            "text/plain": [
              "<Figure size 2200x1000 with 2 Axes>"
            ]
          },
          "metadata": {},
          "output_type": "display_data"
        }
      ],
      "source": [
        "corr_matrix = df.corr()  # Correlation Matrix\n",
        "\n",
        "# Mask for Heatmap\n",
        "mask = np.zeros_like(corr_matrix, dtype=np.bool)\n",
        "mask[np.triu_indices_from(corr_matrix)] = True\n",
        "\n",
        "# Correlation Matrix Heatmap including all features\n",
        "fig, ax = plt.subplots(figsize=(22, 10))\n",
        "ax = sns.heatmap(corr_matrix, mask=mask, annot=True, linewidths=0.5, fmt=\".2f\", cmap=\"YlGn\");\n",
        "bottom, top = ax.get_ylim()\n",
        "ax.set_ylim(bottom + 0.5, top - 0.5);\n",
        "ax.set_title(\"Correlation Matrix Heatmap including all features\");"
      ]
    },
    {
      "cell_type": "markdown",
      "metadata": {
        "id": "xRZhWGQRQb46"
      },
      "source": [
        "# Feature Engineering"
      ]
    },
    {
      "cell_type": "code",
      "execution_count": 107,
      "metadata": {
        "id": "69T4mAznQhIL"
      },
      "outputs": [],
      "source": [
        "df1 = df.copy()"
      ]
    },
    {
      "cell_type": "code",
      "execution_count": 108,
      "metadata": {
        "id": "udsK5uEU4KuL"
      },
      "outputs": [],
      "source": [
        "df1['CrdScoreGivenAge'] = df1['CreditScore'] / df1['Age']"
      ]
    },
    {
      "cell_type": "code",
      "execution_count": 109,
      "metadata": {
        "colab": {
          "base_uri": "https://localhost:8080/",
          "height": 424
        },
        "id": "qxxW_I7OFLGS",
        "outputId": "34eca3fc-f9c2-4643-a08e-344584514027"
      },
      "outputs": [
        {
          "data": {
            "text/html": [
              "<div>\n",
              "<style scoped>\n",
              "    .dataframe tbody tr th:only-of-type {\n",
              "        vertical-align: middle;\n",
              "    }\n",
              "\n",
              "    .dataframe tbody tr th {\n",
              "        vertical-align: top;\n",
              "    }\n",
              "\n",
              "    .dataframe thead th {\n",
              "        text-align: right;\n",
              "    }\n",
              "</style>\n",
              "<table border=\"1\" class=\"dataframe\">\n",
              "  <thead>\n",
              "    <tr style=\"text-align: right;\">\n",
              "      <th></th>\n",
              "      <th>Gender</th>\n",
              "      <th>Age</th>\n",
              "      <th>CreditScore</th>\n",
              "      <th>EstimatedSalary</th>\n",
              "      <th>HasCrCard</th>\n",
              "      <th>Exited</th>\n",
              "      <th>CrdScoreGivenAge</th>\n",
              "    </tr>\n",
              "  </thead>\n",
              "  <tbody>\n",
              "    <tr>\n",
              "      <th>0</th>\n",
              "      <td>0</td>\n",
              "      <td>42</td>\n",
              "      <td>619</td>\n",
              "      <td>101348.88</td>\n",
              "      <td>1</td>\n",
              "      <td>1</td>\n",
              "      <td>14.738095</td>\n",
              "    </tr>\n",
              "    <tr>\n",
              "      <th>1</th>\n",
              "      <td>0</td>\n",
              "      <td>41</td>\n",
              "      <td>608</td>\n",
              "      <td>112542.58</td>\n",
              "      <td>0</td>\n",
              "      <td>0</td>\n",
              "      <td>14.829268</td>\n",
              "    </tr>\n",
              "    <tr>\n",
              "      <th>2</th>\n",
              "      <td>0</td>\n",
              "      <td>42</td>\n",
              "      <td>502</td>\n",
              "      <td>113931.57</td>\n",
              "      <td>1</td>\n",
              "      <td>1</td>\n",
              "      <td>11.952381</td>\n",
              "    </tr>\n",
              "    <tr>\n",
              "      <th>3</th>\n",
              "      <td>0</td>\n",
              "      <td>39</td>\n",
              "      <td>699</td>\n",
              "      <td>93826.63</td>\n",
              "      <td>0</td>\n",
              "      <td>0</td>\n",
              "      <td>17.923077</td>\n",
              "    </tr>\n",
              "    <tr>\n",
              "      <th>4</th>\n",
              "      <td>0</td>\n",
              "      <td>43</td>\n",
              "      <td>850</td>\n",
              "      <td>79084.10</td>\n",
              "      <td>1</td>\n",
              "      <td>0</td>\n",
              "      <td>19.767442</td>\n",
              "    </tr>\n",
              "    <tr>\n",
              "      <th>...</th>\n",
              "      <td>...</td>\n",
              "      <td>...</td>\n",
              "      <td>...</td>\n",
              "      <td>...</td>\n",
              "      <td>...</td>\n",
              "      <td>...</td>\n",
              "      <td>...</td>\n",
              "    </tr>\n",
              "    <tr>\n",
              "      <th>9995</th>\n",
              "      <td>1</td>\n",
              "      <td>39</td>\n",
              "      <td>771</td>\n",
              "      <td>96270.64</td>\n",
              "      <td>1</td>\n",
              "      <td>0</td>\n",
              "      <td>19.769231</td>\n",
              "    </tr>\n",
              "    <tr>\n",
              "      <th>9996</th>\n",
              "      <td>1</td>\n",
              "      <td>35</td>\n",
              "      <td>516</td>\n",
              "      <td>101699.77</td>\n",
              "      <td>1</td>\n",
              "      <td>0</td>\n",
              "      <td>14.742857</td>\n",
              "    </tr>\n",
              "    <tr>\n",
              "      <th>9997</th>\n",
              "      <td>0</td>\n",
              "      <td>36</td>\n",
              "      <td>709</td>\n",
              "      <td>42085.58</td>\n",
              "      <td>0</td>\n",
              "      <td>1</td>\n",
              "      <td>19.694444</td>\n",
              "    </tr>\n",
              "    <tr>\n",
              "      <th>9998</th>\n",
              "      <td>1</td>\n",
              "      <td>42</td>\n",
              "      <td>772</td>\n",
              "      <td>92888.52</td>\n",
              "      <td>1</td>\n",
              "      <td>1</td>\n",
              "      <td>18.380952</td>\n",
              "    </tr>\n",
              "    <tr>\n",
              "      <th>9999</th>\n",
              "      <td>0</td>\n",
              "      <td>28</td>\n",
              "      <td>792</td>\n",
              "      <td>38190.78</td>\n",
              "      <td>1</td>\n",
              "      <td>0</td>\n",
              "      <td>28.285714</td>\n",
              "    </tr>\n",
              "  </tbody>\n",
              "</table>\n",
              "<p>10000 rows × 7 columns</p>\n",
              "</div>"
            ],
            "text/plain": [
              "      Gender  Age  CreditScore  EstimatedSalary  HasCrCard  Exited  \\\n",
              "0          0   42          619        101348.88          1       1   \n",
              "1          0   41          608        112542.58          0       0   \n",
              "2          0   42          502        113931.57          1       1   \n",
              "3          0   39          699         93826.63          0       0   \n",
              "4          0   43          850         79084.10          1       0   \n",
              "...      ...  ...          ...              ...        ...     ...   \n",
              "9995       1   39          771         96270.64          1       0   \n",
              "9996       1   35          516        101699.77          1       0   \n",
              "9997       0   36          709         42085.58          0       1   \n",
              "9998       1   42          772         92888.52          1       1   \n",
              "9999       0   28          792         38190.78          1       0   \n",
              "\n",
              "      CrdScoreGivenAge  \n",
              "0            14.738095  \n",
              "1            14.829268  \n",
              "2            11.952381  \n",
              "3            17.923077  \n",
              "4            19.767442  \n",
              "...                ...  \n",
              "9995         19.769231  \n",
              "9996         14.742857  \n",
              "9997         19.694444  \n",
              "9998         18.380952  \n",
              "9999         28.285714  \n",
              "\n",
              "[10000 rows x 7 columns]"
            ]
          },
          "execution_count": 109,
          "metadata": {},
          "output_type": "execute_result"
        }
      ],
      "source": [
        "df1"
      ]
    },
    {
      "cell_type": "code",
      "execution_count": 110,
      "metadata": {
        "colab": {
          "base_uri": "https://localhost:8080/",
          "height": 559
        },
        "id": "lHB35h2z73Ue",
        "outputId": "d348addb-42d4-4ee6-9854-7d69100e3971"
      },
      "outputs": [
        {
          "data": {
            "text/plain": [
              "<AxesSubplot: >"
            ]
          },
          "execution_count": 110,
          "metadata": {},
          "output_type": "execute_result"
        },
        {
          "data": {
            "image/png": "[encoded data removed]",
            "text/plain": [
              "<Figure size 1100x900 with 2 Axes>"
            ]
          },
          "metadata": {},
          "output_type": "display_data"
        }
      ],
      "source": [
        "cormat = df1.corr()\n",
        "plt.figure(figsize=(11,9))\n",
        "sns.heatmap(cormat, annot=True, cmap='viridis')"
      ]
    },
    {
      "cell_type": "markdown",
      "metadata": {
        "id": "boDtQkK7XyBA"
      },
      "source": [
        "# Train-Test Split"
      ]
    },
    {
      "cell_type": "code",
      "execution_count": 111,
      "metadata": {
        "id": "_D4gxSLoZEny"
      },
      "outputs": [],
      "source": [
        "X1 = df1.drop('Exited', axis=1)\n",
        "y1 = df1['Exited']"
      ]
    },
    {
      "cell_type": "code",
      "execution_count": 112,
      "metadata": {
        "id": "ClR7CL2RYzJg"
      },
      "outputs": [],
      "source": [
        "from sklearn.model_selection import train_test_split"
      ]
    },
    {
      "cell_type": "code",
      "execution_count": 113,
      "metadata": {
        "id": "JRXn9HadY-hS"
      },
      "outputs": [],
      "source": [
        "X1_train, X1_test, y1_train, y1_test = train_test_split(X1, y1, test_size=0.35, random_state=123, stratify=y1)"
      ]
    },
    {
      "cell_type": "code",
      "execution_count": 114,
      "metadata": {
        "colab": {
          "base_uri": "https://localhost:8080/"
        },
        "id": "F75sVsa0r4Xt",
        "outputId": "7fb197db-97dc-4653-91c6-5561258d28af"
      },
      "outputs": [
        {
          "data": {
            "text/plain": [
              "0    7963\n",
              "1    2037\n",
              "Name: Exited, dtype: int64"
            ]
          },
          "execution_count": 114,
          "metadata": {},
          "output_type": "execute_result"
        }
      ],
      "source": [
        "y1.value_counts()"
      ]
    },
    {
      "cell_type": "markdown",
      "metadata": {
        "id": "LKGMFjZlaXtf"
      },
      "source": [
        "# Feature Scaling"
      ]
    },
    {
      "cell_type": "code",
      "execution_count": 115,
      "metadata": {
        "id": "gGTi-JmoaZ4g"
      },
      "outputs": [],
      "source": [
        "from sklearn.preprocessing import StandardScaler\n",
        "ss = StandardScaler()"
      ]
    },
    {
      "cell_type": "code",
      "execution_count": 116,
      "metadata": {
        "id": "cvkg8CvOapNb"
      },
      "outputs": [],
      "source": [
        "X1_train = ss.fit_transform(X1_train)\n",
        "X1_test = ss.fit_transform(X1_test)"
      ]
    },
    {
      "cell_type": "markdown",
      "metadata": {
        "id": "dkyLEvWkbD0R"
      },
      "source": [
        "# Membangun Model"
      ]
    },
    {
      "cell_type": "markdown",
      "metadata": {
        "id": "n_Y3-L2sbHfc"
      },
      "source": [
        "## KNN"
      ]
    },
    {
      "cell_type": "code",
      "execution_count": 117,
      "metadata": {
        "id": "fEI8A444hC_h"
      },
      "outputs": [],
      "source": [
        "from sklearn.neighbors import KNeighborsClassifier\n",
        "from sklearn.model_selection import GridSearchCV"
      ]
    },
    {
      "cell_type": "code",
      "execution_count": 118,
      "metadata": {
        "id": "_HA4ahxfjU0I"
      },
      "outputs": [],
      "source": [
        "knn = KNeighborsClassifier()\n",
        "parameters = {'n_neighbors': np.arange(1,100)}"
      ]
    },
    {
      "cell_type": "code",
      "execution_count": 119,
      "metadata": {
        "id": "u8_DBto1kHP1"
      },
      "outputs": [],
      "source": [
        "knnclassifier = GridSearchCV(knn, parameters, cv=10)"
      ]
    },
    {
      "cell_type": "code",
      "execution_count": 120,
      "metadata": {
        "colab": {
          "base_uri": "https://localhost:8080/"
        },
        "id": "n1d0KrwD_Xrj",
        "outputId": "501c84a9-0e9e-428f-8de3-290ab483c3d0"
      },
      "outputs": [
        {
          "data": {
            "text/html": [
              "<style>#sk-container-id-3 {color: black;background-color: white;}#sk-container-id-3 pre{padding: 0;}#sk-container-id-3 div.sk-toggleable {background-color: white;}#sk-container-id-3 label.sk-toggleable__label {cursor: pointer;display: block;width: 100%;margin-bottom: 0;padding: 0.3em;box-sizing: border-box;text-align: center;}#sk-container-id-3 label.sk-toggleable__label-arrow:before {content: \"▸\";float: left;margin-right: 0.25em;color: #696969;}#sk-container-id-3 label.sk-toggleable__label-arrow:hover:before {color: black;}#sk-container-id-3 div.sk-estimator:hover label.sk-toggleable__label-arrow:before {color: black;}#sk-container-id-3 div.sk-toggleable__content {max-height: 0;max-width: 0;overflow: hidden;text-align: left;background-color: #f0f8ff;}#sk-container-id-3 div.sk-toggleable__content pre {margin: 0.2em;color: black;border-radius: 0.25em;background-color: #f0f8ff;}#sk-container-id-3 input.sk-toggleable__control:checked~div.sk-toggleable__content {max-height: 200px;max-width: 100%;overflow: auto;}#sk-container-id-3 input.sk-toggleable__control:checked~label.sk-toggleable__label-arrow:before {content: \"▾\";}#sk-container-id-3 div.sk-estimator input.sk-toggleable__control:checked~label.sk-toggleable__label {background-color: #d4ebff;}#sk-container-id-3 div.sk-label input.sk-toggleable__control:checked~label.sk-toggleable__label {background-color: #d4ebff;}#sk-container-id-3 input.sk-hidden--visually {border: 0;clip: rect(1px 1px 1px 1px);clip: rect(1px, 1px, 1px, 1px);height: 1px;margin: -1px;overflow: hidden;padding: 0;position: absolute;width: 1px;}#sk-container-id-3 div.sk-estimator {font-family: monospace;background-color: #f0f8ff;border: 1px dotted black;border-radius: 0.25em;box-sizing: border-box;margin-bottom: 0.5em;}#sk-container-id-3 div.sk-estimator:hover {background-color: #d4ebff;}#sk-container-id-3 div.sk-parallel-item::after {content: \"\";width: 100%;border-bottom: 1px solid gray;flex-grow: 1;}#sk-container-id-3 div.sk-label:hover label.sk-toggleable__label {background-color: #d4ebff;}#sk-container-id-3 div.sk-serial::before {content: \"\";position: absolute;border-left: 1px solid gray;box-sizing: border-box;top: 0;bottom: 0;left: 50%;z-index: 0;}#sk-container-id-3 div.sk-serial {display: flex;flex-direction: column;align-items: center;background-color: white;padding-right: 0.2em;padding-left: 0.2em;position: relative;}#sk-container-id-3 div.sk-item {position: relative;z-index: 1;}#sk-container-id-3 div.sk-parallel {display: flex;align-items: stretch;justify-content: center;background-color: white;position: relative;}#sk-container-id-3 div.sk-item::before, #sk-container-id-3 div.sk-parallel-item::before {content: \"\";position: absolute;border-left: 1px solid gray;box-sizing: border-box;top: 0;bottom: 0;left: 50%;z-index: -1;}#sk-container-id-3 div.sk-parallel-item {display: flex;flex-direction: column;z-index: 1;position: relative;background-color: white;}#sk-container-id-3 div.sk-parallel-item:first-child::after {align-self: flex-end;width: 50%;}#sk-container-id-3 div.sk-parallel-item:last-child::after {align-self: flex-start;width: 50%;}#sk-container-id-3 div.sk-parallel-item:only-child::after {width: 0;}#sk-container-id-3 div.sk-dashed-wrapped {border: 1px dashed gray;margin: 0 0.4em 0.5em 0.4em;box-sizing: border-box;padding-bottom: 0.4em;background-color: white;}#sk-container-id-3 div.sk-label label {font-family: monospace;font-weight: bold;display: inline-block;line-height: 1.2em;}#sk-container-id-3 div.sk-label-container {text-align: center;}#sk-container-id-3 div.sk-container {/* jupyter's `normalize.less` sets `[hidden] { display: none; }` but bootstrap.min.css set `[hidden] { display: none !important; }` so we also need the `!important` here to be able to override the default hidden behavior on the sphinx rendered scikit-learn.org. See: https://github.com/scikit-learn/scikit-learn/issues/21755 */display: inline-block !important;position: relative;}#sk-container-id-3 div.sk-text-repr-fallback {display: none;}</style><div id=\"sk-container-id-3\" class=\"sk-top-container\"><div class=\"sk-text-repr-fallback\"><pre>GridSearchCV(cv=10, estimator=KNeighborsClassifier(),\n",
              "             param_grid={&#x27;n_neighbors&#x27;: array([ 1,  2,  3,  4,  5,  6,  7,  8,  9, 10, 11, 12, 13, 14, 15, 16, 17,\n",
              "       18, 19, 20, 21, 22, 23, 24, 25, 26, 27, 28, 29, 30, 31, 32, 33, 34,\n",
              "       35, 36, 37, 38, 39, 40, 41, 42, 43, 44, 45, 46, 47, 48, 49, 50, 51,\n",
              "       52, 53, 54, 55, 56, 57, 58, 59, 60, 61, 62, 63, 64, 65, 66, 67, 68,\n",
              "       69, 70, 71, 72, 73, 74, 75, 76, 77, 78, 79, 80, 81, 82, 83, 84, 85,\n",
              "       86, 87, 88, 89, 90, 91, 92, 93, 94, 95, 96, 97, 98, 99])})</pre><b>In a Jupyter environment, please rerun this cell to show the HTML representation or trust the notebook. <br />On GitHub, the HTML representation is unable to render, please try loading this page with nbviewer.org.</b></div><div class=\"sk-container\" hidden><div class=\"sk-item sk-dashed-wrapped\"><div class=\"sk-label-container\"><div class=\"sk-label sk-toggleable\"><input class=\"sk-toggleable__control sk-hidden--visually\" id=\"sk-estimator-id-7\" type=\"checkbox\" ><label for=\"sk-estimator-id-7\" class=\"sk-toggleable__label sk-toggleable__label-arrow\">GridSearchCV</label><div class=\"sk-toggleable__content\"><pre>GridSearchCV(cv=10, estimator=KNeighborsClassifier(),\n",
              "             param_grid={&#x27;n_neighbors&#x27;: array([ 1,  2,  3,  4,  5,  6,  7,  8,  9, 10, 11, 12, 13, 14, 15, 16, 17,\n",
              "       18, 19, 20, 21, 22, 23, 24, 25, 26, 27, 28, 29, 30, 31, 32, 33, 34,\n",
              "       35, 36, 37, 38, 39, 40, 41, 42, 43, 44, 45, 46, 47, 48, 49, 50, 51,\n",
              "       52, 53, 54, 55, 56, 57, 58, 59, 60, 61, 62, 63, 64, 65, 66, 67, 68,\n",
              "       69, 70, 71, 72, 73, 74, 75, 76, 77, 78, 79, 80, 81, 82, 83, 84, 85,\n",
              "       86, 87, 88, 89, 90, 91, 92, 93, 94, 95, 96, 97, 98, 99])})</pre></div></div></div><div class=\"sk-parallel\"><div class=\"sk-parallel-item\"><div class=\"sk-item\"><div class=\"sk-label-container\"><div class=\"sk-label sk-toggleable\"><input class=\"sk-toggleable__control sk-hidden--visually\" id=\"sk-estimator-id-8\" type=\"checkbox\" ><label for=\"sk-estimator-id-8\" class=\"sk-toggleable__label sk-toggleable__label-arrow\">estimator: KNeighborsClassifier</label><div class=\"sk-toggleable__content\"><pre>KNeighborsClassifier()</pre></div></div></div><div class=\"sk-serial\"><div class=\"sk-item\"><div class=\"sk-estimator sk-toggleable\"><input class=\"sk-toggleable__control sk-hidden--visually\" id=\"sk-estimator-id-9\" type=\"checkbox\" ><label for=\"sk-estimator-id-9\" class=\"sk-toggleable__label sk-toggleable__label-arrow\">KNeighborsClassifier</label><div class=\"sk-toggleable__content\"><pre>KNeighborsClassifier()</pre></div></div></div></div></div></div></div></div></div></div>"
            ],
            "text/plain": [
              "GridSearchCV(cv=10, estimator=KNeighborsClassifier(),\n",
              "             param_grid={'n_neighbors': array([ 1,  2,  3,  4,  5,  6,  7,  8,  9, 10, 11, 12, 13, 14, 15, 16, 17,\n",
              "       18, 19, 20, 21, 22, 23, 24, 25, 26, 27, 28, 29, 30, 31, 32, 33, 34,\n",
              "       35, 36, 37, 38, 39, 40, 41, 42, 43, 44, 45, 46, 47, 48, 49, 50, 51,\n",
              "       52, 53, 54, 55, 56, 57, 58, 59, 60, 61, 62, 63, 64, 65, 66, 67, 68,\n",
              "       69, 70, 71, 72, 73, 74, 75, 76, 77, 78, 79, 80, 81, 82, 83, 84, 85,\n",
              "       86, 87, 88, 89, 90, 91, 92, 93, 94, 95, 96, 97, 98, 99])})"
            ]
          },
          "execution_count": 120,
          "metadata": {},
          "output_type": "execute_result"
        }
      ],
      "source": [
        "knnclassifier.fit(X1_train, y1_train)"
      ]
    },
    {
      "cell_type": "code",
      "execution_count": 121,
      "metadata": {
        "colab": {
          "base_uri": "https://localhost:8080/"
        },
        "id": "ARkZ3xNGAJOb",
        "outputId": "d19d57dd-40c4-4c6a-941b-46b8fd68b61d"
      },
      "outputs": [
        {
          "name": "stdout",
          "output_type": "stream",
          "text": [
            "0.8073846153846154\n",
            "{'n_neighbors': 31}\n"
          ]
        }
      ],
      "source": [
        "print(knnclassifier.best_score_)\n",
        "print(knnclassifier.best_params_)"
      ]
    },
    {
      "cell_type": "code",
      "execution_count": 122,
      "metadata": {
        "colab": {
          "base_uri": "https://localhost:8080/",
          "height": 357
        },
        "id": "Lzo2Em06AgN0",
        "outputId": "c7bf8af5-9061-49b2-b0ef-05697147ad9b"
      },
      "outputs": [
        {
          "data": {
            "text/html": [
              "<div>\n",
              "<style scoped>\n",
              "    .dataframe tbody tr th:only-of-type {\n",
              "        vertical-align: middle;\n",
              "    }\n",
              "\n",
              "    .dataframe tbody tr th {\n",
              "        vertical-align: top;\n",
              "    }\n",
              "\n",
              "    .dataframe thead th {\n",
              "        text-align: right;\n",
              "    }\n",
              "</style>\n",
              "<table border=\"1\" class=\"dataframe\">\n",
              "  <thead>\n",
              "    <tr style=\"text-align: right;\">\n",
              "      <th></th>\n",
              "      <th>mean_fit_time</th>\n",
              "      <th>std_fit_time</th>\n",
              "      <th>mean_score_time</th>\n",
              "      <th>std_score_time</th>\n",
              "      <th>param_n_neighbors</th>\n",
              "      <th>params</th>\n",
              "      <th>split0_test_score</th>\n",
              "      <th>split1_test_score</th>\n",
              "      <th>split2_test_score</th>\n",
              "      <th>split3_test_score</th>\n",
              "      <th>split4_test_score</th>\n",
              "      <th>split5_test_score</th>\n",
              "      <th>split6_test_score</th>\n",
              "      <th>split7_test_score</th>\n",
              "      <th>split8_test_score</th>\n",
              "      <th>split9_test_score</th>\n",
              "      <th>mean_test_score</th>\n",
              "      <th>std_test_score</th>\n",
              "      <th>rank_test_score</th>\n",
              "    </tr>\n",
              "  </thead>\n",
              "  <tbody>\n",
              "    <tr>\n",
              "      <th>30</th>\n",
              "      <td>0.006756</td>\n",
              "      <td>0.002562</td>\n",
              "      <td>0.029720</td>\n",
              "      <td>0.000597</td>\n",
              "      <td>31</td>\n",
              "      <td>{'n_neighbors': 31}</td>\n",
              "      <td>0.812308</td>\n",
              "      <td>0.809231</td>\n",
              "      <td>0.816923</td>\n",
              "      <td>0.809231</td>\n",
              "      <td>0.820000</td>\n",
              "      <td>0.807692</td>\n",
              "      <td>0.801538</td>\n",
              "      <td>0.798462</td>\n",
              "      <td>0.806154</td>\n",
              "      <td>0.792308</td>\n",
              "      <td>0.807385</td>\n",
              "      <td>0.007899</td>\n",
              "      <td>1</td>\n",
              "    </tr>\n",
              "    <tr>\n",
              "      <th>19</th>\n",
              "      <td>0.006775</td>\n",
              "      <td>0.001162</td>\n",
              "      <td>0.029621</td>\n",
              "      <td>0.002851</td>\n",
              "      <td>20</td>\n",
              "      <td>{'n_neighbors': 20}</td>\n",
              "      <td>0.815385</td>\n",
              "      <td>0.804615</td>\n",
              "      <td>0.826154</td>\n",
              "      <td>0.806154</td>\n",
              "      <td>0.812308</td>\n",
              "      <td>0.807692</td>\n",
              "      <td>0.803077</td>\n",
              "      <td>0.786154</td>\n",
              "      <td>0.804615</td>\n",
              "      <td>0.800000</td>\n",
              "      <td>0.806615</td>\n",
              "      <td>0.009876</td>\n",
              "      <td>2</td>\n",
              "    </tr>\n",
              "    <tr>\n",
              "      <th>29</th>\n",
              "      <td>0.005685</td>\n",
              "      <td>0.000644</td>\n",
              "      <td>0.031617</td>\n",
              "      <td>0.003058</td>\n",
              "      <td>30</td>\n",
              "      <td>{'n_neighbors': 30}</td>\n",
              "      <td>0.813846</td>\n",
              "      <td>0.804615</td>\n",
              "      <td>0.812308</td>\n",
              "      <td>0.810769</td>\n",
              "      <td>0.823077</td>\n",
              "      <td>0.806154</td>\n",
              "      <td>0.800000</td>\n",
              "      <td>0.793846</td>\n",
              "      <td>0.809231</td>\n",
              "      <td>0.792308</td>\n",
              "      <td>0.806615</td>\n",
              "      <td>0.008919</td>\n",
              "      <td>2</td>\n",
              "    </tr>\n",
              "    <tr>\n",
              "      <th>27</th>\n",
              "      <td>0.005898</td>\n",
              "      <td>0.000313</td>\n",
              "      <td>0.031156</td>\n",
              "      <td>0.003300</td>\n",
              "      <td>28</td>\n",
              "      <td>{'n_neighbors': 28}</td>\n",
              "      <td>0.810769</td>\n",
              "      <td>0.809231</td>\n",
              "      <td>0.812308</td>\n",
              "      <td>0.810769</td>\n",
              "      <td>0.823077</td>\n",
              "      <td>0.806154</td>\n",
              "      <td>0.795385</td>\n",
              "      <td>0.796923</td>\n",
              "      <td>0.807692</td>\n",
              "      <td>0.792308</td>\n",
              "      <td>0.806462</td>\n",
              "      <td>0.008779</td>\n",
              "      <td>4</td>\n",
              "    </tr>\n",
              "    <tr>\n",
              "      <th>23</th>\n",
              "      <td>0.006373</td>\n",
              "      <td>0.000809</td>\n",
              "      <td>0.031497</td>\n",
              "      <td>0.002111</td>\n",
              "      <td>24</td>\n",
              "      <td>{'n_neighbors': 24}</td>\n",
              "      <td>0.818462</td>\n",
              "      <td>0.801538</td>\n",
              "      <td>0.815385</td>\n",
              "      <td>0.800000</td>\n",
              "      <td>0.823077</td>\n",
              "      <td>0.809231</td>\n",
              "      <td>0.800000</td>\n",
              "      <td>0.792308</td>\n",
              "      <td>0.806154</td>\n",
              "      <td>0.798462</td>\n",
              "      <td>0.806462</td>\n",
              "      <td>0.009378</td>\n",
              "      <td>4</td>\n",
              "    </tr>\n",
              "  </tbody>\n",
              "</table>\n",
              "</div>"
            ],
            "text/plain": [
              "    mean_fit_time  std_fit_time  mean_score_time  std_score_time  \\\n",
              "30       0.006756      0.002562         0.029720        0.000597   \n",
              "19       0.006775      0.001162         0.029621        0.002851   \n",
              "29       0.005685      0.000644         0.031617        0.003058   \n",
              "27       0.005898      0.000313         0.031156        0.003300   \n",
              "23       0.006373      0.000809         0.031497        0.002111   \n",
              "\n",
              "   param_n_neighbors               params  split0_test_score  \\\n",
              "30                31  {'n_neighbors': 31}           0.812308   \n",
              "19                20  {'n_neighbors': 20}           0.815385   \n",
              "29                30  {'n_neighbors': 30}           0.813846   \n",
              "27                28  {'n_neighbors': 28}           0.810769   \n",
              "23                24  {'n_neighbors': 24}           0.818462   \n",
              "\n",
              "    split1_test_score  split2_test_score  split3_test_score  \\\n",
              "30           0.809231           0.816923           0.809231   \n",
              "19           0.804615           0.826154           0.806154   \n",
              "29           0.804615           0.812308           0.810769   \n",
              "27           0.809231           0.812308           0.810769   \n",
              "23           0.801538           0.815385           0.800000   \n",
              "\n",
              "    split4_test_score  split5_test_score  split6_test_score  \\\n",
              "30           0.820000           0.807692           0.801538   \n",
              "19           0.812308           0.807692           0.803077   \n",
              "29           0.823077           0.806154           0.800000   \n",
              "27           0.823077           0.806154           0.795385   \n",
              "23           0.823077           0.809231           0.800000   \n",
              "\n",
              "    split7_test_score  split8_test_score  split9_test_score  mean_test_score  \\\n",
              "30           0.798462           0.806154           0.792308         0.807385   \n",
              "19           0.786154           0.804615           0.800000         0.806615   \n",
              "29           0.793846           0.809231           0.792308         0.806615   \n",
              "27           0.796923           0.807692           0.792308         0.806462   \n",
              "23           0.792308           0.806154           0.798462         0.806462   \n",
              "\n",
              "    std_test_score  rank_test_score  \n",
              "30        0.007899                1  \n",
              "19        0.009876                2  \n",
              "29        0.008919                2  \n",
              "27        0.008779                4  \n",
              "23        0.009378                4  "
            ]
          },
          "execution_count": 122,
          "metadata": {},
          "output_type": "execute_result"
        }
      ],
      "source": [
        "rel = pd.DataFrame(knnclassifier.cv_results_)\n",
        "rel.sort_values(by=['rank_test_score']).head()"
      ]
    },
    {
      "cell_type": "code",
      "execution_count": 123,
      "metadata": {
        "colab": {
          "base_uri": "https://localhost:8080/",
          "height": 446
        },
        "id": "ySB66B7kBoQw",
        "outputId": "22632284-9451-4aea-a9aa-83d88741acfd"
      },
      "outputs": [
        {
          "data": {
            "text/plain": [
              "[<matplotlib.lines.Line2D at 0x191848427d0>]"
            ]
          },
          "execution_count": 123,
          "metadata": {},
          "output_type": "execute_result"
        },
        {
          "data": {
            "image/png": "[encoded data removed]",
            "text/plain": [
              "<Figure size 1200x700 with 1 Axes>"
            ]
          },
          "metadata": {},
          "output_type": "display_data"
        }
      ],
      "source": [
        "plt.plot(rel['mean_test_score'])"
      ]
    },
    {
      "cell_type": "code",
      "execution_count": 124,
      "metadata": {
        "id": "WT2pCPMvCk0L"
      },
      "outputs": [],
      "source": [
        "# knnclassifier.fit(X1_test, y1_test)"
      ]
    },
    {
      "cell_type": "code",
      "execution_count": 125,
      "metadata": {
        "id": "r96-5MN-Dve_"
      },
      "outputs": [],
      "source": [
        "# print(knnclassifier.best_score_)\n",
        "# print(knnclassifier.best_params_)"
      ]
    },
    {
      "cell_type": "code",
      "execution_count": 126,
      "metadata": {
        "id": "QgDk93U0D7GN"
      },
      "outputs": [],
      "source": [
        "# rel1 = pd.DataFrame(knnclassifier.cv_results_)\n",
        "# rel1.sort_values(by=['rank_test_score']).head()"
      ]
    },
    {
      "cell_type": "code",
      "execution_count": 127,
      "metadata": {
        "id": "8VwcFtHdEF8B"
      },
      "outputs": [],
      "source": [
        "# plt.plot(rel1['mean_test_score'])"
      ]
    },
    {
      "cell_type": "code",
      "execution_count": 128,
      "metadata": {
        "id": "sumNROuMEZ-g"
      },
      "outputs": [],
      "source": [
        "y1_pred_knn = knnclassifier.predict(X1_test)"
      ]
    },
    {
      "cell_type": "code",
      "execution_count": 129,
      "metadata": {
        "colab": {
          "base_uri": "https://localhost:8080/"
        },
        "id": "Aur63Q_mJGzL",
        "outputId": "4d0a32b6-c994-4f2f-921a-567334d5183f"
      },
      "outputs": [
        {
          "data": {
            "text/plain": [
              "array([0, 0, 0, ..., 0, 1, 0], dtype=int64)"
            ]
          },
          "execution_count": 129,
          "metadata": {},
          "output_type": "execute_result"
        }
      ],
      "source": [
        "y1_pred_knn"
      ]
    },
    {
      "cell_type": "markdown",
      "metadata": {
        "id": "vLSVj9VIHCWg"
      },
      "source": [
        "### KNN Evaluation"
      ]
    },
    {
      "cell_type": "code",
      "execution_count": 130,
      "metadata": {
        "id": "F_C0cgELHJvn"
      },
      "outputs": [],
      "source": [
        "from sklearn.metrics import accuracy_score, precision_score, recall_score, f1_score, roc_auc_score"
      ]
    },
    {
      "cell_type": "code",
      "execution_count": 131,
      "metadata": {
        "colab": {
          "base_uri": "https://localhost:8080/"
        },
        "id": "hHS59JK1Epde",
        "outputId": "54805e66-7adf-450c-d4b9-537a4b379fe5"
      },
      "outputs": [
        {
          "name": "stdout",
          "output_type": "stream",
          "text": [
            "KNN Score\n",
            "Accuracy: 0.81\n",
            "Precision: 0.57\n",
            "Recall: 0.18\n",
            "f1: 0.27\n",
            "ROC AUC: 0.72\n"
          ]
        }
      ],
      "source": [
        "print('KNN Score')\n",
        "print('Accuracy: {:.2f}'.format(accuracy_score(y1_test, y1_pred_knn)))\n",
        "print('Precision: {:.2f}'.format(precision_score(y1_test, y1_pred_knn)))\n",
        "print('Recall: {:.2f}'.format(recall_score(y1_test, y1_pred_knn)))\n",
        "print('f1: {:.2f}'.format(f1_score(y1_test, y1_pred_knn)))\n",
        "\n",
        "y1_predProba_knn = knnclassifier.predict_proba(X1_test)[::,-1]\n",
        "print('ROC AUC: {:.2f}'.format(roc_auc_score(y1_test, y1_predProba_knn)))"
      ]
    },
    {
      "cell_type": "markdown",
      "metadata": {
        "id": "Dw9hyOYF3vfY"
      },
      "source": [
        "## Logistics Regression"
      ]
    },
    {
      "cell_type": "code",
      "execution_count": 132,
      "metadata": {
        "id": "vRhGjV323zvK"
      },
      "outputs": [],
      "source": [
        "from sklearn.linear_model import LogisticRegression"
      ]
    },
    {
      "cell_type": "code",
      "execution_count": 133,
      "metadata": {
        "id": "DRNAU33U4fJ9"
      },
      "outputs": [],
      "source": [
        "log1 = LogisticRegression()\n",
        "log1.fit(X1_train, y1_train)\n",
        "y1_pred_log = log1.predict(X1_test)"
      ]
    },
    {
      "cell_type": "markdown",
      "metadata": {
        "id": "uQrQB1a465h-"
      },
      "source": [
        "### Logistic Regression Evaluation"
      ]
    },
    {
      "cell_type": "code",
      "execution_count": 134,
      "metadata": {
        "colab": {
          "base_uri": "https://localhost:8080/"
        },
        "id": "8VMsUeaq5IT6",
        "outputId": "42766476-32be-42bf-d2e7-6bb757f79f12"
      },
      "outputs": [
        {
          "name": "stdout",
          "output_type": "stream",
          "text": [
            "Logistic Regression Score\n",
            "Accuracy: 0.79\n",
            "Precision: 0.34\n",
            "Recall: 0.05\n",
            "f1: 0.08\n",
            "ROC AUC: 0.72\n"
          ]
        }
      ],
      "source": [
        "print('Logistic Regression Score')\n",
        "print('Accuracy: {:.2f}'.format(accuracy_score(y1_test, y1_pred_log)))\n",
        "print('Precision: {:.2f}'.format(precision_score(y1_test, y1_pred_log)))\n",
        "print('Recall: {:.2f}'.format(recall_score(y1_test, y1_pred_log)))\n",
        "print('f1: {:.2f}'.format(f1_score(y1_test, y1_pred_log)))\n",
        "\n",
        "y1_predProba_log = log1.predict_proba(X1_test)[::,-1]\n",
        "print('ROC AUC: {:.2f}'.format(roc_auc_score(y1_test, y1_predProba_log)))"
      ]
    },
    {
      "cell_type": "markdown",
      "metadata": {
        "id": "ebt3DkDD8FoH"
      },
      "source": [
        "## SVC"
      ]
    },
    {
      "cell_type": "code",
      "execution_count": 135,
      "metadata": {
        "id": "FOfTHoC98HqT"
      },
      "outputs": [],
      "source": [
        "from sklearn.svm import SVC"
      ]
    },
    {
      "cell_type": "code",
      "execution_count": 136,
      "metadata": {
        "id": "P6n7KFom9geX"
      },
      "outputs": [],
      "source": [
        "svc1 = SVC(probability=True)\n",
        "svc1.fit(X1_train, y1_train)\n",
        "y1_pred_svc = svc1.predict(X1_test)"
      ]
    },
    {
      "cell_type": "markdown",
      "metadata": {
        "id": "YJ4bCPdx_t31"
      },
      "source": [
        "### SVC Evaluation"
      ]
    },
    {
      "cell_type": "code",
      "execution_count": 137,
      "metadata": {
        "colab": {
          "base_uri": "https://localhost:8080/"
        },
        "id": "LXlW2VBf-qCF",
        "outputId": "bf2a95f8-ca10-4cf7-a9ce-b7e4b30a95cc"
      },
      "outputs": [
        {
          "name": "stdout",
          "output_type": "stream",
          "text": [
            "SVC Score\n",
            "Accuracy: 0.80\n",
            "Precision: 0.59\n",
            "Recall: 0.13\n",
            "f1: 0.22\n",
            "ROC AUC: 0.55\n"
          ]
        }
      ],
      "source": [
        "print('SVC Score')\n",
        "print('Accuracy: {:.2f}'.format(accuracy_score(y1_test, y1_pred_svc)))\n",
        "print('Precision: {:.2f}'.format(precision_score(y1_test, y1_pred_svc)))\n",
        "print('Recall: {:.2f}'.format(recall_score(y1_test, y1_pred_svc)))\n",
        "print('f1: {:.2f}'.format(f1_score(y1_test, y1_pred_svc)))\n",
        "\n",
        "y1_predProba_svc = svc1.predict_proba(X1_test)[::,-1]\n",
        "print('ROC AUC: {:.2f}'.format(roc_auc_score(y1_test, y1_pred_svc)))"
      ]
    },
    {
      "cell_type": "markdown",
      "metadata": {
        "id": "loPRJRUzA-CC"
      },
      "source": [
        "## Decision Tree"
      ]
    },
    {
      "cell_type": "code",
      "execution_count": 138,
      "metadata": {
        "id": "GikRerMbBAlv"
      },
      "outputs": [],
      "source": [
        "from sklearn.tree import DecisionTreeClassifier"
      ]
    },
    {
      "cell_type": "code",
      "execution_count": 139,
      "metadata": {
        "id": "54vrqg2ccWcG"
      },
      "outputs": [],
      "source": [
        "dectree1 = DecisionTreeClassifier()\n",
        "dectree1.fit(X1_train, y1_train)\n",
        "y1_pred_dectree = dectree1.predict(X1_test)"
      ]
    },
    {
      "cell_type": "code",
      "execution_count": 140,
      "metadata": {
        "colab": {
          "base_uri": "https://localhost:8080/"
        },
        "id": "HIhSMEiTcxZa",
        "outputId": "fab7b5fa-774e-4ba1-a80c-0aaa4bcd3f6e"
      },
      "outputs": [
        {
          "data": {
            "text/plain": [
              "array([1., 0., 1., ..., 0., 0., 0.])"
            ]
          },
          "execution_count": 140,
          "metadata": {},
          "output_type": "execute_result"
        }
      ],
      "source": [
        "y1_predProba_dectree = dectree1.predict_proba(X1_test)[::,-1]\n",
        "y1_predProba_dectree"
      ]
    },
    {
      "cell_type": "markdown",
      "metadata": {
        "id": "woPQUEA-hfR_"
      },
      "source": [
        "### Decision Tree Evaluation"
      ]
    },
    {
      "cell_type": "code",
      "execution_count": 141,
      "metadata": {
        "colab": {
          "base_uri": "https://localhost:8080/"
        },
        "id": "N40S4n-mc9Ki",
        "outputId": "8698b31c-b9d0-40fe-c040-10fccf9ebbfb"
      },
      "outputs": [
        {
          "name": "stdout",
          "output_type": "stream",
          "text": [
            "Decision Tree Score\n",
            "Accuracy: 0.73\n",
            "Precision: 0.33\n",
            "Recall: 0.34\n",
            "f1: 0.33\n",
            "ROC AUC: 0.58\n"
          ]
        }
      ],
      "source": [
        "print('Decision Tree Score')\n",
        "print('Accuracy: {:.2f}'.format(accuracy_score(y1_test, y1_pred_dectree)))\n",
        "print('Precision: {:.2f}'.format(precision_score(y1_test, y1_pred_dectree)))\n",
        "print('Recall: {:.2f}'.format(recall_score(y1_test, y1_pred_dectree)))\n",
        "print('f1: {:.2f}'.format(f1_score(y1_test, y1_pred_dectree)))\n",
        "\n",
        "print('ROC AUC: {:.2f}'.format(roc_auc_score(y1_test, y1_predProba_dectree)))"
      ]
    },
    {
      "cell_type": "markdown",
      "metadata": {
        "id": "yAC1Qot5hzKy"
      },
      "source": [
        "## Random Forest"
      ]
    },
    {
      "cell_type": "code",
      "execution_count": 142,
      "metadata": {
        "id": "M2paNdXzh2gW"
      },
      "outputs": [],
      "source": [
        "from sklearn.ensemble import RandomForestClassifier"
      ]
    },
    {
      "cell_type": "code",
      "execution_count": 143,
      "metadata": {
        "id": "eEjteQyVh8Ih"
      },
      "outputs": [],
      "source": [
        "rf1 = RandomForestClassifier()\n",
        "rf1.fit(X1_train, y1_train)\n",
        "y1_pred_rf = rf1.predict(X1_test)"
      ]
    },
    {
      "cell_type": "code",
      "execution_count": 144,
      "metadata": {
        "colab": {
          "base_uri": "https://localhost:8080/"
        },
        "id": "6VE_X6EaiNe2",
        "outputId": "c28a3df4-7750-4bd0-dcf6-011eeb9703da"
      },
      "outputs": [
        {
          "data": {
            "text/plain": [
              "array([0.27, 0.  , 0.58, ..., 0.25, 0.28, 0.1 ])"
            ]
          },
          "execution_count": 144,
          "metadata": {},
          "output_type": "execute_result"
        }
      ],
      "source": [
        "y1_predProba_rf = rf1.predict_proba(X1_test)[::,-1]\n",
        "y1_predProba_rf"
      ]
    },
    {
      "cell_type": "markdown",
      "metadata": {
        "id": "b_d4xDs1jAQh"
      },
      "source": [
        "### Random Forest Evaluation"
      ]
    },
    {
      "cell_type": "code",
      "execution_count": 145,
      "metadata": {
        "colab": {
          "base_uri": "https://localhost:8080/"
        },
        "id": "JfRqoZHqiS1K",
        "outputId": "759f08ec-aa8f-40a0-8e46-7acd93189865"
      },
      "outputs": [
        {
          "name": "stdout",
          "output_type": "stream",
          "text": [
            "Random Forest Score\n",
            "Accuracy: 0.79\n",
            "Precision: 0.48\n",
            "Recall: 0.27\n",
            "f1: 0.34\n",
            "ROC AUC: 0.70\n"
          ]
        }
      ],
      "source": [
        "print('Random Forest Score')\n",
        "print('Accuracy: {:.2f}'.format(accuracy_score(y1_test, y1_pred_rf)))\n",
        "print('Precision: {:.2f}'.format(precision_score(y1_test, y1_pred_rf)))\n",
        "print('Recall: {:.2f}'.format(recall_score(y1_test, y1_pred_rf)))\n",
        "print('f1: {:.2f}'.format(f1_score(y1_test, y1_pred_rf)))\n",
        "\n",
        "print('ROC AUC: {:.2f}'.format(roc_auc_score(y1_test, y1_predProba_rf)))"
      ]
    },
    {
      "cell_type": "markdown",
      "metadata": {
        "id": "E0bTNCWYvhhr"
      },
      "source": [
        "# Treating Imbalance Data"
      ]
    },
    {
      "cell_type": "code",
      "execution_count": 146,
      "metadata": {
        "id": "NqAXINPqMU7i"
      },
      "outputs": [],
      "source": [
        "X2 = df1.drop('Exited', axis=1)\n",
        "y2 = df1['Exited']"
      ]
    },
    {
      "cell_type": "code",
      "execution_count": 147,
      "metadata": {
        "id": "w1MYdVMWwwmm"
      },
      "outputs": [],
      "source": [
        "from imblearn.over_sampling import SMOTE"
      ]
    },
    {
      "cell_type": "code",
      "execution_count": 148,
      "metadata": {
        "id": "TAhEJ5mPQ1fa"
      },
      "outputs": [],
      "source": [
        "X2_smote, y2_smote = SMOTE().fit_resample(X2, y2)"
      ]
    },
    {
      "cell_type": "code",
      "execution_count": 149,
      "metadata": {
        "colab": {
          "base_uri": "https://localhost:8080/"
        },
        "id": "BVUnLPurSCIU",
        "outputId": "8d579fd0-6e33-411b-ee89-a19179dd2aac"
      },
      "outputs": [
        {
          "data": {
            "text/plain": [
              "1    7963\n",
              "0    7963\n",
              "Name: Exited, dtype: int64"
            ]
          },
          "execution_count": 149,
          "metadata": {},
          "output_type": "execute_result"
        }
      ],
      "source": [
        "y2_smote.value_counts()"
      ]
    },
    {
      "cell_type": "markdown",
      "metadata": {
        "id": "-VTL7pedS3ej"
      },
      "source": [
        "**Train-Test Balanced Data Split**"
      ]
    },
    {
      "cell_type": "code",
      "execution_count": 150,
      "metadata": {
        "id": "EGgHJO-HRVHi"
      },
      "outputs": [],
      "source": [
        "X2_train, X2_test, y2_train, y2_test = train_test_split(X2_smote, y2_smote, test_size=0.35, random_state=123)"
      ]
    },
    {
      "cell_type": "code",
      "execution_count": 151,
      "metadata": {
        "id": "Gmfd5y1CRpSy"
      },
      "outputs": [],
      "source": [
        "# Feature Scaling\n",
        "X2_train = ss.fit_transform(X2_train)\n",
        "X2_test = ss.fit_transform(X2_test)"
      ]
    },
    {
      "cell_type": "markdown",
      "metadata": {
        "id": "fN6j5McyhnUF"
      },
      "source": [
        "## KNN (Balanced)"
      ]
    },
    {
      "cell_type": "code",
      "execution_count": 152,
      "metadata": {
        "id": "HJdVd99Uhmyq"
      },
      "outputs": [],
      "source": [
        "knn2 = KNeighborsClassifier()"
      ]
    },
    {
      "cell_type": "code",
      "execution_count": 153,
      "metadata": {
        "id": "R9qaCA6LhzpS"
      },
      "outputs": [],
      "source": [
        "knnclassifier2 = GridSearchCV(knn2, parameters, cv=10)"
      ]
    },
    {
      "cell_type": "code",
      "execution_count": 154,
      "metadata": {
        "colab": {
          "base_uri": "https://localhost:8080/"
        },
        "id": "xco4Aqv_h7Nb",
        "outputId": "e73c3dbd-13c2-405a-bae5-e67f8e09692a"
      },
      "outputs": [
        {
          "data": {
            "text/html": [
              "<style>#sk-container-id-4 {color: black;background-color: white;}#sk-container-id-4 pre{padding: 0;}#sk-container-id-4 div.sk-toggleable {background-color: white;}#sk-container-id-4 label.sk-toggleable__label {cursor: pointer;display: block;width: 100%;margin-bottom: 0;padding: 0.3em;box-sizing: border-box;text-align: center;}#sk-container-id-4 label.sk-toggleable__label-arrow:before {content: \"▸\";float: left;margin-right: 0.25em;color: #696969;}#sk-container-id-4 label.sk-toggleable__label-arrow:hover:before {color: black;}#sk-container-id-4 div.sk-estimator:hover label.sk-toggleable__label-arrow:before {color: black;}#sk-container-id-4 div.sk-toggleable__content {max-height: 0;max-width: 0;overflow: hidden;text-align: left;background-color: #f0f8ff;}#sk-container-id-4 div.sk-toggleable__content pre {margin: 0.2em;color: black;border-radius: 0.25em;background-color: #f0f8ff;}#sk-container-id-4 input.sk-toggleable__control:checked~div.sk-toggleable__content {max-height: 200px;max-width: 100%;overflow: auto;}#sk-container-id-4 input.sk-toggleable__control:checked~label.sk-toggleable__label-arrow:before {content: \"▾\";}#sk-container-id-4 div.sk-estimator input.sk-toggleable__control:checked~label.sk-toggleable__label {background-color: #d4ebff;}#sk-container-id-4 div.sk-label input.sk-toggleable__control:checked~label.sk-toggleable__label {background-color: #d4ebff;}#sk-container-id-4 input.sk-hidden--visually {border: 0;clip: rect(1px 1px 1px 1px);clip: rect(1px, 1px, 1px, 1px);height: 1px;margin: -1px;overflow: hidden;padding: 0;position: absolute;width: 1px;}#sk-container-id-4 div.sk-estimator {font-family: monospace;background-color: #f0f8ff;border: 1px dotted black;border-radius: 0.25em;box-sizing: border-box;margin-bottom: 0.5em;}#sk-container-id-4 div.sk-estimator:hover {background-color: #d4ebff;}#sk-container-id-4 div.sk-parallel-item::after {content: \"\";width: 100%;border-bottom: 1px solid gray;flex-grow: 1;}#sk-container-id-4 div.sk-label:hover label.sk-toggleable__label {background-color: #d4ebff;}#sk-container-id-4 div.sk-serial::before {content: \"\";position: absolute;border-left: 1px solid gray;box-sizing: border-box;top: 0;bottom: 0;left: 50%;z-index: 0;}#sk-container-id-4 div.sk-serial {display: flex;flex-direction: column;align-items: center;background-color: white;padding-right: 0.2em;padding-left: 0.2em;position: relative;}#sk-container-id-4 div.sk-item {position: relative;z-index: 1;}#sk-container-id-4 div.sk-parallel {display: flex;align-items: stretch;justify-content: center;background-color: white;position: relative;}#sk-container-id-4 div.sk-item::before, #sk-container-id-4 div.sk-parallel-item::before {content: \"\";position: absolute;border-left: 1px solid gray;box-sizing: border-box;top: 0;bottom: 0;left: 50%;z-index: -1;}#sk-container-id-4 div.sk-parallel-item {display: flex;flex-direction: column;z-index: 1;position: relative;background-color: white;}#sk-container-id-4 div.sk-parallel-item:first-child::after {align-self: flex-end;width: 50%;}#sk-container-id-4 div.sk-parallel-item:last-child::after {align-self: flex-start;width: 50%;}#sk-container-id-4 div.sk-parallel-item:only-child::after {width: 0;}#sk-container-id-4 div.sk-dashed-wrapped {border: 1px dashed gray;margin: 0 0.4em 0.5em 0.4em;box-sizing: border-box;padding-bottom: 0.4em;background-color: white;}#sk-container-id-4 div.sk-label label {font-family: monospace;font-weight: bold;display: inline-block;line-height: 1.2em;}#sk-container-id-4 div.sk-label-container {text-align: center;}#sk-container-id-4 div.sk-container {/* jupyter's `normalize.less` sets `[hidden] { display: none; }` but bootstrap.min.css set `[hidden] { display: none !important; }` so we also need the `!important` here to be able to override the default hidden behavior on the sphinx rendered scikit-learn.org. See: https://github.com/scikit-learn/scikit-learn/issues/21755 */display: inline-block !important;position: relative;}#sk-container-id-4 div.sk-text-repr-fallback {display: none;}</style><div id=\"sk-container-id-4\" class=\"sk-top-container\"><div class=\"sk-text-repr-fallback\"><pre>GridSearchCV(cv=10, estimator=KNeighborsClassifier(),\n",
              "             param_grid={&#x27;n_neighbors&#x27;: array([ 1,  2,  3,  4,  5,  6,  7,  8,  9, 10, 11, 12, 13, 14, 15, 16, 17,\n",
              "       18, 19, 20, 21, 22, 23, 24, 25, 26, 27, 28, 29, 30, 31, 32, 33, 34,\n",
              "       35, 36, 37, 38, 39, 40, 41, 42, 43, 44, 45, 46, 47, 48, 49, 50, 51,\n",
              "       52, 53, 54, 55, 56, 57, 58, 59, 60, 61, 62, 63, 64, 65, 66, 67, 68,\n",
              "       69, 70, 71, 72, 73, 74, 75, 76, 77, 78, 79, 80, 81, 82, 83, 84, 85,\n",
              "       86, 87, 88, 89, 90, 91, 92, 93, 94, 95, 96, 97, 98, 99])})</pre><b>In a Jupyter environment, please rerun this cell to show the HTML representation or trust the notebook. <br />On GitHub, the HTML representation is unable to render, please try loading this page with nbviewer.org.</b></div><div class=\"sk-container\" hidden><div class=\"sk-item sk-dashed-wrapped\"><div class=\"sk-label-container\"><div class=\"sk-label sk-toggleable\"><input class=\"sk-toggleable__control sk-hidden--visually\" id=\"sk-estimator-id-10\" type=\"checkbox\" ><label for=\"sk-estimator-id-10\" class=\"sk-toggleable__label sk-toggleable__label-arrow\">GridSearchCV</label><div class=\"sk-toggleable__content\"><pre>GridSearchCV(cv=10, estimator=KNeighborsClassifier(),\n",
              "             param_grid={&#x27;n_neighbors&#x27;: array([ 1,  2,  3,  4,  5,  6,  7,  8,  9, 10, 11, 12, 13, 14, 15, 16, 17,\n",
              "       18, 19, 20, 21, 22, 23, 24, 25, 26, 27, 28, 29, 30, 31, 32, 33, 34,\n",
              "       35, 36, 37, 38, 39, 40, 41, 42, 43, 44, 45, 46, 47, 48, 49, 50, 51,\n",
              "       52, 53, 54, 55, 56, 57, 58, 59, 60, 61, 62, 63, 64, 65, 66, 67, 68,\n",
              "       69, 70, 71, 72, 73, 74, 75, 76, 77, 78, 79, 80, 81, 82, 83, 84, 85,\n",
              "       86, 87, 88, 89, 90, 91, 92, 93, 94, 95, 96, 97, 98, 99])})</pre></div></div></div><div class=\"sk-parallel\"><div class=\"sk-parallel-item\"><div class=\"sk-item\"><div class=\"sk-label-container\"><div class=\"sk-label sk-toggleable\"><input class=\"sk-toggleable__control sk-hidden--visually\" id=\"sk-estimator-id-11\" type=\"checkbox\" ><label for=\"sk-estimator-id-11\" class=\"sk-toggleable__label sk-toggleable__label-arrow\">estimator: KNeighborsClassifier</label><div class=\"sk-toggleable__content\"><pre>KNeighborsClassifier()</pre></div></div></div><div class=\"sk-serial\"><div class=\"sk-item\"><div class=\"sk-estimator sk-toggleable\"><input class=\"sk-toggleable__control sk-hidden--visually\" id=\"sk-estimator-id-12\" type=\"checkbox\" ><label for=\"sk-estimator-id-12\" class=\"sk-toggleable__label sk-toggleable__label-arrow\">KNeighborsClassifier</label><div class=\"sk-toggleable__content\"><pre>KNeighborsClassifier()</pre></div></div></div></div></div></div></div></div></div></div>"
            ],
            "text/plain": [
              "GridSearchCV(cv=10, estimator=KNeighborsClassifier(),\n",
              "             param_grid={'n_neighbors': array([ 1,  2,  3,  4,  5,  6,  7,  8,  9, 10, 11, 12, 13, 14, 15, 16, 17,\n",
              "       18, 19, 20, 21, 22, 23, 24, 25, 26, 27, 28, 29, 30, 31, 32, 33, 34,\n",
              "       35, 36, 37, 38, 39, 40, 41, 42, 43, 44, 45, 46, 47, 48, 49, 50, 51,\n",
              "       52, 53, 54, 55, 56, 57, 58, 59, 60, 61, 62, 63, 64, 65, 66, 67, 68,\n",
              "       69, 70, 71, 72, 73, 74, 75, 76, 77, 78, 79, 80, 81, 82, 83, 84, 85,\n",
              "       86, 87, 88, 89, 90, 91, 92, 93, 94, 95, 96, 97, 98, 99])})"
            ]
          },
          "execution_count": 154,
          "metadata": {},
          "output_type": "execute_result"
        }
      ],
      "source": [
        "knnclassifier2.fit(X2_train, y2_train)"
      ]
    },
    {
      "cell_type": "code",
      "execution_count": 155,
      "metadata": {
        "colab": {
          "base_uri": "https://localhost:8080/"
        },
        "id": "AWOPqXHyio5l",
        "outputId": "352c171c-7f9e-4804-bf9b-00449a565cd6"
      },
      "outputs": [
        {
          "name": "stdout",
          "output_type": "stream",
          "text": [
            "0.7361600731165947\n",
            "{'n_neighbors': 66}\n"
          ]
        }
      ],
      "source": [
        "print(knnclassifier2.best_score_)\n",
        "print(knnclassifier2.best_params_)"
      ]
    },
    {
      "cell_type": "code",
      "execution_count": 156,
      "metadata": {
        "id": "kiGV9Ctvjdm8"
      },
      "outputs": [],
      "source": [
        "y2_pred_knn = knnclassifier2.predict(X2_test)"
      ]
    },
    {
      "cell_type": "code",
      "execution_count": 157,
      "metadata": {
        "id": "_aZdPSelkZwY"
      },
      "outputs": [],
      "source": [
        "y2_predProba_knn = knnclassifier2.predict_proba(X2_test)[::,-1]"
      ]
    },
    {
      "cell_type": "code",
      "execution_count": 158,
      "metadata": {
        "colab": {
          "base_uri": "https://localhost:8080/"
        },
        "id": "iC1NtHkqki3X",
        "outputId": "e9149ddc-3204-449c-ffa6-339a18bf165c"
      },
      "outputs": [
        {
          "data": {
            "text/plain": [
              "array([0.45454545, 0.66666667, 0.60606061, ..., 0.68181818, 0.24242424,\n",
              "       0.95454545])"
            ]
          },
          "execution_count": 158,
          "metadata": {},
          "output_type": "execute_result"
        }
      ],
      "source": [
        "y2_predProba_knn"
      ]
    },
    {
      "cell_type": "markdown",
      "metadata": {
        "id": "HLis3CA6lakW"
      },
      "source": [
        "### KNN (Balanced) Evaluation"
      ]
    },
    {
      "cell_type": "code",
      "execution_count": 159,
      "metadata": {
        "colab": {
          "base_uri": "https://localhost:8080/"
        },
        "id": "4O_C_g6Bj7Tz",
        "outputId": "ad36ffe0-348e-4d58-b2e3-100620c77963"
      },
      "outputs": [
        {
          "name": "stdout",
          "output_type": "stream",
          "text": [
            "KNN Score (Balanced)\n",
            "Accuracy: 0.73\n",
            "Precision: 0.72\n",
            "Recall: 0.75\n",
            "f1: 0.74\n",
            "ROC AUC: 0.81\n"
          ]
        }
      ],
      "source": [
        "print('KNN Score (Balanced)')\n",
        "print('Accuracy: {:.2f}'.format(accuracy_score(y2_test, y2_pred_knn)))\n",
        "print('Precision: {:.2f}'.format(precision_score(y2_test, y2_pred_knn)))\n",
        "print('Recall: {:.2f}'.format(recall_score(y2_test, y2_pred_knn)))\n",
        "print('f1: {:.2f}'.format(f1_score(y2_test, y2_pred_knn)))\n",
        "print('ROC AUC: {:.2f}'.format(roc_auc_score(y2_test, y2_predProba_knn)))"
      ]
    },
    {
      "cell_type": "markdown",
      "metadata": {
        "id": "OZf4q4t_7Kcy"
      },
      "source": [
        "## LR (Balanced)"
      ]
    },
    {
      "cell_type": "code",
      "execution_count": 160,
      "metadata": {
        "id": "tptZHCUa7PMu"
      },
      "outputs": [],
      "source": [
        "log2 = LogisticRegression()\n",
        "log2.fit(X2_train, y2_train)\n",
        "y2_pred_log = log2.predict(X2_test)"
      ]
    },
    {
      "cell_type": "markdown",
      "metadata": {
        "id": "KxhEVHoJ78A-"
      },
      "source": [
        "### LR (Balanced) Evaluation"
      ]
    },
    {
      "cell_type": "code",
      "execution_count": 161,
      "metadata": {
        "colab": {
          "base_uri": "https://localhost:8080/"
        },
        "id": "2Zc730c37Jvy",
        "outputId": "b96e9e5b-69e0-4641-c806-7561caeafc13"
      },
      "outputs": [
        {
          "name": "stdout",
          "output_type": "stream",
          "text": [
            "Logistic Regression (Balanced) Score\n",
            "Accuracy: 0.72\n",
            "Precision: 0.71\n",
            "Recall: 0.74\n",
            "f1: 0.72\n",
            "ROC AUC: 0.79\n"
          ]
        }
      ],
      "source": [
        "print('Logistic Regression (Balanced) Score')\n",
        "print('Accuracy: {:.2f}'.format(accuracy_score(y2_test, y2_pred_log)))\n",
        "print('Precision: {:.2f}'.format(precision_score(y2_test, y2_pred_log)))\n",
        "print('Recall: {:.2f}'.format(recall_score(y2_test, y2_pred_log)))\n",
        "print('f1: {:.2f}'.format(f1_score(y2_test, y2_pred_log)))\n",
        "\n",
        "y2_predProba_log = log2.predict_proba(X2_test)[::,-1]\n",
        "print('ROC AUC: {:.2f}'.format(roc_auc_score(y2_test, y2_predProba_log)))"
      ]
    },
    {
      "cell_type": "markdown",
      "metadata": {
        "id": "ga4YcJXe_3T_"
      },
      "source": [
        "## SVC (Balanced)"
      ]
    },
    {
      "cell_type": "code",
      "execution_count": 162,
      "metadata": {
        "id": "ZJ9rAH29_5-3"
      },
      "outputs": [],
      "source": [
        "svc2 = SVC(probability=True)\n",
        "svc2.fit(X2_train, y2_train)\n",
        "y2_pred_svc = svc2.predict(X2_test)"
      ]
    },
    {
      "cell_type": "markdown",
      "metadata": {
        "id": "6Q-TjwZZAHEt"
      },
      "source": [
        "### SVC (Balanced) Evaluation"
      ]
    },
    {
      "cell_type": "code",
      "execution_count": 163,
      "metadata": {
        "colab": {
          "base_uri": "https://localhost:8080/"
        },
        "id": "ijRAt7iiAOsl",
        "outputId": "0a016592-46f9-4c7a-b536-e60b96eec03f"
      },
      "outputs": [
        {
          "name": "stdout",
          "output_type": "stream",
          "text": [
            "SVC (Balanced) Score\n",
            "Accuracy: 0.74\n",
            "Precision: 0.73\n",
            "Recall: 0.77\n",
            "f1: 0.75\n",
            "ROC AUC: 0.81\n"
          ]
        }
      ],
      "source": [
        "print('SVC (Balanced) Score')\n",
        "print('Accuracy: {:.2f}'.format(accuracy_score(y2_test, y2_pred_svc)))\n",
        "print('Precision: {:.2f}'.format(precision_score(y2_test, y2_pred_svc)))\n",
        "print('Recall: {:.2f}'.format(recall_score(y2_test, y2_pred_svc)))\n",
        "print('f1: {:.2f}'.format(f1_score(y2_test, y2_pred_svc)))\n",
        "\n",
        "y2_predProba_svc = svc2.predict_proba(X2_test)[::,-1]\n",
        "print('ROC AUC: {:.2f}'.format(roc_auc_score(y2_test, y2_predProba_svc)))"
      ]
    },
    {
      "cell_type": "markdown",
      "metadata": {
        "id": "fcYYiR9OdRHw"
      },
      "source": [
        "## Decision Tree (Balanced)"
      ]
    },
    {
      "cell_type": "code",
      "execution_count": 164,
      "metadata": {
        "id": "7eYmU3evdUuE"
      },
      "outputs": [],
      "source": [
        "dectree2 = DecisionTreeClassifier()\n",
        "dectree2.fit(X2_train, y2_train)\n",
        "y2_pred_dectree = dectree2.predict(X2_test)"
      ]
    },
    {
      "cell_type": "code",
      "execution_count": 165,
      "metadata": {
        "colab": {
          "base_uri": "https://localhost:8080/"
        },
        "id": "wR8J9Z_kdcKy",
        "outputId": "863a60ca-0797-4d42-ff33-1224e15ba337"
      },
      "outputs": [
        {
          "data": {
            "text/plain": [
              "array([0., 1., 0., ..., 0., 0., 1.])"
            ]
          },
          "execution_count": 165,
          "metadata": {},
          "output_type": "execute_result"
        }
      ],
      "source": [
        "y2_predProba_dectree = dectree2.predict_proba(X2_test)[::,-1]\n",
        "y2_predProba_dectree"
      ]
    },
    {
      "cell_type": "markdown",
      "metadata": {
        "id": "cHWNZFCUd3VU"
      },
      "source": [
        "### Decision Tree (Balanced) Evaluation"
      ]
    },
    {
      "cell_type": "code",
      "execution_count": 166,
      "metadata": {
        "colab": {
          "base_uri": "https://localhost:8080/"
        },
        "id": "1QVOeO6TdjJu",
        "outputId": "0f158f1e-105a-4ac7-b2e1-62be104edf21"
      },
      "outputs": [
        {
          "name": "stdout",
          "output_type": "stream",
          "text": [
            "Decision Tree (Balanced) Score\n",
            "Accuracy: 0.67\n",
            "Precision: 0.68\n",
            "Recall: 0.64\n",
            "f1: 0.66\n",
            "ROC AUC: 0.67\n"
          ]
        }
      ],
      "source": [
        "print('Decision Tree (Balanced) Score')\n",
        "print('Accuracy: {:.2f}'.format(accuracy_score(y2_test, y2_pred_dectree)))\n",
        "print('Precision: {:.2f}'.format(precision_score(y2_test, y2_pred_dectree)))\n",
        "print('Recall: {:.2f}'.format(recall_score(y2_test, y2_pred_dectree)))\n",
        "print('f1: {:.2f}'.format(f1_score(y2_test, y2_pred_dectree)))\n",
        "\n",
        "print('ROC AUC: {:.2f}'.format(roc_auc_score(y2_test, y2_predProba_dectree)))"
      ]
    },
    {
      "cell_type": "markdown",
      "metadata": {
        "id": "hpfv8Fb9iklZ"
      },
      "source": [
        "## Random Forest (Balanced)"
      ]
    },
    {
      "cell_type": "code",
      "execution_count": 167,
      "metadata": {
        "id": "P7yyH8Bwio4n"
      },
      "outputs": [],
      "source": [
        "rf2 = RandomForestClassifier()\n",
        "rf2.fit(X2_train, y2_train)\n",
        "y2_pred_rf = rf2.predict(X2_test)"
      ]
    },
    {
      "cell_type": "code",
      "execution_count": 168,
      "metadata": {
        "colab": {
          "base_uri": "https://localhost:8080/"
        },
        "id": "wUV_rUeMiy0a",
        "outputId": "9fc9c2a8-e70b-40ec-f784-f19c1d62af01"
      },
      "outputs": [
        {
          "data": {
            "text/plain": [
              "array([0.46, 0.42, 0.6 , ..., 0.27, 0.32, 0.99])"
            ]
          },
          "execution_count": 168,
          "metadata": {},
          "output_type": "execute_result"
        }
      ],
      "source": [
        "y2_predProba_rf = rf2.predict_proba(X2_test)[::,-1]\n",
        "y2_predProba_rf"
      ]
    },
    {
      "cell_type": "markdown",
      "metadata": {
        "id": "hGRiJ4WqjTr3"
      },
      "source": [
        "### Random Forest (Balanced) Evaluation"
      ]
    },
    {
      "cell_type": "code",
      "execution_count": 169,
      "metadata": {
        "colab": {
          "base_uri": "https://localhost:8080/"
        },
        "id": "rGdkUqT9i-s_",
        "outputId": "024f8846-13d3-4ccb-e742-3bccde634982"
      },
      "outputs": [
        {
          "name": "stdout",
          "output_type": "stream",
          "text": [
            "Random Forest (Balanced) Score\n",
            "Accuracy: 0.74\n",
            "Precision: 0.73\n",
            "Recall: 0.73\n",
            "f1: 0.73\n",
            "ROC AUC: 0.82\n"
          ]
        }
      ],
      "source": [
        "print('Random Forest (Balanced) Score')\n",
        "print('Accuracy: {:.2f}'.format(accuracy_score(y2_test, y2_pred_rf)))\n",
        "print('Precision: {:.2f}'.format(precision_score(y2_test, y2_pred_rf)))\n",
        "print('Recall: {:.2f}'.format(recall_score(y2_test, y2_pred_rf)))\n",
        "print('f1: {:.2f}'.format(f1_score(y2_test, y2_pred_rf)))\n",
        "\n",
        "print('ROC AUC: {:.2f}'.format(roc_auc_score(y2_test, y2_predProba_rf)))"
      ]
    },
    {
      "cell_type": "markdown",
      "metadata": {},
      "source": [
        "# Saving Model"
      ]
    },
    {
      "cell_type": "code",
      "execution_count": 170,
      "metadata": {},
      "outputs": [],
      "source": [
        "import pickle"
      ]
    },
    {
      "cell_type": "code",
      "execution_count": 171,
      "metadata": {},
      "outputs": [],
      "source": [
        "# ubah ke pick\n",
        "pickle.dump(rf2, open('model.pkl', 'wb'))"
      ]
    }
  ],
  "metadata": {
    "colab": {
      "collapsed_sections": [
        "YmufYMavcm-M",
        "Yh9S3jjLbqci",
        "udLOj40ckI7Z",
        "jPT98TY5UoxT"
      ],
      "provenance": [],
      "toc_visible": true
    },
    "kernelspec": {
      "display_name": "Python 3.10.8 64-bit",
      "language": "python",
      "name": "python3"
    },
    "language_info": {
      "codemirror_mode": {
        "name": "ipython",
        "version": 3
      },
      "file_extension": ".py",
      "mimetype": "text/x-python",
      "name": "python",
      "nbconvert_exporter": "python",
      "pygments_lexer": "ipython3",
      "version": "3.10.8"
    },
    "vscode": {
      "interpreter": {
        "hash": "876db7d3f8682b7e4c5477e5f1e2dc2bd1b19fe05d9aabd59218369070754b39"
      }
    }
  },
  "nbformat": 4,
  "nbformat_minor": 0
}
