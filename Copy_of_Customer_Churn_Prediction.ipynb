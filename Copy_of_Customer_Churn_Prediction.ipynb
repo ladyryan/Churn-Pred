{
 "cells": [
  {
   "cell_type": "code",
   "execution_count": 1,
   "metadata": {
    "id": "rPdXuXRl-rFq"
   },
   "outputs": [],
   "source": [
    "import pandas as pd\n",
    "import numpy as np\n",
    "import matplotlib.pyplot as plt\n",
    "%matplotlib inline\n",
    "import seaborn as sns\n",
    "import scipy.stats\n",
    "import warnings\n",
    "import pickle\n",
    "warnings.filterwarnings('ignore')"
   ]
  },
  {
   "cell_type": "markdown",
   "metadata": {
    "id": "hzFuCybojmdt"
   },
   "source": [
    "# Input Data"
   ]
  },
  {
   "cell_type": "code",
   "execution_count": 3,
   "metadata": {
    "colab": {
     "base_uri": "https://localhost:8080/",
     "height": 424
    },
    "id": "Etw_u3iS_K0f",
    "outputId": "0f86aee6-99bb-486d-ee5f-1ca182a9e127"
   },
   "outputs": [
    {
     "data": {
      "text/html": [
       "<div>\n",
       "<style scoped>\n",
       "    .dataframe tbody tr th:only-of-type {\n",
       "        vertical-align: middle;\n",
       "    }\n",
       "\n",
       "    .dataframe tbody tr th {\n",
       "        vertical-align: top;\n",
       "    }\n",
       "\n",
       "    .dataframe thead th {\n",
       "        text-align: right;\n",
       "    }\n",
       "</style>\n",
       "<table border=\"1\" class=\"dataframe\">\n",
       "  <thead>\n",
       "    <tr style=\"text-align: right;\">\n",
       "      <th></th>\n",
       "      <th>CustomerId</th>\n",
       "      <th>Gender</th>\n",
       "      <th>Age</th>\n",
       "      <th>CreditScore</th>\n",
       "      <th>EstimatedSalary</th>\n",
       "      <th>HasCrCard</th>\n",
       "      <th>Exited</th>\n",
       "    </tr>\n",
       "  </thead>\n",
       "  <tbody>\n",
       "    <tr>\n",
       "      <th>0</th>\n",
       "      <td>15634602</td>\n",
       "      <td>Female</td>\n",
       "      <td>42</td>\n",
       "      <td>619</td>\n",
       "      <td>101348.88</td>\n",
       "      <td>1</td>\n",
       "      <td>1</td>\n",
       "    </tr>\n",
       "    <tr>\n",
       "      <th>1</th>\n",
       "      <td>15647311</td>\n",
       "      <td>Female</td>\n",
       "      <td>41</td>\n",
       "      <td>608</td>\n",
       "      <td>112542.58</td>\n",
       "      <td>0</td>\n",
       "      <td>0</td>\n",
       "    </tr>\n",
       "    <tr>\n",
       "      <th>2</th>\n",
       "      <td>15619304</td>\n",
       "      <td>Female</td>\n",
       "      <td>42</td>\n",
       "      <td>502</td>\n",
       "      <td>113931.57</td>\n",
       "      <td>1</td>\n",
       "      <td>1</td>\n",
       "    </tr>\n",
       "    <tr>\n",
       "      <th>3</th>\n",
       "      <td>15701354</td>\n",
       "      <td>Female</td>\n",
       "      <td>39</td>\n",
       "      <td>699</td>\n",
       "      <td>93826.63</td>\n",
       "      <td>0</td>\n",
       "      <td>0</td>\n",
       "    </tr>\n",
       "    <tr>\n",
       "      <th>4</th>\n",
       "      <td>15737888</td>\n",
       "      <td>Female</td>\n",
       "      <td>43</td>\n",
       "      <td>850</td>\n",
       "      <td>79084.10</td>\n",
       "      <td>1</td>\n",
       "      <td>0</td>\n",
       "    </tr>\n",
       "    <tr>\n",
       "      <th>...</th>\n",
       "      <td>...</td>\n",
       "      <td>...</td>\n",
       "      <td>...</td>\n",
       "      <td>...</td>\n",
       "      <td>...</td>\n",
       "      <td>...</td>\n",
       "      <td>...</td>\n",
       "    </tr>\n",
       "    <tr>\n",
       "      <th>9995</th>\n",
       "      <td>15606229</td>\n",
       "      <td>Male</td>\n",
       "      <td>39</td>\n",
       "      <td>771</td>\n",
       "      <td>96270.64</td>\n",
       "      <td>1</td>\n",
       "      <td>0</td>\n",
       "    </tr>\n",
       "    <tr>\n",
       "      <th>9996</th>\n",
       "      <td>15569892</td>\n",
       "      <td>Male</td>\n",
       "      <td>35</td>\n",
       "      <td>516</td>\n",
       "      <td>101699.77</td>\n",
       "      <td>1</td>\n",
       "      <td>0</td>\n",
       "    </tr>\n",
       "    <tr>\n",
       "      <th>9997</th>\n",
       "      <td>15584532</td>\n",
       "      <td>Female</td>\n",
       "      <td>36</td>\n",
       "      <td>709</td>\n",
       "      <td>42085.58</td>\n",
       "      <td>0</td>\n",
       "      <td>1</td>\n",
       "    </tr>\n",
       "    <tr>\n",
       "      <th>9998</th>\n",
       "      <td>15682355</td>\n",
       "      <td>Male</td>\n",
       "      <td>42</td>\n",
       "      <td>772</td>\n",
       "      <td>92888.52</td>\n",
       "      <td>1</td>\n",
       "      <td>1</td>\n",
       "    </tr>\n",
       "    <tr>\n",
       "      <th>9999</th>\n",
       "      <td>15628319</td>\n",
       "      <td>Female</td>\n",
       "      <td>28</td>\n",
       "      <td>792</td>\n",
       "      <td>38190.78</td>\n",
       "      <td>1</td>\n",
       "      <td>0</td>\n",
       "    </tr>\n",
       "  </tbody>\n",
       "</table>\n",
       "<p>10000 rows × 7 columns</p>\n",
       "</div>"
      ],
      "text/plain": [
       "      CustomerId  Gender  Age  CreditScore  EstimatedSalary  HasCrCard  Exited\n",
       "0       15634602  Female   42          619        101348.88          1       1\n",
       "1       15647311  Female   41          608        112542.58          0       0\n",
       "2       15619304  Female   42          502        113931.57          1       1\n",
       "3       15701354  Female   39          699         93826.63          0       0\n",
       "4       15737888  Female   43          850         79084.10          1       0\n",
       "...          ...     ...  ...          ...              ...        ...     ...\n",
       "9995    15606229    Male   39          771         96270.64          1       0\n",
       "9996    15569892    Male   35          516        101699.77          1       0\n",
       "9997    15584532  Female   36          709         42085.58          0       1\n",
       "9998    15682355    Male   42          772         92888.52          1       1\n",
       "9999    15628319  Female   28          792         38190.78          1       0\n",
       "\n",
       "[10000 rows x 7 columns]"
      ]
     },
     "execution_count": 3,
     "metadata": {},
     "output_type": "execute_result"
    }
   ],
   "source": [
    "df = pd.read_csv('Dataset1_Customer_Churn.csv')\n",
    "df"
   ]
  },
  {
   "cell_type": "code",
   "execution_count": 4,
   "metadata": {
    "colab": {
     "base_uri": "https://localhost:8080/"
    },
    "id": "CGS4wKb9_0VJ",
    "outputId": "5dd552fe-6659-495e-d668-332d3dcee18a"
   },
   "outputs": [
    {
     "data": {
      "text/plain": [
       "CustomerId         0\n",
       "Gender             0\n",
       "Age                0\n",
       "CreditScore        0\n",
       "EstimatedSalary    0\n",
       "HasCrCard          0\n",
       "Exited             0\n",
       "dtype: int64"
      ]
     },
     "execution_count": 4,
     "metadata": {},
     "output_type": "execute_result"
    }
   ],
   "source": [
    "df.isnull().sum()"
   ]
  },
  {
   "cell_type": "code",
   "execution_count": 5,
   "metadata": {
    "colab": {
     "base_uri": "https://localhost:8080/"
    },
    "id": "NK9UMJ_v_5MG",
    "outputId": "1ee31734-97fb-40fb-9831-76a4dfb10a65"
   },
   "outputs": [
    {
     "data": {
      "text/plain": [
       "CustomerId         0\n",
       "Gender             0\n",
       "Age                0\n",
       "CreditScore        0\n",
       "EstimatedSalary    0\n",
       "HasCrCard          0\n",
       "Exited             0\n",
       "dtype: int64"
      ]
     },
     "execution_count": 5,
     "metadata": {},
     "output_type": "execute_result"
    }
   ],
   "source": [
    "df.isna().sum()"
   ]
  },
  {
   "cell_type": "code",
   "execution_count": 6,
   "metadata": {
    "colab": {
     "base_uri": "https://localhost:8080/"
    },
    "id": "x05K0H6z_84t",
    "outputId": "9cb2898b-d65e-4c73-ef21-6ee09205f02d"
   },
   "outputs": [
    {
     "data": {
      "text/plain": [
       "Index(['CustomerId', 'Age', 'CreditScore', 'EstimatedSalary', 'HasCrCard',\n",
       "       'Exited'],\n",
       "      dtype='object')"
      ]
     },
     "execution_count": 6,
     "metadata": {},
     "output_type": "execute_result"
    }
   ],
   "source": [
    "df.select_dtypes(np.number).columns"
   ]
  },
  {
   "cell_type": "code",
   "execution_count": 7,
   "metadata": {
    "colab": {
     "base_uri": "https://localhost:8080/"
    },
    "id": "6JQpSw4nc47u",
    "outputId": "9ef13ab2-e63c-4ee2-f9d5-27cea3b9d312"
   },
   "outputs": [
    {
     "data": {
      "text/plain": [
       "Index(['Gender'], dtype='object')"
      ]
     },
     "execution_count": 7,
     "metadata": {},
     "output_type": "execute_result"
    }
   ],
   "source": [
    "df.select_dtypes('object').columns"
   ]
  },
  {
   "cell_type": "code",
   "execution_count": 8,
   "metadata": {
    "colab": {
     "base_uri": "https://localhost:8080/"
    },
    "id": "dxxSoehVXXWy",
    "outputId": "4bbaf18a-6cb0-4913-ee78-b6206a83efde"
   },
   "outputs": [
    {
     "data": {
      "text/plain": [
       "CustomerId         10000\n",
       "Gender                 2\n",
       "Age                   70\n",
       "CreditScore          460\n",
       "EstimatedSalary     9999\n",
       "HasCrCard              2\n",
       "Exited                 2\n",
       "dtype: int64"
      ]
     },
     "execution_count": 8,
     "metadata": {},
     "output_type": "execute_result"
    }
   ],
   "source": [
    "df.nunique()"
   ]
  },
  {
   "cell_type": "code",
   "execution_count": 9,
   "metadata": {
    "colab": {
     "base_uri": "https://localhost:8080/"
    },
    "id": "JDQ3tJCEYBFU",
    "outputId": "69dd88fa-0c36-436a-b356-06e6ac372f96"
   },
   "outputs": [
    {
     "data": {
      "text/plain": [
       "0"
      ]
     },
     "execution_count": 9,
     "metadata": {},
     "output_type": "execute_result"
    }
   ],
   "source": [
    "len(df[df.duplicated()])"
   ]
  },
  {
   "cell_type": "code",
   "execution_count": 10,
   "metadata": {
    "colab": {
     "base_uri": "https://localhost:8080/",
     "height": 301
    },
    "id": "VgtJ15mMe6Li",
    "outputId": "c3b71ed5-1b6c-4271-e1a4-4abd7a19ce43"
   },
   "outputs": [
    {
     "data": {
      "text/html": [
       "<div>\n",
       "<style scoped>\n",
       "    .dataframe tbody tr th:only-of-type {\n",
       "        vertical-align: middle;\n",
       "    }\n",
       "\n",
       "    .dataframe tbody tr th {\n",
       "        vertical-align: top;\n",
       "    }\n",
       "\n",
       "    .dataframe thead th {\n",
       "        text-align: right;\n",
       "    }\n",
       "</style>\n",
       "<table border=\"1\" class=\"dataframe\">\n",
       "  <thead>\n",
       "    <tr style=\"text-align: right;\">\n",
       "      <th></th>\n",
       "      <th>CustomerId</th>\n",
       "      <th>Age</th>\n",
       "      <th>CreditScore</th>\n",
       "      <th>EstimatedSalary</th>\n",
       "      <th>HasCrCard</th>\n",
       "      <th>Exited</th>\n",
       "    </tr>\n",
       "  </thead>\n",
       "  <tbody>\n",
       "    <tr>\n",
       "      <th>count</th>\n",
       "      <td>1.000000e+04</td>\n",
       "      <td>10000.000000</td>\n",
       "      <td>10000.000000</td>\n",
       "      <td>10000.000000</td>\n",
       "      <td>10000.00000</td>\n",
       "      <td>10000.000000</td>\n",
       "    </tr>\n",
       "    <tr>\n",
       "      <th>mean</th>\n",
       "      <td>1.569094e+07</td>\n",
       "      <td>38.921800</td>\n",
       "      <td>650.528800</td>\n",
       "      <td>100090.239881</td>\n",
       "      <td>0.70550</td>\n",
       "      <td>0.203700</td>\n",
       "    </tr>\n",
       "    <tr>\n",
       "      <th>std</th>\n",
       "      <td>7.193619e+04</td>\n",
       "      <td>10.487806</td>\n",
       "      <td>96.653299</td>\n",
       "      <td>57510.492818</td>\n",
       "      <td>0.45584</td>\n",
       "      <td>0.402769</td>\n",
       "    </tr>\n",
       "    <tr>\n",
       "      <th>min</th>\n",
       "      <td>1.556570e+07</td>\n",
       "      <td>18.000000</td>\n",
       "      <td>350.000000</td>\n",
       "      <td>11.580000</td>\n",
       "      <td>0.00000</td>\n",
       "      <td>0.000000</td>\n",
       "    </tr>\n",
       "    <tr>\n",
       "      <th>25%</th>\n",
       "      <td>1.562853e+07</td>\n",
       "      <td>32.000000</td>\n",
       "      <td>584.000000</td>\n",
       "      <td>51002.110000</td>\n",
       "      <td>0.00000</td>\n",
       "      <td>0.000000</td>\n",
       "    </tr>\n",
       "    <tr>\n",
       "      <th>50%</th>\n",
       "      <td>1.569074e+07</td>\n",
       "      <td>37.000000</td>\n",
       "      <td>652.000000</td>\n",
       "      <td>100193.915000</td>\n",
       "      <td>1.00000</td>\n",
       "      <td>0.000000</td>\n",
       "    </tr>\n",
       "    <tr>\n",
       "      <th>75%</th>\n",
       "      <td>1.575323e+07</td>\n",
       "      <td>44.000000</td>\n",
       "      <td>718.000000</td>\n",
       "      <td>149388.247500</td>\n",
       "      <td>1.00000</td>\n",
       "      <td>0.000000</td>\n",
       "    </tr>\n",
       "    <tr>\n",
       "      <th>max</th>\n",
       "      <td>1.581569e+07</td>\n",
       "      <td>92.000000</td>\n",
       "      <td>850.000000</td>\n",
       "      <td>199992.480000</td>\n",
       "      <td>1.00000</td>\n",
       "      <td>1.000000</td>\n",
       "    </tr>\n",
       "  </tbody>\n",
       "</table>\n",
       "</div>"
      ],
      "text/plain": [
       "         CustomerId           Age   CreditScore  EstimatedSalary    HasCrCard  \\\n",
       "count  1.000000e+04  10000.000000  10000.000000     10000.000000  10000.00000   \n",
       "mean   1.569094e+07     38.921800    650.528800    100090.239881      0.70550   \n",
       "std    7.193619e+04     10.487806     96.653299     57510.492818      0.45584   \n",
       "min    1.556570e+07     18.000000    350.000000        11.580000      0.00000   \n",
       "25%    1.562853e+07     32.000000    584.000000     51002.110000      0.00000   \n",
       "50%    1.569074e+07     37.000000    652.000000    100193.915000      1.00000   \n",
       "75%    1.575323e+07     44.000000    718.000000    149388.247500      1.00000   \n",
       "max    1.581569e+07     92.000000    850.000000    199992.480000      1.00000   \n",
       "\n",
       "             Exited  \n",
       "count  10000.000000  \n",
       "mean       0.203700  \n",
       "std        0.402769  \n",
       "min        0.000000  \n",
       "25%        0.000000  \n",
       "50%        0.000000  \n",
       "75%        0.000000  \n",
       "max        1.000000  "
      ]
     },
     "execution_count": 10,
     "metadata": {},
     "output_type": "execute_result"
    }
   ],
   "source": [
    "df.describe()"
   ]
  },
  {
   "cell_type": "markdown",
   "metadata": {
    "id": "yab3asiz1-50"
   },
   "source": [
    "\n",
    "\n",
    "*  HasCrCard mengandung kategorikal data. Sebanyak 25% dari nasabah tidak memiliki kartu kredit.\n",
    "*   \n",
    "\n"
   ]
  },
  {
   "cell_type": "code",
   "execution_count": 11,
   "metadata": {
    "colab": {
     "base_uri": "https://localhost:8080/",
     "height": 175
    },
    "id": "7f26NZH7fACT",
    "outputId": "251f6194-61cc-402d-ba3b-479225b177c8"
   },
   "outputs": [
    {
     "data": {
      "text/html": [
       "<div>\n",
       "<style scoped>\n",
       "    .dataframe tbody tr th:only-of-type {\n",
       "        vertical-align: middle;\n",
       "    }\n",
       "\n",
       "    .dataframe tbody tr th {\n",
       "        vertical-align: top;\n",
       "    }\n",
       "\n",
       "    .dataframe thead th {\n",
       "        text-align: right;\n",
       "    }\n",
       "</style>\n",
       "<table border=\"1\" class=\"dataframe\">\n",
       "  <thead>\n",
       "    <tr style=\"text-align: right;\">\n",
       "      <th></th>\n",
       "      <th>Gender</th>\n",
       "    </tr>\n",
       "  </thead>\n",
       "  <tbody>\n",
       "    <tr>\n",
       "      <th>count</th>\n",
       "      <td>10000</td>\n",
       "    </tr>\n",
       "    <tr>\n",
       "      <th>unique</th>\n",
       "      <td>2</td>\n",
       "    </tr>\n",
       "    <tr>\n",
       "      <th>top</th>\n",
       "      <td>Male</td>\n",
       "    </tr>\n",
       "    <tr>\n",
       "      <th>freq</th>\n",
       "      <td>5457</td>\n",
       "    </tr>\n",
       "  </tbody>\n",
       "</table>\n",
       "</div>"
      ],
      "text/plain": [
       "       Gender\n",
       "count   10000\n",
       "unique      2\n",
       "top      Male\n",
       "freq     5457"
      ]
     },
     "execution_count": 11,
     "metadata": {},
     "output_type": "execute_result"
    }
   ],
   "source": [
    "df.describe(include='object')"
   ]
  },
  {
   "cell_type": "markdown",
   "metadata": {
    "id": "8-XHmYPuyCy5"
   },
   "source": [
    "Target kita adalah untuk mengidentifikasi seorang nasabah apakah dia akan berhenti menjadi nasabah. Variabel 'Exited' sebagai target yang mengandung tipe data kategorikal, dimana 0 artinya tidak berhenti dan 1 artinya berhenti. Prediktornya adalah variabel 'Age', CreditScore', 'EstimatedSalary', dan 'HasCrCard'. Variabel 'CustomerId' tidak relevan terhadap model sehingga kita abaikan."
   ]
  },
  {
   "cell_type": "code",
   "execution_count": 12,
   "metadata": {
    "id": "SwByn-9B0Aiq"
   },
   "outputs": [],
   "source": [
    "df.drop(['CustomerId'], axis=1, inplace=True)"
   ]
  },
  {
   "cell_type": "markdown",
   "metadata": {
    "id": "nb9iWKMqfsyS"
   },
   "source": [
    "**Label Encoder untuk Gender**"
   ]
  },
  {
   "cell_type": "markdown",
   "metadata": {
    "id": "PxCdq_GDf9vQ"
   },
   "source": [
    "0 = Female ; 1 = Male"
   ]
  },
  {
   "cell_type": "code",
   "execution_count": 13,
   "metadata": {
    "colab": {
     "base_uri": "https://localhost:8080/",
     "height": 424
    },
    "id": "kKJT5P-rfdjL",
    "outputId": "0a6b91c8-f01a-482b-8d0a-47004ab6fd60"
   },
   "outputs": [
    {
     "data": {
      "text/html": [
       "<div>\n",
       "<style scoped>\n",
       "    .dataframe tbody tr th:only-of-type {\n",
       "        vertical-align: middle;\n",
       "    }\n",
       "\n",
       "    .dataframe tbody tr th {\n",
       "        vertical-align: top;\n",
       "    }\n",
       "\n",
       "    .dataframe thead th {\n",
       "        text-align: right;\n",
       "    }\n",
       "</style>\n",
       "<table border=\"1\" class=\"dataframe\">\n",
       "  <thead>\n",
       "    <tr style=\"text-align: right;\">\n",
       "      <th></th>\n",
       "      <th>Gender</th>\n",
       "      <th>Age</th>\n",
       "      <th>CreditScore</th>\n",
       "      <th>EstimatedSalary</th>\n",
       "      <th>HasCrCard</th>\n",
       "      <th>Exited</th>\n",
       "    </tr>\n",
       "  </thead>\n",
       "  <tbody>\n",
       "    <tr>\n",
       "      <th>0</th>\n",
       "      <td>0</td>\n",
       "      <td>42</td>\n",
       "      <td>619</td>\n",
       "      <td>101348.88</td>\n",
       "      <td>1</td>\n",
       "      <td>1</td>\n",
       "    </tr>\n",
       "    <tr>\n",
       "      <th>1</th>\n",
       "      <td>0</td>\n",
       "      <td>41</td>\n",
       "      <td>608</td>\n",
       "      <td>112542.58</td>\n",
       "      <td>0</td>\n",
       "      <td>0</td>\n",
       "    </tr>\n",
       "    <tr>\n",
       "      <th>2</th>\n",
       "      <td>0</td>\n",
       "      <td>42</td>\n",
       "      <td>502</td>\n",
       "      <td>113931.57</td>\n",
       "      <td>1</td>\n",
       "      <td>1</td>\n",
       "    </tr>\n",
       "    <tr>\n",
       "      <th>3</th>\n",
       "      <td>0</td>\n",
       "      <td>39</td>\n",
       "      <td>699</td>\n",
       "      <td>93826.63</td>\n",
       "      <td>0</td>\n",
       "      <td>0</td>\n",
       "    </tr>\n",
       "    <tr>\n",
       "      <th>4</th>\n",
       "      <td>0</td>\n",
       "      <td>43</td>\n",
       "      <td>850</td>\n",
       "      <td>79084.10</td>\n",
       "      <td>1</td>\n",
       "      <td>0</td>\n",
       "    </tr>\n",
       "    <tr>\n",
       "      <th>...</th>\n",
       "      <td>...</td>\n",
       "      <td>...</td>\n",
       "      <td>...</td>\n",
       "      <td>...</td>\n",
       "      <td>...</td>\n",
       "      <td>...</td>\n",
       "    </tr>\n",
       "    <tr>\n",
       "      <th>9995</th>\n",
       "      <td>1</td>\n",
       "      <td>39</td>\n",
       "      <td>771</td>\n",
       "      <td>96270.64</td>\n",
       "      <td>1</td>\n",
       "      <td>0</td>\n",
       "    </tr>\n",
       "    <tr>\n",
       "      <th>9996</th>\n",
       "      <td>1</td>\n",
       "      <td>35</td>\n",
       "      <td>516</td>\n",
       "      <td>101699.77</td>\n",
       "      <td>1</td>\n",
       "      <td>0</td>\n",
       "    </tr>\n",
       "    <tr>\n",
       "      <th>9997</th>\n",
       "      <td>0</td>\n",
       "      <td>36</td>\n",
       "      <td>709</td>\n",
       "      <td>42085.58</td>\n",
       "      <td>0</td>\n",
       "      <td>1</td>\n",
       "    </tr>\n",
       "    <tr>\n",
       "      <th>9998</th>\n",
       "      <td>1</td>\n",
       "      <td>42</td>\n",
       "      <td>772</td>\n",
       "      <td>92888.52</td>\n",
       "      <td>1</td>\n",
       "      <td>1</td>\n",
       "    </tr>\n",
       "    <tr>\n",
       "      <th>9999</th>\n",
       "      <td>0</td>\n",
       "      <td>28</td>\n",
       "      <td>792</td>\n",
       "      <td>38190.78</td>\n",
       "      <td>1</td>\n",
       "      <td>0</td>\n",
       "    </tr>\n",
       "  </tbody>\n",
       "</table>\n",
       "<p>10000 rows × 6 columns</p>\n",
       "</div>"
      ],
      "text/plain": [
       "      Gender  Age  CreditScore  EstimatedSalary  HasCrCard  Exited\n",
       "0          0   42          619        101348.88          1       1\n",
       "1          0   41          608        112542.58          0       0\n",
       "2          0   42          502        113931.57          1       1\n",
       "3          0   39          699         93826.63          0       0\n",
       "4          0   43          850         79084.10          1       0\n",
       "...      ...  ...          ...              ...        ...     ...\n",
       "9995       1   39          771         96270.64          1       0\n",
       "9996       1   35          516        101699.77          1       0\n",
       "9997       0   36          709         42085.58          0       1\n",
       "9998       1   42          772         92888.52          1       1\n",
       "9999       0   28          792         38190.78          1       0\n",
       "\n",
       "[10000 rows x 6 columns]"
      ]
     },
     "execution_count": 13,
     "metadata": {},
     "output_type": "execute_result"
    }
   ],
   "source": [
    "from sklearn import preprocessing\n",
    "\n",
    "le = preprocessing.LabelEncoder()\n",
    "df['Gender'] = le.fit_transform(df['Gender'])\n",
    "df"
   ]
  },
  {
   "cell_type": "markdown",
   "metadata": {
    "id": "J6rzJd4ua3yJ"
   },
   "source": [
    "Kategorikal data =\n",
    "\n",
    "- Gender\n",
    "- HasCrCard\n",
    "\n",
    "Numerikal data =\n",
    "- Age\n",
    "- CreditScore\n",
    "- EstimatedSalary"
   ]
  },
  {
   "cell_type": "markdown",
   "metadata": {
    "id": "NPwAHf4Bjb7A"
   },
   "source": [
    "# EDA"
   ]
  },
  {
   "cell_type": "markdown",
   "metadata": {
    "id": "YmufYMavcm-M"
   },
   "source": [
    "## Status Target Data"
   ]
  },
  {
   "cell_type": "code",
   "execution_count": 14,
   "metadata": {
    "colab": {
     "base_uri": "https://localhost:8080/",
     "height": 482
    },
    "id": "0AaUP6etYce2",
    "outputId": "f7634726-97c5-49c4-a865-a07a2d4fd672"
   },
   "outputs": [
    {
     "data": {
      "image/png": "[encoded data removed]",
      "text/plain": [
       "<Figure size 720x576 with 1 Axes>"
      ]
     },
     "metadata": {},
     "output_type": "display_data"
    }
   ],
   "source": [
    "# Let's see how our target data looks like\n",
    "df['Exited'].value_counts().plot.pie(explode=[0.05, 0.05], autopct='%1.1f%%', startangle=90, shadow=True, figsize=(10,8))\n",
    "plt.title('Pie Chart for Churn')\n",
    "plt.show()"
   ]
  },
  {
   "cell_type": "markdown",
   "metadata": {
    "id": "P29NHeDaZ9yS"
   },
   "source": [
    "Dapat disimpulkan bahwa sekitar 20% nasabah telah menutup akunnya."
   ]
  },
  {
   "cell_type": "markdown",
   "metadata": {
    "id": "W0gzW69huFKw"
   },
   "source": [
    "Adanya ketimpangan (skewed) antara total No Exited dan Exited. Proporsi minority class (Exited) sebesar 20.37%, yang dimana masuk ke dalam kategori mild imbalanced data. Maka kita dapat melakukan teknik SMOTE."
   ]
  },
  {
   "cell_type": "code",
   "execution_count": 15,
   "metadata": {
    "colab": {
     "base_uri": "https://localhost:8080/"
    },
    "id": "UYamPaIJv6ro",
    "outputId": "58c0863b-b5da-42a8-ac14-8ab953c2e422"
   },
   "outputs": [
    {
     "data": {
      "text/plain": [
       "0    7963\n",
       "1    2037\n",
       "Name: Exited, dtype: int64"
      ]
     },
     "execution_count": 15,
     "metadata": {},
     "output_type": "execute_result"
    }
   ],
   "source": [
    "df['Exited'].value_counts()"
   ]
  },
  {
   "cell_type": "markdown",
   "metadata": {
    "id": "6cZrsQh4wKIT"
   },
   "source": [
    "Sebanyak 2037 Nasabah yang ada di dataset ini yang melakukan Churn, dan 7963 Nasabah tidak melakukan Churn"
   ]
  },
  {
   "cell_type": "markdown",
   "metadata": {
    "id": "Yh9S3jjLbqci"
   },
   "source": [
    "## Hubungan Kategorikal Data terhadap Target"
   ]
  },
  {
   "cell_type": "code",
   "execution_count": 16,
   "metadata": {
    "colab": {
     "base_uri": "https://localhost:8080/",
     "height": 541
    },
    "id": "0gHZskCz8S1g",
    "outputId": "ad8ace89-5cbb-4fab-b9b4-986eedce3749"
   },
   "outputs": [
    {
     "data": {
      "image/png": "[encoded data removed]",
      "text/plain": [
       "<Figure size 432x288 with 1 Axes>"
      ]
     },
     "metadata": {
      "needs_background": "light"
     },
     "output_type": "display_data"
    },
    {
     "data": {
      "image/png": "[encoded data removed]",
      "text/plain": [
       "<Figure size 432x288 with 1 Axes>"
      ]
     },
     "metadata": {
      "needs_background": "light"
     },
     "output_type": "display_data"
    }
   ],
   "source": [
    "for i, predictor in enumerate(df.drop(columns=['Age', 'CreditScore', 'EstimatedSalary', 'Exited'])):\n",
    "  plt.figure(i)\n",
    "  sns.countplot(data=df, x=predictor, hue='Exited')"
   ]
  },
  {
   "cell_type": "markdown",
   "metadata": {
    "id": "syLq43mOwVAl"
   },
   "source": [
    "\n",
    "\n",
    "*   *Hubungan Gender dengan Target Exited*\n",
    "\n",
    "Lebih dari 1000 Nasabah bergender perempuan yang melakukan Churn, dimana angka tersebut melebihi jumlah Laki-laki yang melakukan Churn yang jumlahnya kurang dari 1000. Hal ini bisa disebabkan karena jumlah nasabah Laki-laki yang tidak melakukan Churn jauh lebih banyak dari nasabah Perempuan, jauh melampaui angka 4000 sedangkan nasabah perempuan di antara 3000 hingga 4000.\n",
    "*   *Hubungan Jumlah Pengguna Credit Card dengan Target Exited*\n",
    "\n",
    "Pengguna Credit Card lebih banyak yang melakukan Churn, dimana jumlahnya melampaui angka 1000 dibandingkan yang tidak melakukan Churn. Namun terdapat ketimpangan yang jauh pada pengguna Credit Card yang tidak melakukan Churn sebanyak dari \n",
    "\n"
   ]
  },
  {
   "cell_type": "markdown",
   "metadata": {
    "id": "udLOj40ckI7Z"
   },
   "source": [
    "## Hubungan Numerikal Data terhadap Target"
   ]
  },
  {
   "cell_type": "markdown",
   "metadata": {
    "id": "IdnhSDJzj0NN"
   },
   "source": [
    "**1.) Age vs Exited**"
   ]
  },
  {
   "cell_type": "code",
   "execution_count": 17,
   "metadata": {
    "colab": {
     "base_uri": "https://localhost:8080/",
     "height": 54
    },
    "id": "dpG7aF5NoW2h",
    "outputId": "5f87c504-a567-4749-b81e-c974053b3e36"
   },
   "outputs": [
    {
     "data": {
      "image/png": "[encoded data removed]",
      "text/plain": [
       "<Figure size 864x504 with 1 Axes>"
      ]
     },
     "metadata": {
      "needs_background": "light"
     },
     "output_type": "display_data"
    }
   ],
   "source": [
    "plt.rcParams['figure.figsize'] = (12,7)\n",
    "color = plt.cm.copper(np.linspace(0, 0.5, 20))\n",
    "((df.groupby(['Age'])['Exited'].mean())*100).sort_values(ascending=False).head(30).plot.bar()\n",
    "plt.title('Age with most churn percentage', fontsize=20)\n",
    "plt.xlabel('Age', fontsize=15)\n",
    "plt.ylabel('Percentage', fontsize=15)\n",
    "plt.show()"
   ]
  },
  {
   "cell_type": "code",
   "execution_count": 18,
   "metadata": {
    "colab": {
     "base_uri": "https://localhost:8080/",
     "height": 54
    },
    "id": "OMjQ0MpKjkXj",
    "outputId": "f3a9df53-8879-4455-bc3f-fe25c63eed62"
   },
   "outputs": [
    {
     "data": {
      "image/png": "[encoded data removed]",
      "text/plain": [
       "<Figure size 864x504 with 1 Axes>"
      ]
     },
     "metadata": {
      "needs_background": "light"
     },
     "output_type": "display_data"
    }
   ],
   "source": [
    "sns.boxplot( x = 'Exited',y = 'Age', data = df )\n",
    "plt.show()"
   ]
  },
  {
   "cell_type": "markdown",
   "metadata": {
    "id": "-UmmgYpFkNTg"
   },
   "source": [
    "**2.) CreditScore vs Exited**"
   ]
  },
  {
   "cell_type": "code",
   "execution_count": 19,
   "metadata": {
    "colab": {
     "base_uri": "https://localhost:8080/",
     "height": 54
    },
    "id": "wIWcliKzkZ41",
    "outputId": "ecd1acc0-d777-4922-88e3-7b35abcbdf6b"
   },
   "outputs": [
    {
     "data": {
      "image/png": "[encoded data removed]",
      "text/plain": [
       "<Figure size 864x504 with 1 Axes>"
      ]
     },
     "metadata": {
      "needs_background": "light"
     },
     "output_type": "display_data"
    }
   ],
   "source": [
    "plt.rcParams['figure.figsize'] = (12,7)\n",
    "# color = plt.cm.copper(np.linspace(0, 0.5, 20))\n",
    "((df.groupby(['CreditScore'])['Exited'].mean())*100).sort_values(ascending=False).head(50).plot.bar()\n",
    "plt.title('CreditScore with most churn percentage', fontsize=20)\n",
    "plt.xlabel('Credit Score', fontsize=15)\n",
    "plt.ylabel('Percentage', fontsize=15)\n",
    "plt.show()"
   ]
  },
  {
   "cell_type": "code",
   "execution_count": 20,
   "metadata": {
    "colab": {
     "base_uri": "https://localhost:8080/",
     "height": 54
    },
    "id": "QgYJAPn0n7BW",
    "outputId": "8f193cbb-30af-4869-e2b3-8fa7c6a5f5d1"
   },
   "outputs": [
    {
     "data": {
      "image/png": "[encoded data removed]",
      "text/plain": [
       "<Figure size 864x504 with 1 Axes>"
      ]
     },
     "metadata": {
      "needs_background": "light"
     },
     "output_type": "display_data"
    }
   ],
   "source": [
    "sns.boxplot( x = 'Exited',y = 'CreditScore', data = df )\n",
    "plt.show()"
   ]
  },
  {
   "cell_type": "markdown",
   "metadata": {
    "id": "90wOGte_kUow"
   },
   "source": [
    "3.) EstimatedSalary vs Exited"
   ]
  },
  {
   "cell_type": "code",
   "execution_count": 21,
   "metadata": {
    "colab": {
     "base_uri": "https://localhost:8080/",
     "height": 54
    },
    "id": "7nL-yCW6kYex",
    "outputId": "d31ffabf-1da9-49e3-8b5f-6f344d7096bf"
   },
   "outputs": [
    {
     "data": {
      "image/png": "[encoded data removed]",
      "text/plain": [
       "<Figure size 864x504 with 1 Axes>"
      ]
     },
     "metadata": {
      "needs_background": "light"
     },
     "output_type": "display_data"
    }
   ],
   "source": [
    "sns.boxplot( x = 'Exited',y = 'EstimatedSalary', data = df )\n",
    "plt.show()"
   ]
  },
  {
   "cell_type": "markdown",
   "metadata": {
    "id": "jPT98TY5UoxT"
   },
   "source": [
    "## Hubungan Korelasi antar Feature"
   ]
  },
  {
   "cell_type": "code",
   "execution_count": 22,
   "metadata": {
    "colab": {
     "base_uri": "https://localhost:8080/",
     "height": 54
    },
    "id": "1xQFTk1NerMy",
    "outputId": "51a395b4-f474-407b-98e2-3307b6d5b344"
   },
   "outputs": [
    {
     "data": {
      "image/png": "[encoded data removed]",
      "text/plain": [
       "<Figure size 1584x720 with 2 Axes>"
      ]
     },
     "metadata": {
      "needs_background": "light"
     },
     "output_type": "display_data"
    }
   ],
   "source": [
    "corr_matrix = df.corr()  # Correlation Matrix\n",
    "\n",
    "# Mask for Heatmap\n",
    "mask = np.zeros_like(corr_matrix, dtype=np.bool)\n",
    "mask[np.triu_indices_from(corr_matrix)] = True\n",
    "\n",
    "# Correlation Matrix Heatmap including all features\n",
    "fig, ax = plt.subplots(figsize=(22, 10))\n",
    "ax = sns.heatmap(corr_matrix, mask=mask, annot=True, linewidths=0.5, fmt=\".2f\", cmap=\"YlGn\");\n",
    "bottom, top = ax.get_ylim()\n",
    "ax.set_ylim(bottom + 0.5, top - 0.5);\n",
    "ax.set_title(\"Correlation Matrix Heatmap including all features\");"
   ]
  },
  {
   "cell_type": "markdown",
   "metadata": {
    "id": "xRZhWGQRQb46"
   },
   "source": [
    "# Feature Engineering"
   ]
  },
  {
   "cell_type": "code",
   "execution_count": 23,
   "metadata": {
    "id": "69T4mAznQhIL"
   },
   "outputs": [],
   "source": [
    "df1 = df.copy()"
   ]
  },
  {
   "cell_type": "code",
   "execution_count": 24,
   "metadata": {
    "id": "udsK5uEU4KuL"
   },
   "outputs": [],
   "source": [
    "df1['CrdScoreGivenAge'] = df1['CreditScore'] / df1['Age']"
   ]
  },
  {
   "cell_type": "code",
   "execution_count": 25,
   "metadata": {
    "colab": {
     "base_uri": "https://localhost:8080/",
     "height": 424
    },
    "id": "qxxW_I7OFLGS",
    "outputId": "a9bdc2e3-200b-4fd8-f157-6e937fef484f"
   },
   "outputs": [
    {
     "data": {
      "text/html": [
       "<div>\n",
       "<style scoped>\n",
       "    .dataframe tbody tr th:only-of-type {\n",
       "        vertical-align: middle;\n",
       "    }\n",
       "\n",
       "    .dataframe tbody tr th {\n",
       "        vertical-align: top;\n",
       "    }\n",
       "\n",
       "    .dataframe thead th {\n",
       "        text-align: right;\n",
       "    }\n",
       "</style>\n",
       "<table border=\"1\" class=\"dataframe\">\n",
       "  <thead>\n",
       "    <tr style=\"text-align: right;\">\n",
       "      <th></th>\n",
       "      <th>Gender</th>\n",
       "      <th>Age</th>\n",
       "      <th>CreditScore</th>\n",
       "      <th>EstimatedSalary</th>\n",
       "      <th>HasCrCard</th>\n",
       "      <th>Exited</th>\n",
       "      <th>CrdScoreGivenAge</th>\n",
       "    </tr>\n",
       "  </thead>\n",
       "  <tbody>\n",
       "    <tr>\n",
       "      <th>0</th>\n",
       "      <td>0</td>\n",
       "      <td>42</td>\n",
       "      <td>619</td>\n",
       "      <td>101348.88</td>\n",
       "      <td>1</td>\n",
       "      <td>1</td>\n",
       "      <td>14.738095</td>\n",
       "    </tr>\n",
       "    <tr>\n",
       "      <th>1</th>\n",
       "      <td>0</td>\n",
       "      <td>41</td>\n",
       "      <td>608</td>\n",
       "      <td>112542.58</td>\n",
       "      <td>0</td>\n",
       "      <td>0</td>\n",
       "      <td>14.829268</td>\n",
       "    </tr>\n",
       "    <tr>\n",
       "      <th>2</th>\n",
       "      <td>0</td>\n",
       "      <td>42</td>\n",
       "      <td>502</td>\n",
       "      <td>113931.57</td>\n",
       "      <td>1</td>\n",
       "      <td>1</td>\n",
       "      <td>11.952381</td>\n",
       "    </tr>\n",
       "    <tr>\n",
       "      <th>3</th>\n",
       "      <td>0</td>\n",
       "      <td>39</td>\n",
       "      <td>699</td>\n",
       "      <td>93826.63</td>\n",
       "      <td>0</td>\n",
       "      <td>0</td>\n",
       "      <td>17.923077</td>\n",
       "    </tr>\n",
       "    <tr>\n",
       "      <th>4</th>\n",
       "      <td>0</td>\n",
       "      <td>43</td>\n",
       "      <td>850</td>\n",
       "      <td>79084.10</td>\n",
       "      <td>1</td>\n",
       "      <td>0</td>\n",
       "      <td>19.767442</td>\n",
       "    </tr>\n",
       "    <tr>\n",
       "      <th>...</th>\n",
       "      <td>...</td>\n",
       "      <td>...</td>\n",
       "      <td>...</td>\n",
       "      <td>...</td>\n",
       "      <td>...</td>\n",
       "      <td>...</td>\n",
       "      <td>...</td>\n",
       "    </tr>\n",
       "    <tr>\n",
       "      <th>9995</th>\n",
       "      <td>1</td>\n",
       "      <td>39</td>\n",
       "      <td>771</td>\n",
       "      <td>96270.64</td>\n",
       "      <td>1</td>\n",
       "      <td>0</td>\n",
       "      <td>19.769231</td>\n",
       "    </tr>\n",
       "    <tr>\n",
       "      <th>9996</th>\n",
       "      <td>1</td>\n",
       "      <td>35</td>\n",
       "      <td>516</td>\n",
       "      <td>101699.77</td>\n",
       "      <td>1</td>\n",
       "      <td>0</td>\n",
       "      <td>14.742857</td>\n",
       "    </tr>\n",
       "    <tr>\n",
       "      <th>9997</th>\n",
       "      <td>0</td>\n",
       "      <td>36</td>\n",
       "      <td>709</td>\n",
       "      <td>42085.58</td>\n",
       "      <td>0</td>\n",
       "      <td>1</td>\n",
       "      <td>19.694444</td>\n",
       "    </tr>\n",
       "    <tr>\n",
       "      <th>9998</th>\n",
       "      <td>1</td>\n",
       "      <td>42</td>\n",
       "      <td>772</td>\n",
       "      <td>92888.52</td>\n",
       "      <td>1</td>\n",
       "      <td>1</td>\n",
       "      <td>18.380952</td>\n",
       "    </tr>\n",
       "    <tr>\n",
       "      <th>9999</th>\n",
       "      <td>0</td>\n",
       "      <td>28</td>\n",
       "      <td>792</td>\n",
       "      <td>38190.78</td>\n",
       "      <td>1</td>\n",
       "      <td>0</td>\n",
       "      <td>28.285714</td>\n",
       "    </tr>\n",
       "  </tbody>\n",
       "</table>\n",
       "<p>10000 rows × 7 columns</p>\n",
       "</div>"
      ],
      "text/plain": [
       "      Gender  Age  CreditScore  EstimatedSalary  HasCrCard  Exited  \\\n",
       "0          0   42          619        101348.88          1       1   \n",
       "1          0   41          608        112542.58          0       0   \n",
       "2          0   42          502        113931.57          1       1   \n",
       "3          0   39          699         93826.63          0       0   \n",
       "4          0   43          850         79084.10          1       0   \n",
       "...      ...  ...          ...              ...        ...     ...   \n",
       "9995       1   39          771         96270.64          1       0   \n",
       "9996       1   35          516        101699.77          1       0   \n",
       "9997       0   36          709         42085.58          0       1   \n",
       "9998       1   42          772         92888.52          1       1   \n",
       "9999       0   28          792         38190.78          1       0   \n",
       "\n",
       "      CrdScoreGivenAge  \n",
       "0            14.738095  \n",
       "1            14.829268  \n",
       "2            11.952381  \n",
       "3            17.923077  \n",
       "4            19.767442  \n",
       "...                ...  \n",
       "9995         19.769231  \n",
       "9996         14.742857  \n",
       "9997         19.694444  \n",
       "9998         18.380952  \n",
       "9999         28.285714  \n",
       "\n",
       "[10000 rows x 7 columns]"
      ]
     },
     "execution_count": 25,
     "metadata": {},
     "output_type": "execute_result"
    }
   ],
   "source": [
    "df1"
   ]
  },
  {
   "cell_type": "code",
   "execution_count": 26,
   "metadata": {
    "colab": {
     "base_uri": "https://localhost:8080/",
     "height": 559
    },
    "id": "lHB35h2z73Ue",
    "outputId": "5d8e8bc1-cc77-4d44-8a09-45255e0f838e"
   },
   "outputs": [
    {
     "data": {
      "text/plain": [
       "<AxesSubplot:>"
      ]
     },
     "execution_count": 26,
     "metadata": {},
     "output_type": "execute_result"
    },
    {
     "data": {
      "image/png": "[encoded data removed]",
      "text/plain": [
       "<Figure size 792x648 with 2 Axes>"
      ]
     },
     "metadata": {
      "needs_background": "light"
     },
     "output_type": "display_data"
    }
   ],
   "source": [
    "cormat = df1.corr()\n",
    "plt.figure(figsize=(11,9))\n",
    "sns.heatmap(cormat, annot=True, cmap='viridis')"
   ]
  },
  {
   "cell_type": "markdown",
   "metadata": {
    "id": "boDtQkK7XyBA"
   },
   "source": [
    "# Train-Test Split"
   ]
  },
  {
   "cell_type": "code",
   "execution_count": 27,
   "metadata": {
    "id": "_D4gxSLoZEny"
   },
   "outputs": [],
   "source": [
    "X1 = df1.drop('Exited', axis=1)\n",
    "y1 = df1['Exited']"
   ]
  },
  {
   "cell_type": "code",
   "execution_count": 28,
   "metadata": {
    "id": "ClR7CL2RYzJg"
   },
   "outputs": [],
   "source": [
    "from sklearn.model_selection import train_test_split"
   ]
  },
  {
   "cell_type": "code",
   "execution_count": 29,
   "metadata": {
    "id": "JRXn9HadY-hS"
   },
   "outputs": [],
   "source": [
    "X1_train, X1_test, y1_train, y1_test = train_test_split(X1, y1, test_size=0.35, random_state=123, stratify=y1)"
   ]
  },
  {
   "cell_type": "code",
   "execution_count": 30,
   "metadata": {
    "colab": {
     "base_uri": "https://localhost:8080/"
    },
    "id": "F75sVsa0r4Xt",
    "outputId": "7b426d09-71e8-4b0d-fbef-0cf52cc4a3eb"
   },
   "outputs": [
    {
     "data": {
      "text/plain": [
       "0    7963\n",
       "1    2037\n",
       "Name: Exited, dtype: int64"
      ]
     },
     "execution_count": 30,
     "metadata": {},
     "output_type": "execute_result"
    }
   ],
   "source": [
    "y1.value_counts()"
   ]
  },
  {
   "cell_type": "markdown",
   "metadata": {
    "id": "LKGMFjZlaXtf"
   },
   "source": [
    "# Feature Scaling"
   ]
  },
  {
   "cell_type": "code",
   "execution_count": 31,
   "metadata": {
    "id": "gGTi-JmoaZ4g"
   },
   "outputs": [],
   "source": [
    "from sklearn.preprocessing import StandardScaler\n",
    "ss = StandardScaler()"
   ]
  },
  {
   "cell_type": "code",
   "execution_count": 32,
   "metadata": {
    "id": "cvkg8CvOapNb"
   },
   "outputs": [],
   "source": [
    "X1_train = ss.fit_transform(X1_train)\n",
    "X1_test = ss.fit_transform(X1_test)"
   ]
  },
  {
   "cell_type": "code",
   "execution_count": 33,
   "metadata": {
    "colab": {
     "base_uri": "https://localhost:8080/"
    },
    "id": "XiiRbeJ-ovNB",
    "outputId": "46e71f7e-8df9-4c10-d649-3edc61b975d0"
   },
   "outputs": [
    {
     "data": {
      "text/plain": [
       "array([[ 9.09605753e-01, -5.80168368e-01, -1.43598345e+00,\n",
       "        -9.44650431e-02,  6.55373150e-01, -4.33523045e-01],\n",
       "       [ 9.09605753e-01,  1.71581233e-03,  3.68717473e-01,\n",
       "         5.41934186e-02,  6.55373150e-01, -4.03564064e-02],\n",
       "       [ 9.09605753e-01, -1.74393673e+00, -8.34416478e-01,\n",
       "         8.34314114e-01,  6.55373150e-01,  1.77010339e+00],\n",
       "       ...,\n",
       "       [ 9.09605753e-01,  2.03831044e+00, -2.29684654e+00,\n",
       "         1.10562438e+00,  6.55373150e-01, -2.01884603e+00],\n",
       "       [ 9.09605753e-01, -3.86206975e-01,  9.08053382e-01,\n",
       "        -1.46841664e+00,  6.55373150e-01,  6.22183023e-01],\n",
       "       [ 9.09605753e-01,  6.80580690e-01,  1.10511843e+00,\n",
       "        -1.08920967e+00,  6.55373150e-01, -2.55119121e-01]])"
      ]
     },
     "execution_count": 33,
     "metadata": {},
     "output_type": "execute_result"
    }
   ],
   "source": [
    "X1_train"
   ]
  },
  {
   "cell_type": "markdown",
   "metadata": {
    "id": "dkyLEvWkbD0R"
   },
   "source": [
    "# Membangun Model"
   ]
  },
  {
   "cell_type": "markdown",
   "metadata": {
    "id": "n_Y3-L2sbHfc"
   },
   "source": [
    "## KNN"
   ]
  },
  {
   "cell_type": "code",
   "execution_count": 34,
   "metadata": {
    "id": "fEI8A444hC_h"
   },
   "outputs": [],
   "source": [
    "from sklearn.neighbors import KNeighborsClassifier\n",
    "from sklearn.model_selection import GridSearchCV"
   ]
  },
  {
   "cell_type": "code",
   "execution_count": 35,
   "metadata": {
    "id": "_HA4ahxfjU0I"
   },
   "outputs": [],
   "source": [
    "knn = KNeighborsClassifier()\n",
    "parameters = {'n_neighbors': np.arange(1,100)}"
   ]
  },
  {
   "cell_type": "code",
   "execution_count": 36,
   "metadata": {
    "id": "u8_DBto1kHP1"
   },
   "outputs": [],
   "source": [
    "knnclassifier = GridSearchCV(knn, parameters, cv=10)"
   ]
  },
  {
   "cell_type": "code",
   "execution_count": 37,
   "metadata": {
    "colab": {
     "base_uri": "https://localhost:8080/"
    },
    "id": "n1d0KrwD_Xrj",
    "outputId": "436d9f61-a063-4c20-8420-dd189e0ec0ed"
   },
   "outputs": [
    {
     "data": {
      "text/html": [
       "<style>#sk-container-id-1 {color: black;background-color: white;}#sk-container-id-1 pre{padding: 0;}#sk-container-id-1 div.sk-toggleable {background-color: white;}#sk-container-id-1 label.sk-toggleable__label {cursor: pointer;display: block;width: 100%;margin-bottom: 0;padding: 0.3em;box-sizing: border-box;text-align: center;}#sk-container-id-1 label.sk-toggleable__label-arrow:before {content: \"▸\";float: left;margin-right: 0.25em;color: #696969;}#sk-container-id-1 label.sk-toggleable__label-arrow:hover:before {color: black;}#sk-container-id-1 div.sk-estimator:hover label.sk-toggleable__label-arrow:before {color: black;}#sk-container-id-1 div.sk-toggleable__content {max-height: 0;max-width: 0;overflow: hidden;text-align: left;background-color: #f0f8ff;}#sk-container-id-1 div.sk-toggleable__content pre {margin: 0.2em;color: black;border-radius: 0.25em;background-color: #f0f8ff;}#sk-container-id-1 input.sk-toggleable__control:checked~div.sk-toggleable__content {max-height: 200px;max-width: 100%;overflow: auto;}#sk-container-id-1 input.sk-toggleable__control:checked~label.sk-toggleable__label-arrow:before {content: \"▾\";}#sk-container-id-1 div.sk-estimator input.sk-toggleable__control:checked~label.sk-toggleable__label {background-color: #d4ebff;}#sk-container-id-1 div.sk-label input.sk-toggleable__control:checked~label.sk-toggleable__label {background-color: #d4ebff;}#sk-container-id-1 input.sk-hidden--visually {border: 0;clip: rect(1px 1px 1px 1px);clip: rect(1px, 1px, 1px, 1px);height: 1px;margin: -1px;overflow: hidden;padding: 0;position: absolute;width: 1px;}#sk-container-id-1 div.sk-estimator {font-family: monospace;background-color: #f0f8ff;border: 1px dotted black;border-radius: 0.25em;box-sizing: border-box;margin-bottom: 0.5em;}#sk-container-id-1 div.sk-estimator:hover {background-color: #d4ebff;}#sk-container-id-1 div.sk-parallel-item::after {content: \"\";width: 100%;border-bottom: 1px solid gray;flex-grow: 1;}#sk-container-id-1 div.sk-label:hover label.sk-toggleable__label {background-color: #d4ebff;}#sk-container-id-1 div.sk-serial::before {content: \"\";position: absolute;border-left: 1px solid gray;box-sizing: border-box;top: 0;bottom: 0;left: 50%;z-index: 0;}#sk-container-id-1 div.sk-serial {display: flex;flex-direction: column;align-items: center;background-color: white;padding-right: 0.2em;padding-left: 0.2em;position: relative;}#sk-container-id-1 div.sk-item {position: relative;z-index: 1;}#sk-container-id-1 div.sk-parallel {display: flex;align-items: stretch;justify-content: center;background-color: white;position: relative;}#sk-container-id-1 div.sk-item::before, #sk-container-id-1 div.sk-parallel-item::before {content: \"\";position: absolute;border-left: 1px solid gray;box-sizing: border-box;top: 0;bottom: 0;left: 50%;z-index: -1;}#sk-container-id-1 div.sk-parallel-item {display: flex;flex-direction: column;z-index: 1;position: relative;background-color: white;}#sk-container-id-1 div.sk-parallel-item:first-child::after {align-self: flex-end;width: 50%;}#sk-container-id-1 div.sk-parallel-item:last-child::after {align-self: flex-start;width: 50%;}#sk-container-id-1 div.sk-parallel-item:only-child::after {width: 0;}#sk-container-id-1 div.sk-dashed-wrapped {border: 1px dashed gray;margin: 0 0.4em 0.5em 0.4em;box-sizing: border-box;padding-bottom: 0.4em;background-color: white;}#sk-container-id-1 div.sk-label label {font-family: monospace;font-weight: bold;display: inline-block;line-height: 1.2em;}#sk-container-id-1 div.sk-label-container {text-align: center;}#sk-container-id-1 div.sk-container {/* jupyter's `normalize.less` sets `[hidden] { display: none; }` but bootstrap.min.css set `[hidden] { display: none !important; }` so we also need the `!important` here to be able to override the default hidden behavior on the sphinx rendered scikit-learn.org. See: https://github.com/scikit-learn/scikit-learn/issues/21755 */display: inline-block !important;position: relative;}#sk-container-id-1 div.sk-text-repr-fallback {display: none;}</style><div id=\"sk-container-id-1\" class=\"sk-top-container\"><div class=\"sk-text-repr-fallback\"><pre>GridSearchCV(cv=10, estimator=KNeighborsClassifier(),\n",
       "             param_grid={&#x27;n_neighbors&#x27;: array([ 1,  2,  3,  4,  5,  6,  7,  8,  9, 10, 11, 12, 13, 14, 15, 16, 17,\n",
       "       18, 19, 20, 21, 22, 23, 24, 25, 26, 27, 28, 29, 30, 31, 32, 33, 34,\n",
       "       35, 36, 37, 38, 39, 40, 41, 42, 43, 44, 45, 46, 47, 48, 49, 50, 51,\n",
       "       52, 53, 54, 55, 56, 57, 58, 59, 60, 61, 62, 63, 64, 65, 66, 67, 68,\n",
       "       69, 70, 71, 72, 73, 74, 75, 76, 77, 78, 79, 80, 81, 82, 83, 84, 85,\n",
       "       86, 87, 88, 89, 90, 91, 92, 93, 94, 95, 96, 97, 98, 99])})</pre><b>In a Jupyter environment, please rerun this cell to show the HTML representation or trust the notebook. <br />On GitHub, the HTML representation is unable to render, please try loading this page with nbviewer.org.</b></div><div class=\"sk-container\" hidden><div class=\"sk-item sk-dashed-wrapped\"><div class=\"sk-label-container\"><div class=\"sk-label sk-toggleable\"><input class=\"sk-toggleable__control sk-hidden--visually\" id=\"sk-estimator-id-1\" type=\"checkbox\" ><label for=\"sk-estimator-id-1\" class=\"sk-toggleable__label sk-toggleable__label-arrow\">GridSearchCV</label><div class=\"sk-toggleable__content\"><pre>GridSearchCV(cv=10, estimator=KNeighborsClassifier(),\n",
       "             param_grid={&#x27;n_neighbors&#x27;: array([ 1,  2,  3,  4,  5,  6,  7,  8,  9, 10, 11, 12, 13, 14, 15, 16, 17,\n",
       "       18, 19, 20, 21, 22, 23, 24, 25, 26, 27, 28, 29, 30, 31, 32, 33, 34,\n",
       "       35, 36, 37, 38, 39, 40, 41, 42, 43, 44, 45, 46, 47, 48, 49, 50, 51,\n",
       "       52, 53, 54, 55, 56, 57, 58, 59, 60, 61, 62, 63, 64, 65, 66, 67, 68,\n",
       "       69, 70, 71, 72, 73, 74, 75, 76, 77, 78, 79, 80, 81, 82, 83, 84, 85,\n",
       "       86, 87, 88, 89, 90, 91, 92, 93, 94, 95, 96, 97, 98, 99])})</pre></div></div></div><div class=\"sk-parallel\"><div class=\"sk-parallel-item\"><div class=\"sk-item\"><div class=\"sk-label-container\"><div class=\"sk-label sk-toggleable\"><input class=\"sk-toggleable__control sk-hidden--visually\" id=\"sk-estimator-id-2\" type=\"checkbox\" ><label for=\"sk-estimator-id-2\" class=\"sk-toggleable__label sk-toggleable__label-arrow\">estimator: KNeighborsClassifier</label><div class=\"sk-toggleable__content\"><pre>KNeighborsClassifier()</pre></div></div></div><div class=\"sk-serial\"><div class=\"sk-item\"><div class=\"sk-estimator sk-toggleable\"><input class=\"sk-toggleable__control sk-hidden--visually\" id=\"sk-estimator-id-3\" type=\"checkbox\" ><label for=\"sk-estimator-id-3\" class=\"sk-toggleable__label sk-toggleable__label-arrow\">KNeighborsClassifier</label><div class=\"sk-toggleable__content\"><pre>KNeighborsClassifier()</pre></div></div></div></div></div></div></div></div></div></div>"
      ],
      "text/plain": [
       "GridSearchCV(cv=10, estimator=KNeighborsClassifier(),\n",
       "             param_grid={'n_neighbors': array([ 1,  2,  3,  4,  5,  6,  7,  8,  9, 10, 11, 12, 13, 14, 15, 16, 17,\n",
       "       18, 19, 20, 21, 22, 23, 24, 25, 26, 27, 28, 29, 30, 31, 32, 33, 34,\n",
       "       35, 36, 37, 38, 39, 40, 41, 42, 43, 44, 45, 46, 47, 48, 49, 50, 51,\n",
       "       52, 53, 54, 55, 56, 57, 58, 59, 60, 61, 62, 63, 64, 65, 66, 67, 68,\n",
       "       69, 70, 71, 72, 73, 74, 75, 76, 77, 78, 79, 80, 81, 82, 83, 84, 85,\n",
       "       86, 87, 88, 89, 90, 91, 92, 93, 94, 95, 96, 97, 98, 99])})"
      ]
     },
     "execution_count": 37,
     "metadata": {},
     "output_type": "execute_result"
    }
   ],
   "source": [
    "knnclassifier.fit(X1_train, y1_train)"
   ]
  },
  {
   "cell_type": "code",
   "execution_count": 38,
   "metadata": {
    "colab": {
     "base_uri": "https://localhost:8080/"
    },
    "id": "ARkZ3xNGAJOb",
    "outputId": "d25cf004-6d30-4e2d-b52e-6a4bfeda5d6f"
   },
   "outputs": [
    {
     "name": "stdout",
     "output_type": "stream",
     "text": [
      "0.8073846153846154\n",
      "{'n_neighbors': 31}\n"
     ]
    }
   ],
   "source": [
    "print(knnclassifier.best_score_)\n",
    "print(knnclassifier.best_params_)"
   ]
  },
  {
   "cell_type": "code",
   "execution_count": 39,
   "metadata": {
    "colab": {
     "base_uri": "https://localhost:8080/",
     "height": 357
    },
    "id": "Lzo2Em06AgN0",
    "outputId": "eb206368-8cda-45b7-acc0-a1464ac85d33"
   },
   "outputs": [
    {
     "data": {
      "text/html": [
       "<div>\n",
       "<style scoped>\n",
       "    .dataframe tbody tr th:only-of-type {\n",
       "        vertical-align: middle;\n",
       "    }\n",
       "\n",
       "    .dataframe tbody tr th {\n",
       "        vertical-align: top;\n",
       "    }\n",
       "\n",
       "    .dataframe thead th {\n",
       "        text-align: right;\n",
       "    }\n",
       "</style>\n",
       "<table border=\"1\" class=\"dataframe\">\n",
       "  <thead>\n",
       "    <tr style=\"text-align: right;\">\n",
       "      <th></th>\n",
       "      <th>mean_fit_time</th>\n",
       "      <th>std_fit_time</th>\n",
       "      <th>mean_score_time</th>\n",
       "      <th>std_score_time</th>\n",
       "      <th>param_n_neighbors</th>\n",
       "      <th>params</th>\n",
       "      <th>split0_test_score</th>\n",
       "      <th>split1_test_score</th>\n",
       "      <th>split2_test_score</th>\n",
       "      <th>split3_test_score</th>\n",
       "      <th>split4_test_score</th>\n",
       "      <th>split5_test_score</th>\n",
       "      <th>split6_test_score</th>\n",
       "      <th>split7_test_score</th>\n",
       "      <th>split8_test_score</th>\n",
       "      <th>split9_test_score</th>\n",
       "      <th>mean_test_score</th>\n",
       "      <th>std_test_score</th>\n",
       "      <th>rank_test_score</th>\n",
       "    </tr>\n",
       "  </thead>\n",
       "  <tbody>\n",
       "    <tr>\n",
       "      <th>30</th>\n",
       "      <td>0.006983</td>\n",
       "      <td>0.002712</td>\n",
       "      <td>0.036152</td>\n",
       "      <td>0.002244</td>\n",
       "      <td>31</td>\n",
       "      <td>{'n_neighbors': 31}</td>\n",
       "      <td>0.812308</td>\n",
       "      <td>0.809231</td>\n",
       "      <td>0.816923</td>\n",
       "      <td>0.809231</td>\n",
       "      <td>0.820000</td>\n",
       "      <td>0.807692</td>\n",
       "      <td>0.801538</td>\n",
       "      <td>0.798462</td>\n",
       "      <td>0.806154</td>\n",
       "      <td>0.792308</td>\n",
       "      <td>0.807385</td>\n",
       "      <td>0.007899</td>\n",
       "      <td>1</td>\n",
       "    </tr>\n",
       "    <tr>\n",
       "      <th>19</th>\n",
       "      <td>0.006271</td>\n",
       "      <td>0.000627</td>\n",
       "      <td>0.035571</td>\n",
       "      <td>0.009524</td>\n",
       "      <td>20</td>\n",
       "      <td>{'n_neighbors': 20}</td>\n",
       "      <td>0.815385</td>\n",
       "      <td>0.804615</td>\n",
       "      <td>0.826154</td>\n",
       "      <td>0.806154</td>\n",
       "      <td>0.812308</td>\n",
       "      <td>0.807692</td>\n",
       "      <td>0.803077</td>\n",
       "      <td>0.786154</td>\n",
       "      <td>0.804615</td>\n",
       "      <td>0.800000</td>\n",
       "      <td>0.806615</td>\n",
       "      <td>0.009876</td>\n",
       "      <td>2</td>\n",
       "    </tr>\n",
       "    <tr>\n",
       "      <th>29</th>\n",
       "      <td>0.006172</td>\n",
       "      <td>0.000593</td>\n",
       "      <td>0.038503</td>\n",
       "      <td>0.005048</td>\n",
       "      <td>30</td>\n",
       "      <td>{'n_neighbors': 30}</td>\n",
       "      <td>0.813846</td>\n",
       "      <td>0.804615</td>\n",
       "      <td>0.812308</td>\n",
       "      <td>0.810769</td>\n",
       "      <td>0.823077</td>\n",
       "      <td>0.806154</td>\n",
       "      <td>0.800000</td>\n",
       "      <td>0.793846</td>\n",
       "      <td>0.809231</td>\n",
       "      <td>0.792308</td>\n",
       "      <td>0.806615</td>\n",
       "      <td>0.008919</td>\n",
       "      <td>2</td>\n",
       "    </tr>\n",
       "    <tr>\n",
       "      <th>27</th>\n",
       "      <td>0.007875</td>\n",
       "      <td>0.001929</td>\n",
       "      <td>0.039893</td>\n",
       "      <td>0.007582</td>\n",
       "      <td>28</td>\n",
       "      <td>{'n_neighbors': 28}</td>\n",
       "      <td>0.810769</td>\n",
       "      <td>0.809231</td>\n",
       "      <td>0.812308</td>\n",
       "      <td>0.810769</td>\n",
       "      <td>0.823077</td>\n",
       "      <td>0.806154</td>\n",
       "      <td>0.795385</td>\n",
       "      <td>0.796923</td>\n",
       "      <td>0.807692</td>\n",
       "      <td>0.792308</td>\n",
       "      <td>0.806462</td>\n",
       "      <td>0.008779</td>\n",
       "      <td>4</td>\n",
       "    </tr>\n",
       "    <tr>\n",
       "      <th>23</th>\n",
       "      <td>0.007189</td>\n",
       "      <td>0.001452</td>\n",
       "      <td>0.035863</td>\n",
       "      <td>0.002512</td>\n",
       "      <td>24</td>\n",
       "      <td>{'n_neighbors': 24}</td>\n",
       "      <td>0.818462</td>\n",
       "      <td>0.801538</td>\n",
       "      <td>0.815385</td>\n",
       "      <td>0.800000</td>\n",
       "      <td>0.823077</td>\n",
       "      <td>0.809231</td>\n",
       "      <td>0.800000</td>\n",
       "      <td>0.792308</td>\n",
       "      <td>0.806154</td>\n",
       "      <td>0.798462</td>\n",
       "      <td>0.806462</td>\n",
       "      <td>0.009378</td>\n",
       "      <td>4</td>\n",
       "    </tr>\n",
       "  </tbody>\n",
       "</table>\n",
       "</div>"
      ],
      "text/plain": [
       "    mean_fit_time  std_fit_time  mean_score_time  std_score_time  \\\n",
       "30       0.006983      0.002712         0.036152        0.002244   \n",
       "19       0.006271      0.000627         0.035571        0.009524   \n",
       "29       0.006172      0.000593         0.038503        0.005048   \n",
       "27       0.007875      0.001929         0.039893        0.007582   \n",
       "23       0.007189      0.001452         0.035863        0.002512   \n",
       "\n",
       "   param_n_neighbors               params  split0_test_score  \\\n",
       "30                31  {'n_neighbors': 31}           0.812308   \n",
       "19                20  {'n_neighbors': 20}           0.815385   \n",
       "29                30  {'n_neighbors': 30}           0.813846   \n",
       "27                28  {'n_neighbors': 28}           0.810769   \n",
       "23                24  {'n_neighbors': 24}           0.818462   \n",
       "\n",
       "    split1_test_score  split2_test_score  split3_test_score  \\\n",
       "30           0.809231           0.816923           0.809231   \n",
       "19           0.804615           0.826154           0.806154   \n",
       "29           0.804615           0.812308           0.810769   \n",
       "27           0.809231           0.812308           0.810769   \n",
       "23           0.801538           0.815385           0.800000   \n",
       "\n",
       "    split4_test_score  split5_test_score  split6_test_score  \\\n",
       "30           0.820000           0.807692           0.801538   \n",
       "19           0.812308           0.807692           0.803077   \n",
       "29           0.823077           0.806154           0.800000   \n",
       "27           0.823077           0.806154           0.795385   \n",
       "23           0.823077           0.809231           0.800000   \n",
       "\n",
       "    split7_test_score  split8_test_score  split9_test_score  mean_test_score  \\\n",
       "30           0.798462           0.806154           0.792308         0.807385   \n",
       "19           0.786154           0.804615           0.800000         0.806615   \n",
       "29           0.793846           0.809231           0.792308         0.806615   \n",
       "27           0.796923           0.807692           0.792308         0.806462   \n",
       "23           0.792308           0.806154           0.798462         0.806462   \n",
       "\n",
       "    std_test_score  rank_test_score  \n",
       "30        0.007899                1  \n",
       "19        0.009876                2  \n",
       "29        0.008919                2  \n",
       "27        0.008779                4  \n",
       "23        0.009378                4  "
      ]
     },
     "execution_count": 39,
     "metadata": {},
     "output_type": "execute_result"
    }
   ],
   "source": [
    "rel = pd.DataFrame(knnclassifier.cv_results_)\n",
    "rel.sort_values(by=['rank_test_score']).head()"
   ]
  },
  {
   "cell_type": "code",
   "execution_count": 40,
   "metadata": {
    "colab": {
     "base_uri": "https://localhost:8080/",
     "height": 446
    },
    "id": "ySB66B7kBoQw",
    "outputId": "6b6b2ac8-cb5a-4763-b9f1-06fdbdefa181"
   },
   "outputs": [
    {
     "data": {
      "text/plain": [
       "[<matplotlib.lines.Line2D at 0x1cfafbaf0d0>]"
      ]
     },
     "execution_count": 40,
     "metadata": {},
     "output_type": "execute_result"
    },
    {
     "data": {
      "image/png": "[encoded data removed]",
      "text/plain": [
       "<Figure size 864x504 with 1 Axes>"
      ]
     },
     "metadata": {
      "needs_background": "light"
     },
     "output_type": "display_data"
    }
   ],
   "source": [
    "plt.plot(rel['mean_test_score'])"
   ]
  },
  {
   "cell_type": "code",
   "execution_count": 41,
   "metadata": {
    "id": "WT2pCPMvCk0L"
   },
   "outputs": [],
   "source": [
    "# knnclassifier.fit(X1_test, y1_test)"
   ]
  },
  {
   "cell_type": "code",
   "execution_count": 42,
   "metadata": {
    "id": "r96-5MN-Dve_"
   },
   "outputs": [],
   "source": [
    "# print(knnclassifier.best_score_)\n",
    "# print(knnclassifier.best_params_)"
   ]
  },
  {
   "cell_type": "code",
   "execution_count": 43,
   "metadata": {
    "id": "QgDk93U0D7GN"
   },
   "outputs": [],
   "source": [
    "# rel1 = pd.DataFrame(knnclassifier.cv_results_)\n",
    "# rel1.sort_values(by=['rank_test_score']).head()"
   ]
  },
  {
   "cell_type": "code",
   "execution_count": 44,
   "metadata": {
    "id": "8VwcFtHdEF8B"
   },
   "outputs": [],
   "source": [
    "# plt.plot(rel1['mean_test_score'])"
   ]
  },
  {
   "cell_type": "code",
   "execution_count": 45,
   "metadata": {
    "id": "sumNROuMEZ-g"
   },
   "outputs": [],
   "source": [
    "y1_pred_knn = knnclassifier.predict(X1_test)"
   ]
  },
  {
   "cell_type": "code",
   "execution_count": 46,
   "metadata": {
    "colab": {
     "base_uri": "https://localhost:8080/"
    },
    "id": "Aur63Q_mJGzL",
    "outputId": "289b9099-f0da-4d21-dc45-eed7c070cb34"
   },
   "outputs": [
    {
     "data": {
      "text/plain": [
       "array([0, 0, 0, ..., 0, 1, 0], dtype=int64)"
      ]
     },
     "execution_count": 46,
     "metadata": {},
     "output_type": "execute_result"
    }
   ],
   "source": [
    "y1_pred_knn"
   ]
  },
  {
   "cell_type": "markdown",
   "metadata": {
    "id": "vLSVj9VIHCWg"
   },
   "source": [
    "### KNN Evaluation"
   ]
  },
  {
   "cell_type": "code",
   "execution_count": 47,
   "metadata": {
    "id": "F_C0cgELHJvn"
   },
   "outputs": [],
   "source": [
    "from sklearn.metrics import accuracy_score, precision_score, recall_score, f1_score, roc_auc_score"
   ]
  },
  {
   "cell_type": "code",
   "execution_count": 48,
   "metadata": {
    "colab": {
     "base_uri": "https://localhost:8080/"
    },
    "id": "hHS59JK1Epde",
    "outputId": "34d3bac8-1eec-4ae8-d3b5-263083919fa5"
   },
   "outputs": [
    {
     "name": "stdout",
     "output_type": "stream",
     "text": [
      "KNN Score\n",
      "Accuracy: 0.81\n",
      "Precision: 0.57\n",
      "Recall: 0.18\n",
      "f1: 0.27\n",
      "ROC AUC: 0.72\n"
     ]
    }
   ],
   "source": [
    "print('KNN Score')\n",
    "print('Accuracy: {:.2f}'.format(accuracy_score(y1_test, y1_pred_knn)))\n",
    "print('Precision: {:.2f}'.format(precision_score(y1_test, y1_pred_knn)))\n",
    "print('Recall: {:.2f}'.format(recall_score(y1_test, y1_pred_knn)))\n",
    "print('f1: {:.2f}'.format(f1_score(y1_test, y1_pred_knn)))\n",
    "\n",
    "y1_predProba_knn = knnclassifier.predict_proba(X1_test)[::,-1]\n",
    "print('ROC AUC: {:.2f}'.format(roc_auc_score(y1_test, y1_predProba_knn)))"
   ]
  },
  {
   "cell_type": "markdown",
   "metadata": {
    "id": "Dw9hyOYF3vfY"
   },
   "source": [
    "## Logistics Regression"
   ]
  },
  {
   "cell_type": "code",
   "execution_count": 49,
   "metadata": {
    "id": "vRhGjV323zvK"
   },
   "outputs": [],
   "source": [
    "from sklearn.linear_model import LogisticRegression"
   ]
  },
  {
   "cell_type": "code",
   "execution_count": 50,
   "metadata": {
    "id": "DRNAU33U4fJ9"
   },
   "outputs": [],
   "source": [
    "log1 = LogisticRegression()\n",
    "log1.fit(X1_train, y1_train)\n",
    "y1_pred_log = log1.predict(X1_test)"
   ]
  },
  {
   "cell_type": "markdown",
   "metadata": {
    "id": "uQrQB1a465h-"
   },
   "source": [
    "### Logistic Regression Evaluation"
   ]
  },
  {
   "cell_type": "code",
   "execution_count": 51,
   "metadata": {
    "colab": {
     "base_uri": "https://localhost:8080/"
    },
    "id": "8VMsUeaq5IT6",
    "outputId": "d72471da-7e33-4edf-fba6-395b606b850e"
   },
   "outputs": [
    {
     "name": "stdout",
     "output_type": "stream",
     "text": [
      "Logistic Regression Score\n",
      "Accuracy: 0.79\n",
      "Precision: 0.34\n",
      "Recall: 0.05\n",
      "f1: 0.08\n",
      "ROC AUC: 0.72\n"
     ]
    }
   ],
   "source": [
    "print('Logistic Regression Score')\n",
    "print('Accuracy: {:.2f}'.format(accuracy_score(y1_test, y1_pred_log)))\n",
    "print('Precision: {:.2f}'.format(precision_score(y1_test, y1_pred_log)))\n",
    "print('Recall: {:.2f}'.format(recall_score(y1_test, y1_pred_log)))\n",
    "print('f1: {:.2f}'.format(f1_score(y1_test, y1_pred_log)))\n",
    "\n",
    "y1_predProba_log = log1.predict_proba(X1_test)[::,-1]\n",
    "print('ROC AUC: {:.2f}'.format(roc_auc_score(y1_test, y1_predProba_log)))"
   ]
  },
  {
   "cell_type": "markdown",
   "metadata": {
    "id": "ebt3DkDD8FoH"
   },
   "source": [
    "## SVC"
   ]
  },
  {
   "cell_type": "code",
   "execution_count": 52,
   "metadata": {
    "id": "FOfTHoC98HqT"
   },
   "outputs": [],
   "source": [
    "from sklearn.svm import SVC"
   ]
  },
  {
   "cell_type": "code",
   "execution_count": 53,
   "metadata": {
    "id": "P6n7KFom9geX"
   },
   "outputs": [],
   "source": [
    "svc1 = SVC(probability=True)\n",
    "svc1.fit(X1_train, y1_train)\n",
    "y1_pred_svc = svc1.predict(X1_test)"
   ]
  },
  {
   "cell_type": "markdown",
   "metadata": {
    "id": "YJ4bCPdx_t31"
   },
   "source": [
    "### SVC Evaluation"
   ]
  },
  {
   "cell_type": "code",
   "execution_count": 54,
   "metadata": {
    "colab": {
     "base_uri": "https://localhost:8080/"
    },
    "id": "LXlW2VBf-qCF",
    "outputId": "000605ab-ef88-43f8-bb14-2e4628e43e82"
   },
   "outputs": [
    {
     "name": "stdout",
     "output_type": "stream",
     "text": [
      "SVC Score\n",
      "Accuracy: 0.80\n",
      "Precision: 0.59\n",
      "Recall: 0.13\n",
      "f1: 0.22\n",
      "ROC AUC: 0.55\n"
     ]
    }
   ],
   "source": [
    "print('SVC Score')\n",
    "print('Accuracy: {:.2f}'.format(accuracy_score(y1_test, y1_pred_svc)))\n",
    "print('Precision: {:.2f}'.format(precision_score(y1_test, y1_pred_svc)))\n",
    "print('Recall: {:.2f}'.format(recall_score(y1_test, y1_pred_svc)))\n",
    "print('f1: {:.2f}'.format(f1_score(y1_test, y1_pred_svc)))\n",
    "\n",
    "y1_predProba_svc = svc1.predict_proba(X1_test)[::,-1]\n",
    "print('ROC AUC: {:.2f}'.format(roc_auc_score(y1_test, y1_pred_svc)))"
   ]
  },
  {
   "cell_type": "markdown",
   "metadata": {
    "id": "loPRJRUzA-CC"
   },
   "source": [
    "## Decision Tree"
   ]
  },
  {
   "cell_type": "code",
   "execution_count": 55,
   "metadata": {
    "id": "GikRerMbBAlv"
   },
   "outputs": [],
   "source": [
    "from sklearn.tree import DecisionTreeClassifier"
   ]
  },
  {
   "cell_type": "code",
   "execution_count": 56,
   "metadata": {
    "id": "54vrqg2ccWcG"
   },
   "outputs": [],
   "source": [
    "dectree1 = DecisionTreeClassifier()\n",
    "dectree1.fit(X1_train, y1_train)\n",
    "y1_pred_dectree = dectree1.predict(X1_test)"
   ]
  },
  {
   "cell_type": "code",
   "execution_count": 57,
   "metadata": {
    "colab": {
     "base_uri": "https://localhost:8080/"
    },
    "id": "HIhSMEiTcxZa",
    "outputId": "452a32fa-93cc-4259-c2d1-17236a09728a"
   },
   "outputs": [
    {
     "data": {
      "text/plain": [
       "array([1., 0., 0., ..., 0., 0., 0.])"
      ]
     },
     "execution_count": 57,
     "metadata": {},
     "output_type": "execute_result"
    }
   ],
   "source": [
    "y1_predProba_dectree = dectree1.predict_proba(X1_test)[::,-1]\n",
    "y1_predProba_dectree"
   ]
  },
  {
   "cell_type": "markdown",
   "metadata": {
    "id": "woPQUEA-hfR_"
   },
   "source": [
    "### Decision Tree Evaluation"
   ]
  },
  {
   "cell_type": "code",
   "execution_count": 58,
   "metadata": {
    "colab": {
     "base_uri": "https://localhost:8080/"
    },
    "id": "N40S4n-mc9Ki",
    "outputId": "bc22f622-c2e6-4082-ccad-f5bf127f5ffc"
   },
   "outputs": [
    {
     "name": "stdout",
     "output_type": "stream",
     "text": [
      "Decision Tree Score\n",
      "Accuracy: 0.72\n",
      "Precision: 0.32\n",
      "Recall: 0.32\n",
      "f1: 0.32\n",
      "ROC AUC: 0.57\n"
     ]
    }
   ],
   "source": [
    "print('Decision Tree Score')\n",
    "print('Accuracy: {:.2f}'.format(accuracy_score(y1_test, y1_pred_dectree)))\n",
    "print('Precision: {:.2f}'.format(precision_score(y1_test, y1_pred_dectree)))\n",
    "print('Recall: {:.2f}'.format(recall_score(y1_test, y1_pred_dectree)))\n",
    "print('f1: {:.2f}'.format(f1_score(y1_test, y1_pred_dectree)))\n",
    "\n",
    "print('ROC AUC: {:.2f}'.format(roc_auc_score(y1_test, y1_predProba_dectree)))"
   ]
  },
  {
   "cell_type": "markdown",
   "metadata": {
    "id": "yAC1Qot5hzKy"
   },
   "source": [
    "## Random Forest"
   ]
  },
  {
   "cell_type": "code",
   "execution_count": 59,
   "metadata": {
    "id": "M2paNdXzh2gW"
   },
   "outputs": [],
   "source": [
    "from sklearn.ensemble import RandomForestClassifier"
   ]
  },
  {
   "cell_type": "code",
   "execution_count": 60,
   "metadata": {
    "id": "eEjteQyVh8Ih"
   },
   "outputs": [],
   "source": [
    "rf1 = RandomForestClassifier()\n",
    "rf1.fit(X1_train, y1_train)\n",
    "y1_pred_rf = rf1.predict(X1_test)"
   ]
  },
  {
   "cell_type": "code",
   "execution_count": 61,
   "metadata": {
    "colab": {
     "base_uri": "https://localhost:8080/"
    },
    "id": "6VE_X6EaiNe2",
    "outputId": "e539fa6d-29b6-40a3-9e14-153e5646d739"
   },
   "outputs": [
    {
     "data": {
      "text/plain": [
       "array([0.21, 0.02, 0.49, ..., 0.28, 0.36, 0.1 ])"
      ]
     },
     "execution_count": 61,
     "metadata": {},
     "output_type": "execute_result"
    }
   ],
   "source": [
    "y1_predProba_rf = rf1.predict_proba(X1_test)[::,-1]\n",
    "y1_predProba_rf"
   ]
  },
  {
   "cell_type": "markdown",
   "metadata": {
    "id": "b_d4xDs1jAQh"
   },
   "source": [
    "### Random Forest Evaluation"
   ]
  },
  {
   "cell_type": "code",
   "execution_count": 62,
   "metadata": {
    "colab": {
     "base_uri": "https://localhost:8080/"
    },
    "id": "JfRqoZHqiS1K",
    "outputId": "705ff02f-4d3f-4a96-a569-0a1fb6624c5e"
   },
   "outputs": [
    {
     "name": "stdout",
     "output_type": "stream",
     "text": [
      "Random Forest Score\n",
      "Accuracy: 0.79\n",
      "Precision: 0.49\n",
      "Recall: 0.26\n",
      "f1: 0.34\n",
      "ROC AUC: 0.70\n"
     ]
    }
   ],
   "source": [
    "print('Random Forest Score')\n",
    "print('Accuracy: {:.2f}'.format(accuracy_score(y1_test, y1_pred_rf)))\n",
    "print('Precision: {:.2f}'.format(precision_score(y1_test, y1_pred_rf)))\n",
    "print('Recall: {:.2f}'.format(recall_score(y1_test, y1_pred_rf)))\n",
    "print('f1: {:.2f}'.format(f1_score(y1_test, y1_pred_rf)))\n",
    "\n",
    "print('ROC AUC: {:.2f}'.format(roc_auc_score(y1_test, y1_predProba_rf)))"
   ]
  },
  {
   "cell_type": "markdown",
   "metadata": {
    "id": "E0bTNCWYvhhr"
   },
   "source": [
    "# Treating Imbalance Data"
   ]
  },
  {
   "cell_type": "code",
   "execution_count": 63,
   "metadata": {
    "id": "NqAXINPqMU7i"
   },
   "outputs": [],
   "source": [
    "X2 = df1.drop('Exited', axis=1)\n",
    "y2 = df1['Exited']"
   ]
  },
  {
   "cell_type": "code",
   "execution_count": 64,
   "metadata": {
    "colab": {
     "base_uri": "https://localhost:8080/"
    },
    "id": "Yy_zimctk1-G",
    "outputId": "fc14c99c-3fda-4b6a-935a-5675ed0a3b6a"
   },
   "outputs": [
    {
     "name": "stdout",
     "output_type": "stream",
     "text": [
      "Requirement already satisfied: imblearn in c:\\users\\asus\\anaconda3\\lib\\site-packages (0.0)\n",
      "Requirement already satisfied: imbalanced-learn in c:\\users\\asus\\anaconda3\\lib\\site-packages (from imblearn) (0.9.1)\n",
      "Requirement already satisfied: scipy>=1.3.2 in c:\\users\\asus\\anaconda3\\lib\\site-packages (from imbalanced-learn->imblearn) (1.7.3)\n",
      "Requirement already satisfied: joblib>=1.0.0 in c:\\users\\asus\\anaconda3\\lib\\site-packages (from imbalanced-learn->imblearn) (1.1.0)\n",
      "Requirement already satisfied: threadpoolctl>=2.0.0 in c:\\users\\asus\\anaconda3\\lib\\site-packages (from imbalanced-learn->imblearn) (2.2.0)\n",
      "Requirement already satisfied: scikit-learn>=1.1.0 in c:\\users\\asus\\anaconda3\\lib\\site-packages (from imbalanced-learn->imblearn) (1.1.2)\n",
      "Requirement already satisfied: numpy>=1.17.3 in c:\\users\\asus\\anaconda3\\lib\\site-packages (from imbalanced-learn->imblearn) (1.21.5)\n",
      "Note: you may need to restart the kernel to use updated packages.\n"
     ]
    }
   ],
   "source": [
    "pip install imblearn"
   ]
  },
  {
   "cell_type": "code",
   "execution_count": 65,
   "metadata": {
    "id": "w1MYdVMWwwmm"
   },
   "outputs": [],
   "source": [
    "from imblearn.over_sampling import SMOTE"
   ]
  },
  {
   "cell_type": "code",
   "execution_count": 66,
   "metadata": {
    "id": "TAhEJ5mPQ1fa"
   },
   "outputs": [],
   "source": [
    "X2_smote, y2_smote = SMOTE().fit_resample(X2, y2)"
   ]
  },
  {
   "cell_type": "code",
   "execution_count": 67,
   "metadata": {
    "colab": {
     "base_uri": "https://localhost:8080/"
    },
    "id": "BVUnLPurSCIU",
    "outputId": "4fdb237b-3aad-4363-c4d3-92e1ce70ce86"
   },
   "outputs": [
    {
     "data": {
      "text/plain": [
       "1    7963\n",
       "0    7963\n",
       "Name: Exited, dtype: int64"
      ]
     },
     "execution_count": 67,
     "metadata": {},
     "output_type": "execute_result"
    }
   ],
   "source": [
    "y2_smote.value_counts()"
   ]
  },
  {
   "cell_type": "markdown",
   "metadata": {
    "id": "-VTL7pedS3ej"
   },
   "source": [
    "**Train-Test Balanced Data Split**"
   ]
  },
  {
   "cell_type": "code",
   "execution_count": 68,
   "metadata": {
    "id": "EGgHJO-HRVHi"
   },
   "outputs": [],
   "source": [
    "X2_train, X2_test, y2_train, y2_test = train_test_split(X2_smote, y2_smote, test_size=0.35, random_state=123)"
   ]
  },
  {
   "cell_type": "code",
   "execution_count": 69,
   "metadata": {
    "id": "Gmfd5y1CRpSy"
   },
   "outputs": [],
   "source": [
    "# Feature Scaling\n",
    "X2_train = ss.fit_transform(X2_train)\n",
    "X2_test = ss.fit_transform(X2_test)"
   ]
  },
  {
   "cell_type": "code",
   "execution_count": 70,
   "metadata": {
    "colab": {
     "base_uri": "https://localhost:8080/"
    },
    "id": "inQnZbvJo5fR",
    "outputId": "52dc98b7-ce8f-4cfd-a3e9-0d2fde48ba01"
   },
   "outputs": [
    {
     "data": {
      "text/plain": [
       "array([[ 1.19789669,  2.0151481 ,  2.15206187, -0.06853917,  0.77401807,\n",
       "        -0.59825229],\n",
       "       [ 1.19789669, -0.89786738,  2.19564532,  0.85367124,  0.77401807,\n",
       "         1.92784145],\n",
       "       [-0.83479653,  1.21155763, -0.46294523, -0.42079805,  0.77401807,\n",
       "        -1.08280654],\n",
       "       ...,\n",
       "       [ 1.19789669,  0.10662072,  0.70291211, -0.74907642, -1.2919595 ,\n",
       "        -0.02236996],\n",
       "       [-0.83479653,  0.00617191, -0.74623766, -1.06405625, -1.2919595 ,\n",
       "        -0.56223189],\n",
       "       [ 1.19789669, -0.59652095,  0.40872381, -1.58175655,  0.77401807,\n",
       "         0.54227221]])"
      ]
     },
     "execution_count": 70,
     "metadata": {},
     "output_type": "execute_result"
    }
   ],
   "source": [
    "X2_train"
   ]
  },
  {
   "cell_type": "markdown",
   "metadata": {
    "id": "fN6j5McyhnUF"
   },
   "source": [
    "## KNN (Balanced)"
   ]
  },
  {
   "cell_type": "code",
   "execution_count": 71,
   "metadata": {
    "id": "HJdVd99Uhmyq"
   },
   "outputs": [],
   "source": [
    "knn2 = KNeighborsClassifier()"
   ]
  },
  {
   "cell_type": "code",
   "execution_count": 72,
   "metadata": {
    "id": "R9qaCA6LhzpS"
   },
   "outputs": [],
   "source": [
    "knnclassifier2 = GridSearchCV(knn2, parameters, cv=10)"
   ]
  },
  {
   "cell_type": "code",
   "execution_count": 73,
   "metadata": {
    "colab": {
     "base_uri": "https://localhost:8080/"
    },
    "id": "xco4Aqv_h7Nb",
    "outputId": "c7f5928c-811c-4db2-a724-f9fa06bde3e0"
   },
   "outputs": [
    {
     "data": {
      "text/html": [
       "<style>#sk-container-id-2 {color: black;background-color: white;}#sk-container-id-2 pre{padding: 0;}#sk-container-id-2 div.sk-toggleable {background-color: white;}#sk-container-id-2 label.sk-toggleable__label {cursor: pointer;display: block;width: 100%;margin-bottom: 0;padding: 0.3em;box-sizing: border-box;text-align: center;}#sk-container-id-2 label.sk-toggleable__label-arrow:before {content: \"▸\";float: left;margin-right: 0.25em;color: #696969;}#sk-container-id-2 label.sk-toggleable__label-arrow:hover:before {color: black;}#sk-container-id-2 div.sk-estimator:hover label.sk-toggleable__label-arrow:before {color: black;}#sk-container-id-2 div.sk-toggleable__content {max-height: 0;max-width: 0;overflow: hidden;text-align: left;background-color: #f0f8ff;}#sk-container-id-2 div.sk-toggleable__content pre {margin: 0.2em;color: black;border-radius: 0.25em;background-color: #f0f8ff;}#sk-container-id-2 input.sk-toggleable__control:checked~div.sk-toggleable__content {max-height: 200px;max-width: 100%;overflow: auto;}#sk-container-id-2 input.sk-toggleable__control:checked~label.sk-toggleable__label-arrow:before {content: \"▾\";}#sk-container-id-2 div.sk-estimator input.sk-toggleable__control:checked~label.sk-toggleable__label {background-color: #d4ebff;}#sk-container-id-2 div.sk-label input.sk-toggleable__control:checked~label.sk-toggleable__label {background-color: #d4ebff;}#sk-container-id-2 input.sk-hidden--visually {border: 0;clip: rect(1px 1px 1px 1px);clip: rect(1px, 1px, 1px, 1px);height: 1px;margin: -1px;overflow: hidden;padding: 0;position: absolute;width: 1px;}#sk-container-id-2 div.sk-estimator {font-family: monospace;background-color: #f0f8ff;border: 1px dotted black;border-radius: 0.25em;box-sizing: border-box;margin-bottom: 0.5em;}#sk-container-id-2 div.sk-estimator:hover {background-color: #d4ebff;}#sk-container-id-2 div.sk-parallel-item::after {content: \"\";width: 100%;border-bottom: 1px solid gray;flex-grow: 1;}#sk-container-id-2 div.sk-label:hover label.sk-toggleable__label {background-color: #d4ebff;}#sk-container-id-2 div.sk-serial::before {content: \"\";position: absolute;border-left: 1px solid gray;box-sizing: border-box;top: 0;bottom: 0;left: 50%;z-index: 0;}#sk-container-id-2 div.sk-serial {display: flex;flex-direction: column;align-items: center;background-color: white;padding-right: 0.2em;padding-left: 0.2em;position: relative;}#sk-container-id-2 div.sk-item {position: relative;z-index: 1;}#sk-container-id-2 div.sk-parallel {display: flex;align-items: stretch;justify-content: center;background-color: white;position: relative;}#sk-container-id-2 div.sk-item::before, #sk-container-id-2 div.sk-parallel-item::before {content: \"\";position: absolute;border-left: 1px solid gray;box-sizing: border-box;top: 0;bottom: 0;left: 50%;z-index: -1;}#sk-container-id-2 div.sk-parallel-item {display: flex;flex-direction: column;z-index: 1;position: relative;background-color: white;}#sk-container-id-2 div.sk-parallel-item:first-child::after {align-self: flex-end;width: 50%;}#sk-container-id-2 div.sk-parallel-item:last-child::after {align-self: flex-start;width: 50%;}#sk-container-id-2 div.sk-parallel-item:only-child::after {width: 0;}#sk-container-id-2 div.sk-dashed-wrapped {border: 1px dashed gray;margin: 0 0.4em 0.5em 0.4em;box-sizing: border-box;padding-bottom: 0.4em;background-color: white;}#sk-container-id-2 div.sk-label label {font-family: monospace;font-weight: bold;display: inline-block;line-height: 1.2em;}#sk-container-id-2 div.sk-label-container {text-align: center;}#sk-container-id-2 div.sk-container {/* jupyter's `normalize.less` sets `[hidden] { display: none; }` but bootstrap.min.css set `[hidden] { display: none !important; }` so we also need the `!important` here to be able to override the default hidden behavior on the sphinx rendered scikit-learn.org. See: https://github.com/scikit-learn/scikit-learn/issues/21755 */display: inline-block !important;position: relative;}#sk-container-id-2 div.sk-text-repr-fallback {display: none;}</style><div id=\"sk-container-id-2\" class=\"sk-top-container\"><div class=\"sk-text-repr-fallback\"><pre>GridSearchCV(cv=10, estimator=KNeighborsClassifier(),\n",
       "             param_grid={&#x27;n_neighbors&#x27;: array([ 1,  2,  3,  4,  5,  6,  7,  8,  9, 10, 11, 12, 13, 14, 15, 16, 17,\n",
       "       18, 19, 20, 21, 22, 23, 24, 25, 26, 27, 28, 29, 30, 31, 32, 33, 34,\n",
       "       35, 36, 37, 38, 39, 40, 41, 42, 43, 44, 45, 46, 47, 48, 49, 50, 51,\n",
       "       52, 53, 54, 55, 56, 57, 58, 59, 60, 61, 62, 63, 64, 65, 66, 67, 68,\n",
       "       69, 70, 71, 72, 73, 74, 75, 76, 77, 78, 79, 80, 81, 82, 83, 84, 85,\n",
       "       86, 87, 88, 89, 90, 91, 92, 93, 94, 95, 96, 97, 98, 99])})</pre><b>In a Jupyter environment, please rerun this cell to show the HTML representation or trust the notebook. <br />On GitHub, the HTML representation is unable to render, please try loading this page with nbviewer.org.</b></div><div class=\"sk-container\" hidden><div class=\"sk-item sk-dashed-wrapped\"><div class=\"sk-label-container\"><div class=\"sk-label sk-toggleable\"><input class=\"sk-toggleable__control sk-hidden--visually\" id=\"sk-estimator-id-4\" type=\"checkbox\" ><label for=\"sk-estimator-id-4\" class=\"sk-toggleable__label sk-toggleable__label-arrow\">GridSearchCV</label><div class=\"sk-toggleable__content\"><pre>GridSearchCV(cv=10, estimator=KNeighborsClassifier(),\n",
       "             param_grid={&#x27;n_neighbors&#x27;: array([ 1,  2,  3,  4,  5,  6,  7,  8,  9, 10, 11, 12, 13, 14, 15, 16, 17,\n",
       "       18, 19, 20, 21, 22, 23, 24, 25, 26, 27, 28, 29, 30, 31, 32, 33, 34,\n",
       "       35, 36, 37, 38, 39, 40, 41, 42, 43, 44, 45, 46, 47, 48, 49, 50, 51,\n",
       "       52, 53, 54, 55, 56, 57, 58, 59, 60, 61, 62, 63, 64, 65, 66, 67, 68,\n",
       "       69, 70, 71, 72, 73, 74, 75, 76, 77, 78, 79, 80, 81, 82, 83, 84, 85,\n",
       "       86, 87, 88, 89, 90, 91, 92, 93, 94, 95, 96, 97, 98, 99])})</pre></div></div></div><div class=\"sk-parallel\"><div class=\"sk-parallel-item\"><div class=\"sk-item\"><div class=\"sk-label-container\"><div class=\"sk-label sk-toggleable\"><input class=\"sk-toggleable__control sk-hidden--visually\" id=\"sk-estimator-id-5\" type=\"checkbox\" ><label for=\"sk-estimator-id-5\" class=\"sk-toggleable__label sk-toggleable__label-arrow\">estimator: KNeighborsClassifier</label><div class=\"sk-toggleable__content\"><pre>KNeighborsClassifier()</pre></div></div></div><div class=\"sk-serial\"><div class=\"sk-item\"><div class=\"sk-estimator sk-toggleable\"><input class=\"sk-toggleable__control sk-hidden--visually\" id=\"sk-estimator-id-6\" type=\"checkbox\" ><label for=\"sk-estimator-id-6\" class=\"sk-toggleable__label sk-toggleable__label-arrow\">KNeighborsClassifier</label><div class=\"sk-toggleable__content\"><pre>KNeighborsClassifier()</pre></div></div></div></div></div></div></div></div></div></div>"
      ],
      "text/plain": [
       "GridSearchCV(cv=10, estimator=KNeighborsClassifier(),\n",
       "             param_grid={'n_neighbors': array([ 1,  2,  3,  4,  5,  6,  7,  8,  9, 10, 11, 12, 13, 14, 15, 16, 17,\n",
       "       18, 19, 20, 21, 22, 23, 24, 25, 26, 27, 28, 29, 30, 31, 32, 33, 34,\n",
       "       35, 36, 37, 38, 39, 40, 41, 42, 43, 44, 45, 46, 47, 48, 49, 50, 51,\n",
       "       52, 53, 54, 55, 56, 57, 58, 59, 60, 61, 62, 63, 64, 65, 66, 67, 68,\n",
       "       69, 70, 71, 72, 73, 74, 75, 76, 77, 78, 79, 80, 81, 82, 83, 84, 85,\n",
       "       86, 87, 88, 89, 90, 91, 92, 93, 94, 95, 96, 97, 98, 99])})"
      ]
     },
     "execution_count": 73,
     "metadata": {},
     "output_type": "execute_result"
    }
   ],
   "source": [
    "knnclassifier2.fit(X2_train, y2_train)"
   ]
  },
  {
   "cell_type": "code",
   "execution_count": 74,
   "metadata": {
    "colab": {
     "base_uri": "https://localhost:8080/"
    },
    "id": "AWOPqXHyio5l",
    "outputId": "f90e18bc-c060-4494-c565-c385a932555f"
   },
   "outputs": [
    {
     "name": "stdout",
     "output_type": "stream",
     "text": [
      "0.7418602764254938\n",
      "{'n_neighbors': 62}\n"
     ]
    }
   ],
   "source": [
    "print(knnclassifier2.best_score_)\n",
    "print(knnclassifier2.best_params_)"
   ]
  },
  {
   "cell_type": "code",
   "execution_count": 75,
   "metadata": {
    "id": "kiGV9Ctvjdm8"
   },
   "outputs": [],
   "source": [
    "y2_pred_knn = knnclassifier2.predict(X2_test)"
   ]
  },
  {
   "cell_type": "code",
   "execution_count": 76,
   "metadata": {
    "id": "_aZdPSelkZwY"
   },
   "outputs": [],
   "source": [
    "y2_predProba_knn = knnclassifier2.predict_proba(X2_test)[::,-1]"
   ]
  },
  {
   "cell_type": "code",
   "execution_count": 77,
   "metadata": {
    "colab": {
     "base_uri": "https://localhost:8080/"
    },
    "id": "iC1NtHkqki3X",
    "outputId": "2628289e-0ca3-4fb8-ea0f-d2aef2a72950"
   },
   "outputs": [
    {
     "data": {
      "text/plain": [
       "array([0.48387097, 0.69354839, 0.61290323, ..., 0.62903226, 0.29032258,\n",
       "       0.91935484])"
      ]
     },
     "execution_count": 77,
     "metadata": {},
     "output_type": "execute_result"
    }
   ],
   "source": [
    "y2_predProba_knn"
   ]
  },
  {
   "cell_type": "markdown",
   "metadata": {
    "id": "HLis3CA6lakW"
   },
   "source": [
    "### KNN (Balanced) Evaluation"
   ]
  },
  {
   "cell_type": "code",
   "execution_count": 78,
   "metadata": {
    "colab": {
     "base_uri": "https://localhost:8080/"
    },
    "id": "4O_C_g6Bj7Tz",
    "outputId": "5a67daeb-6170-4253-c439-09794b56f1fc"
   },
   "outputs": [
    {
     "name": "stdout",
     "output_type": "stream",
     "text": [
      "KNN Score (Balanced)\n",
      "Accuracy: 0.74\n",
      "Precision: 0.73\n",
      "Recall: 0.75\n",
      "f1: 0.74\n",
      "ROC AUC: 0.81\n"
     ]
    }
   ],
   "source": [
    "print('KNN Score (Balanced)')\n",
    "print('Accuracy: {:.2f}'.format(accuracy_score(y2_test, y2_pred_knn)))\n",
    "print('Precision: {:.2f}'.format(precision_score(y2_test, y2_pred_knn)))\n",
    "print('Recall: {:.2f}'.format(recall_score(y2_test, y2_pred_knn)))\n",
    "print('f1: {:.2f}'.format(f1_score(y2_test, y2_pred_knn)))\n",
    "print('ROC AUC: {:.2f}'.format(roc_auc_score(y2_test, y2_predProba_knn)))"
   ]
  },
  {
   "cell_type": "markdown",
   "metadata": {
    "id": "OZf4q4t_7Kcy"
   },
   "source": [
    "## LR (Balanced)"
   ]
  },
  {
   "cell_type": "code",
   "execution_count": 79,
   "metadata": {
    "id": "tptZHCUa7PMu"
   },
   "outputs": [],
   "source": [
    "log2 = LogisticRegression()\n",
    "log2.fit(X2_train, y2_train)\n",
    "y2_pred_log = log2.predict(X2_test)"
   ]
  },
  {
   "cell_type": "markdown",
   "metadata": {
    "id": "KxhEVHoJ78A-"
   },
   "source": [
    "### LR (Balanced) Evaluation"
   ]
  },
  {
   "cell_type": "code",
   "execution_count": 80,
   "metadata": {
    "colab": {
     "base_uri": "https://localhost:8080/"
    },
    "id": "2Zc730c37Jvy",
    "outputId": "5c639046-221b-4671-fd26-4abdb9b95922"
   },
   "outputs": [
    {
     "name": "stdout",
     "output_type": "stream",
     "text": [
      "Logistic Regression (Balanced) Score\n",
      "Accuracy: 0.72\n",
      "Precision: 0.70\n",
      "Recall: 0.74\n",
      "f1: 0.72\n",
      "ROC AUC: 0.79\n"
     ]
    }
   ],
   "source": [
    "print('Logistic Regression (Balanced) Score')\n",
    "print('Accuracy: {:.2f}'.format(accuracy_score(y2_test, y2_pred_log)))\n",
    "print('Precision: {:.2f}'.format(precision_score(y2_test, y2_pred_log)))\n",
    "print('Recall: {:.2f}'.format(recall_score(y2_test, y2_pred_log)))\n",
    "print('f1: {:.2f}'.format(f1_score(y2_test, y2_pred_log)))\n",
    "\n",
    "y2_predProba_log = log2.predict_proba(X2_test)[::,-1]\n",
    "print('ROC AUC: {:.2f}'.format(roc_auc_score(y2_test, y2_predProba_log)))"
   ]
  },
  {
   "cell_type": "markdown",
   "metadata": {
    "id": "ga4YcJXe_3T_"
   },
   "source": [
    "## SVC (Balanced)"
   ]
  },
  {
   "cell_type": "code",
   "execution_count": 81,
   "metadata": {
    "id": "ZJ9rAH29_5-3"
   },
   "outputs": [],
   "source": [
    "svc2 = SVC(probability=True)\n",
    "svc2.fit(X2_train, y2_train)\n",
    "y2_pred_svc = svc2.predict(X2_test)"
   ]
  },
  {
   "cell_type": "markdown",
   "metadata": {
    "id": "6Q-TjwZZAHEt"
   },
   "source": [
    "### SVC (Balanced) Evaluation"
   ]
  },
  {
   "cell_type": "code",
   "execution_count": 82,
   "metadata": {
    "colab": {
     "base_uri": "https://localhost:8080/"
    },
    "id": "ijRAt7iiAOsl",
    "outputId": "25df089d-9b3a-4b29-fae0-479f0262b3ae"
   },
   "outputs": [
    {
     "name": "stdout",
     "output_type": "stream",
     "text": [
      "SVC (Balanced) Score\n",
      "Accuracy: 0.74\n",
      "Precision: 0.73\n",
      "Recall: 0.76\n",
      "f1: 0.74\n",
      "ROC AUC: 0.81\n"
     ]
    }
   ],
   "source": [
    "print('SVC (Balanced) Score')\n",
    "print('Accuracy: {:.2f}'.format(accuracy_score(y2_test, y2_pred_svc)))\n",
    "print('Precision: {:.2f}'.format(precision_score(y2_test, y2_pred_svc)))\n",
    "print('Recall: {:.2f}'.format(recall_score(y2_test, y2_pred_svc)))\n",
    "print('f1: {:.2f}'.format(f1_score(y2_test, y2_pred_svc)))\n",
    "\n",
    "y2_predProba_svc = svc2.predict_proba(X2_test)[::,-1]\n",
    "print('ROC AUC: {:.2f}'.format(roc_auc_score(y2_test, y2_predProba_svc)))"
   ]
  },
  {
   "cell_type": "markdown",
   "metadata": {
    "id": "fcYYiR9OdRHw"
   },
   "source": [
    "## Decision Tree (Balanced)"
   ]
  },
  {
   "cell_type": "code",
   "execution_count": 83,
   "metadata": {
    "id": "7eYmU3evdUuE"
   },
   "outputs": [],
   "source": [
    "dectree2 = DecisionTreeClassifier()\n",
    "dectree2.fit(X2_train, y2_train)\n",
    "y2_pred_dectree = dectree2.predict(X2_test)"
   ]
  },
  {
   "cell_type": "code",
   "execution_count": 84,
   "metadata": {
    "colab": {
     "base_uri": "https://localhost:8080/"
    },
    "id": "wR8J9Z_kdcKy",
    "outputId": "3d30950e-bf68-44c7-e859-6e48b13c21f1"
   },
   "outputs": [
    {
     "data": {
      "text/plain": [
       "array([0., 0., 1., ..., 1., 1., 1.])"
      ]
     },
     "execution_count": 84,
     "metadata": {},
     "output_type": "execute_result"
    }
   ],
   "source": [
    "y2_predProba_dectree = dectree2.predict_proba(X2_test)[::,-1]\n",
    "y2_predProba_dectree"
   ]
  },
  {
   "cell_type": "markdown",
   "metadata": {
    "id": "cHWNZFCUd3VU"
   },
   "source": [
    "### Decision Tree (Balanced) Evaluation"
   ]
  },
  {
   "cell_type": "code",
   "execution_count": 85,
   "metadata": {
    "colab": {
     "base_uri": "https://localhost:8080/"
    },
    "id": "1QVOeO6TdjJu",
    "outputId": "78860686-630b-40af-de8c-fa83d87a9245"
   },
   "outputs": [
    {
     "name": "stdout",
     "output_type": "stream",
     "text": [
      "Decision Tree (Balanced) Score\n",
      "Accuracy: 0.69\n",
      "Precision: 0.69\n",
      "Recall: 0.69\n",
      "f1: 0.69\n",
      "ROC AUC: 0.69\n"
     ]
    }
   ],
   "source": [
    "print('Decision Tree (Balanced) Score')\n",
    "print('Accuracy: {:.2f}'.format(accuracy_score(y2_test, y2_pred_dectree)))\n",
    "print('Precision: {:.2f}'.format(precision_score(y2_test, y2_pred_dectree)))\n",
    "print('Recall: {:.2f}'.format(recall_score(y2_test, y2_pred_dectree)))\n",
    "print('f1: {:.2f}'.format(f1_score(y2_test, y2_pred_dectree)))\n",
    "\n",
    "print('ROC AUC: {:.2f}'.format(roc_auc_score(y2_test, y2_predProba_dectree)))"
   ]
  },
  {
   "cell_type": "markdown",
   "metadata": {
    "id": "hpfv8Fb9iklZ"
   },
   "source": [
    "## Random Forest (Balanced)"
   ]
  },
  {
   "cell_type": "code",
   "execution_count": 86,
   "metadata": {
    "id": "P7yyH8Bwio4n"
   },
   "outputs": [],
   "source": [
    "rf2 = RandomForestClassifier()\n",
    "rf2.fit(X2_train, y2_train)\n",
    "y2_pred_rf = rf2.predict(X2_test)"
   ]
  },
  {
   "cell_type": "code",
   "execution_count": 87,
   "metadata": {
    "colab": {
     "base_uri": "https://localhost:8080/"
    },
    "id": "wUV_rUeMiy0a",
    "outputId": "334090c4-6639-46d0-92f0-631ee1b33b3b"
   },
   "outputs": [
    {
     "data": {
      "text/plain": [
       "array([0.38, 0.39, 0.79, ..., 0.38, 0.39, 0.97])"
      ]
     },
     "execution_count": 87,
     "metadata": {},
     "output_type": "execute_result"
    }
   ],
   "source": [
    "y2_predProba_rf = rf2.predict_proba(X2_test)[::,-1]\n",
    "y2_predProba_rf"
   ]
  },
  {
   "cell_type": "markdown",
   "metadata": {
    "id": "hGRiJ4WqjTr3"
   },
   "source": [
    "### Random Forest (Balanced) Evaluation"
   ]
  },
  {
   "cell_type": "code",
   "execution_count": 88,
   "metadata": {
    "colab": {
     "base_uri": "https://localhost:8080/"
    },
    "id": "rGdkUqT9i-s_",
    "outputId": "9dc5e691-61b3-4137-86db-d056e600a0d8"
   },
   "outputs": [
    {
     "name": "stdout",
     "output_type": "stream",
     "text": [
      "Random Forest (Balanced) Score\n",
      "Accuracy: 0.74\n",
      "Precision: 0.74\n",
      "Recall: 0.73\n",
      "f1: 0.74\n",
      "ROC AUC: 0.82\n"
     ]
    }
   ],
   "source": [
    "print('Random Forest (Balanced) Score')\n",
    "print('Accuracy: {:.2f}'.format(accuracy_score(y2_test, y2_pred_rf)))\n",
    "print('Precision: {:.2f}'.format(precision_score(y2_test, y2_pred_rf)))\n",
    "print('Recall: {:.2f}'.format(recall_score(y2_test, y2_pred_rf)))\n",
    "print('f1: {:.2f}'.format(f1_score(y2_test, y2_pred_rf)))\n",
    "\n",
    "print('ROC AUC: {:.2f}'.format(roc_auc_score(y2_test, y2_predProba_rf)))"
   ]
  },
  {
   "cell_type": "markdown",
   "metadata": {
    "id": "acT99KftrFoP"
   },
   "source": [
    "# Feature Importance"
   ]
  },
  {
   "cell_type": "code",
   "execution_count": 89,
   "metadata": {
    "id": "ZDZ6IPcSrI3B"
   },
   "outputs": [],
   "source": [
    "X1_train_fi = X1_train.copy()\n",
    "X1_test_fi = X1_test.copy()\n",
    "\n",
    "X2_train_fi = X2_train.copy()\n",
    "X2_test_fi = X2_test.copy()"
   ]
  },
  {
   "cell_type": "markdown",
   "metadata": {
    "id": "3HO6JD04t4Oy"
   },
   "source": [
    "**Feature Importance Sebelum SMOTE**"
   ]
  },
  {
   "cell_type": "code",
   "execution_count": 90,
   "metadata": {
    "id": "9pLr5WBBtFx9"
   },
   "outputs": [],
   "source": [
    "X1_train_fi = pd.DataFrame(X1_train_fi, columns = X1.columns)\n",
    "\n",
    "X1_test_fi = pd.DataFrame(X1_test_fi, columns=X1.columns)"
   ]
  },
  {
   "cell_type": "code",
   "execution_count": 91,
   "metadata": {
    "colab": {
     "base_uri": "https://localhost:8080/",
     "height": 302
    },
    "id": "Q5G3x5SatWQl",
    "outputId": "9870fd29-39d8-4dbc-d456-9e12fecc8334"
   },
   "outputs": [
    {
     "data": {
      "text/html": [
       "<div>\n",
       "<style scoped>\n",
       "    .dataframe tbody tr th:only-of-type {\n",
       "        vertical-align: middle;\n",
       "    }\n",
       "\n",
       "    .dataframe tbody tr th {\n",
       "        vertical-align: top;\n",
       "    }\n",
       "\n",
       "    .dataframe thead th {\n",
       "        text-align: right;\n",
       "    }\n",
       "</style>\n",
       "<table border=\"1\" class=\"dataframe\">\n",
       "  <thead>\n",
       "    <tr style=\"text-align: right;\">\n",
       "      <th></th>\n",
       "      <th>Features</th>\n",
       "      <th>Importance</th>\n",
       "    </tr>\n",
       "  </thead>\n",
       "  <tbody>\n",
       "    <tr>\n",
       "      <th>5</th>\n",
       "      <td>CrdScoreGivenAge</td>\n",
       "      <td>0.265248</td>\n",
       "    </tr>\n",
       "    <tr>\n",
       "      <th>3</th>\n",
       "      <td>EstimatedSalary</td>\n",
       "      <td>0.254041</td>\n",
       "    </tr>\n",
       "    <tr>\n",
       "      <th>2</th>\n",
       "      <td>CreditScore</td>\n",
       "      <td>0.224261</td>\n",
       "    </tr>\n",
       "    <tr>\n",
       "      <th>1</th>\n",
       "      <td>Age</td>\n",
       "      <td>0.216634</td>\n",
       "    </tr>\n",
       "    <tr>\n",
       "      <th>4</th>\n",
       "      <td>HasCrCard</td>\n",
       "      <td>0.021662</td>\n",
       "    </tr>\n",
       "    <tr>\n",
       "      <th>0</th>\n",
       "      <td>Gender</td>\n",
       "      <td>0.018154</td>\n",
       "    </tr>\n",
       "  </tbody>\n",
       "</table>\n",
       "</div>"
      ],
      "text/plain": [
       "           Features  Importance\n",
       "5  CrdScoreGivenAge    0.265248\n",
       "3   EstimatedSalary    0.254041\n",
       "2       CreditScore    0.224261\n",
       "1               Age    0.216634\n",
       "4         HasCrCard    0.021662\n",
       "0            Gender    0.018154"
      ]
     },
     "execution_count": 91,
     "metadata": {},
     "output_type": "execute_result"
    }
   ],
   "source": [
    "df_fi=pd.DataFrame(zip(X1_train_fi.columns, rf1.feature_importances_),columns=[\"Features\", \"Importance\"])\n",
    "df_fi.sort_values(by=\"Importance\", ascending=False)"
   ]
  },
  {
   "cell_type": "markdown",
   "metadata": {
    "id": "zSqEYe3luKTG"
   },
   "source": [
    "**Feature Importance Setelah SMOTE**"
   ]
  },
  {
   "cell_type": "code",
   "execution_count": 92,
   "metadata": {
    "id": "u40W4hehuPti"
   },
   "outputs": [],
   "source": [
    "X2_train_fi = pd.DataFrame(X2_train_fi, columns = X2.columns)\n",
    "\n",
    "X2_test_fi = pd.DataFrame(X2_test_fi, columns=X2.columns)"
   ]
  },
  {
   "cell_type": "code",
   "execution_count": 93,
   "metadata": {
    "colab": {
     "base_uri": "https://localhost:8080/",
     "height": 302
    },
    "id": "Egqh9raRug1w",
    "outputId": "af9f4e7b-d690-4d04-ff69-d00fd351b258"
   },
   "outputs": [
    {
     "data": {
      "text/html": [
       "<div>\n",
       "<style scoped>\n",
       "    .dataframe tbody tr th:only-of-type {\n",
       "        vertical-align: middle;\n",
       "    }\n",
       "\n",
       "    .dataframe tbody tr th {\n",
       "        vertical-align: top;\n",
       "    }\n",
       "\n",
       "    .dataframe thead th {\n",
       "        text-align: right;\n",
       "    }\n",
       "</style>\n",
       "<table border=\"1\" class=\"dataframe\">\n",
       "  <thead>\n",
       "    <tr style=\"text-align: right;\">\n",
       "      <th></th>\n",
       "      <th>Features</th>\n",
       "      <th>Importance</th>\n",
       "    </tr>\n",
       "  </thead>\n",
       "  <tbody>\n",
       "    <tr>\n",
       "      <th>5</th>\n",
       "      <td>CrdScoreGivenAge</td>\n",
       "      <td>0.265248</td>\n",
       "    </tr>\n",
       "    <tr>\n",
       "      <th>3</th>\n",
       "      <td>EstimatedSalary</td>\n",
       "      <td>0.254041</td>\n",
       "    </tr>\n",
       "    <tr>\n",
       "      <th>2</th>\n",
       "      <td>CreditScore</td>\n",
       "      <td>0.224261</td>\n",
       "    </tr>\n",
       "    <tr>\n",
       "      <th>1</th>\n",
       "      <td>Age</td>\n",
       "      <td>0.216634</td>\n",
       "    </tr>\n",
       "    <tr>\n",
       "      <th>4</th>\n",
       "      <td>HasCrCard</td>\n",
       "      <td>0.021662</td>\n",
       "    </tr>\n",
       "    <tr>\n",
       "      <th>0</th>\n",
       "      <td>Gender</td>\n",
       "      <td>0.018154</td>\n",
       "    </tr>\n",
       "  </tbody>\n",
       "</table>\n",
       "</div>"
      ],
      "text/plain": [
       "           Features  Importance\n",
       "5  CrdScoreGivenAge    0.265248\n",
       "3   EstimatedSalary    0.254041\n",
       "2       CreditScore    0.224261\n",
       "1               Age    0.216634\n",
       "4         HasCrCard    0.021662\n",
       "0            Gender    0.018154"
      ]
     },
     "execution_count": 93,
     "metadata": {},
     "output_type": "execute_result"
    }
   ],
   "source": [
    "df_fi=pd.DataFrame(zip(X1_train_fi.columns, rf1.feature_importances_),columns=[\"Features\", \"Importance\"])\n",
    "df_fi.sort_values(by=\"Importance\", ascending=False)"
   ]
  },
  {
   "cell_type": "markdown",
   "metadata": {
    "id": "-oPklzrek1-W"
   },
   "source": [
    "# Junk"
   ]
  },
  {
   "cell_type": "code",
   "execution_count": 94,
   "metadata": {
    "id": "SR-pkJqyk1-W"
   },
   "outputs": [],
   "source": [
    "# X2_smote = ss.fit_transform(X2_smote)"
   ]
  },
  {
   "cell_type": "code",
   "execution_count": 95,
   "metadata": {
    "id": "RWuwqh_yk1-W"
   },
   "outputs": [],
   "source": [
    "# rf2.fit(X2_smote, y2_smote)"
   ]
  },
  {
   "cell_type": "code",
   "execution_count": 96,
   "metadata": {
    "id": "WOIV_GyLk1-W"
   },
   "outputs": [],
   "source": [
    "# import pickle"
   ]
  },
  {
   "cell_type": "code",
   "execution_count": 97,
   "metadata": {
    "id": "4KQh392lk1-W"
   },
   "outputs": [],
   "source": [
    "# filename = 'model.sav'"
   ]
  },
  {
   "cell_type": "code",
   "execution_count": 98,
   "metadata": {
    "id": "zirojz3Tk1-W"
   },
   "outputs": [],
   "source": [
    "# pickle.dump(rf2, open(filename, 'wb'))"
   ]
  },
  {
   "cell_type": "code",
   "execution_count": 99,
   "metadata": {
    "id": "QCOpzjZYk1-X"
   },
   "outputs": [],
   "source": [
    "# load_model = pickle.load(open(filename, 'rb'))"
   ]
  },
  {
   "cell_type": "code",
   "execution_count": 100,
   "metadata": {
    "id": "euzPqzvrk1-X"
   },
   "outputs": [],
   "source": [
    "# load_model.predict([[0, 42, 619, 101348.88, 1, 14.738095]])"
   ]
  },
  {
   "cell_type": "code",
   "execution_count": 101,
   "metadata": {
    "id": "cbAuX6Hak1-X"
   },
   "outputs": [],
   "source": [
    "# import joblib"
   ]
  },
  {
   "cell_type": "code",
   "execution_count": 102,
   "metadata": {
    "id": "FoUu0dfRk1-Y"
   },
   "outputs": [],
   "source": [
    "# joblib.dump(rf2, 'churnpredict')"
   ]
  },
  {
   "cell_type": "code",
   "execution_count": 103,
   "metadata": {
    "id": "zYwbsxm_k1-Y"
   },
   "outputs": [],
   "source": [
    "# mdl = joblib.load('churnpredict')"
   ]
  },
  {
   "cell_type": "code",
   "execution_count": 104,
   "metadata": {
    "id": "yaA0Vq5Xk1-Y"
   },
   "outputs": [],
   "source": [
    "# mdl.predict([[0, 42, 619, 101348.88, 1, 14.738095]])"
   ]
  },
  {
   "cell_type": "code",
   "execution_count": 105,
   "metadata": {
    "id": "FXrRiFtjk1-Z"
   },
   "outputs": [],
   "source": [
    "# # 0\t42\t619\t101348.88\t1\t1\t14.738095\n",
    "# input_data = (0, 42, 619, 101348.88, 1, 14.738095)\n",
    "\n",
    "# # changing the input_data as array\n",
    "# input_data_asarray = np.asarray(input_data)\n",
    "\n",
    "# # reshape the array as we are predicting for one instance\n",
    "# input_data_reshaped = input_data_asarray.reshape(1,-1)\n",
    "\n",
    "# prediction = rf2.predict(input_data_reshaped)\n",
    "# print(prediction)\n",
    "\n",
    "# if (prediction[0] == 0):\n",
    "#     print('The person is not churned')\n",
    "# else:\n",
    "#     print('The person is churned')"
   ]
  },
  {
   "cell_type": "markdown",
   "metadata": {
    "id": "NtVRfry1K-8W"
   },
   "source": [
    "# Percobaan tanpa Feature Scaling"
   ]
  },
  {
   "cell_type": "markdown",
   "metadata": {
    "id": "Xt-dOT11nK51"
   },
   "source": [
    "# **Optimalization**"
   ]
  },
  {
   "cell_type": "code",
   "execution_count": 106,
   "metadata": {
    "id": "24PWuCzLLEOT"
   },
   "outputs": [],
   "source": [
    "Xp = X2_smote.copy()\n",
    "yp = y2_smote.copy()"
   ]
  },
  {
   "cell_type": "code",
   "execution_count": 107,
   "metadata": {
    "id": "RVfXsNaRMiKr"
   },
   "outputs": [],
   "source": [
    "Xp_train, Xp_test, yp_train, yp_test = train_test_split(Xp, yp, test_size=0.35, random_state=1)"
   ]
  },
  {
   "cell_type": "code",
   "execution_count": 108,
   "metadata": {
    "id": "dc7rsEhmM9uP"
   },
   "outputs": [],
   "source": [
    "knnclassifier2.fit(Xp_train, yp_train)\n",
    "yp_pred = knnclassifier2.predict(Xp_test)"
   ]
  },
  {
   "cell_type": "code",
   "execution_count": 109,
   "metadata": {
    "colab": {
     "base_uri": "https://localhost:8080/"
    },
    "id": "V9znnYe5Nnzy",
    "outputId": "e737d73c-06de-4245-9f2c-b6187853be7f"
   },
   "outputs": [
    {
     "data": {
      "text/plain": [
       "array([1, 0, 1, ..., 0, 1, 0], dtype=int64)"
      ]
     },
     "execution_count": 109,
     "metadata": {},
     "output_type": "execute_result"
    }
   ],
   "source": [
    "yp_pred"
   ]
  },
  {
   "cell_type": "code",
   "execution_count": 110,
   "metadata": {
    "colab": {
     "base_uri": "https://localhost:8080/"
    },
    "id": "NKCcU4fJNegE",
    "outputId": "bec87459-727c-47a8-80fc-074ed04ef0df"
   },
   "outputs": [
    {
     "data": {
      "text/plain": [
       "array([1., 0., 1., ..., 0., 1., 0.])"
      ]
     },
     "execution_count": 110,
     "metadata": {},
     "output_type": "execute_result"
    }
   ],
   "source": [
    "yp_pred_proba = knnclassifier2.predict_proba(Xp_test)[::,-1]\n",
    "yp_pred_proba"
   ]
  },
  {
   "cell_type": "code",
   "execution_count": 111,
   "metadata": {
    "colab": {
     "base_uri": "https://localhost:8080/"
    },
    "id": "brqucUMrNsYX",
    "outputId": "7cddcfec-e0f2-48b6-9f68-dd0a03890a08"
   },
   "outputs": [
    {
     "name": "stdout",
     "output_type": "stream",
     "text": [
      "Random Forest (Balanced)(Without Feature Scaling) Score\n",
      "Accuracy: 0.71\n",
      "Precision: 0.70\n",
      "Recall: 0.76\n",
      "f1: 0.73\n",
      "ROC AUC: 0.71\n"
     ]
    }
   ],
   "source": [
    "print('Random Forest (Balanced)(Without Feature Scaling) Score')\n",
    "print('Accuracy: {:.2f}'.format(accuracy_score(yp_test, yp_pred)))\n",
    "print('Precision: {:.2f}'.format(precision_score(yp_test, yp_pred)))\n",
    "print('Recall: {:.2f}'.format(recall_score(yp_test, yp_pred)))\n",
    "print('f1: {:.2f}'.format(f1_score(yp_test, yp_pred)))\n",
    "\n",
    "print('ROC AUC: {:.2f}'.format(roc_auc_score(yp_test, yp_pred_proba)))"
   ]
  },
  {
   "cell_type": "markdown",
   "metadata": {
    "id": "uHA5yTIyS9MS"
   },
   "source": [
    "Best Parameter of Random Forest"
   ]
  },
  {
   "cell_type": "code",
   "execution_count": 112,
   "metadata": {
    "id": "7ZwamIRXTj26"
   },
   "outputs": [],
   "source": [
    "paramRF = {'n_estimators': np.arange(10,1000), 'max_depth': np.arange(10,100)}"
   ]
  },
  {
   "cell_type": "code",
   "execution_count": 113,
   "metadata": {
    "id": "CMaJrcj6UfUo"
   },
   "outputs": [],
   "source": [
    "rf_bestParam = GridSearchCV(rf2, paramRF, cv=10)"
   ]
  },
  {
   "cell_type": "code",
   "execution_count": 114,
   "metadata": {
    "colab": {
     "base_uri": "https://localhost:8080/"
    },
    "id": "CSdAjw9PUz6c",
    "outputId": "623f47fe-842b-4a38-da37-dd7f35f68c53"
   },
   "outputs": [
    {
     "name": "stdout",
     "output_type": "stream",
     "text": [
      "{'cv': 10, 'error_score': nan, 'estimator__bootstrap': True, 'estimator__ccp_alpha': 0.0, 'estimator__class_weight': None, 'estimator__criterion': 'gini', 'estimator__max_depth': None, 'estimator__max_features': 'sqrt', 'estimator__max_leaf_nodes': None, 'estimator__max_samples': None, 'estimator__min_impurity_decrease': 0.0, 'estimator__min_samples_leaf': 1, 'estimator__min_samples_split': 2, 'estimator__min_weight_fraction_leaf': 0.0, 'estimator__n_estimators': 100, 'estimator__n_jobs': None, 'estimator__oob_score': False, 'estimator__random_state': None, 'estimator__verbose': 0, 'estimator__warm_start': False, 'estimator': RandomForestClassifier(), 'n_jobs': None, 'param_grid': {'n_estimators': array([ 10,  11,  12,  13,  14,  15,  16,  17,  18,  19,  20,  21,  22,\n",
      "        23,  24,  25,  26,  27,  28,  29,  30,  31,  32,  33,  34,  35,\n",
      "        36,  37,  38,  39,  40,  41,  42,  43,  44,  45,  46,  47,  48,\n",
      "        49,  50,  51,  52,  53,  54,  55,  56,  57,  58,  59,  60,  61,\n",
      "        62,  63,  64,  65,  66,  67,  68,  69,  70,  71,  72,  73,  74,\n",
      "        75,  76,  77,  78,  79,  80,  81,  82,  83,  84,  85,  86,  87,\n",
      "        88,  89,  90,  91,  92,  93,  94,  95,  96,  97,  98,  99, 100,\n",
      "       101, 102, 103, 104, 105, 106, 107, 108, 109, 110, 111, 112, 113,\n",
      "       114, 115, 116, 117, 118, 119, 120, 121, 122, 123, 124, 125, 126,\n",
      "       127, 128, 129, 130, 131, 132, 133, 134, 135, 136, 137, 138, 139,\n",
      "       140, 141, 142, 143, 144, 145, 146, 147, 148, 149, 150, 151, 152,\n",
      "       153, 154, 155, 156, 157, 158, 159, 160, 161, 162, 163, 164, 165,\n",
      "       166, 167, 168, 169, 170, 171, 172, 173, 174, 175, 176, 177, 178,\n",
      "       179, 180, 181, 182, 183, 184, 185, 186, 187, 188, 189, 190, 191,\n",
      "       192, 193, 194, 195, 196, 197, 198, 199, 200, 201, 202, 203, 204,\n",
      "       205, 206, 207, 208, 209, 210, 211, 212, 213, 214, 215, 216, 217,\n",
      "       218, 219, 220, 221, 222, 223, 224, 225, 226, 227, 228, 229, 230,\n",
      "       231, 232, 233, 234, 235, 236, 237, 238, 239, 240, 241, 242, 243,\n",
      "       244, 245, 246, 247, 248, 249, 250, 251, 252, 253, 254, 255, 256,\n",
      "       257, 258, 259, 260, 261, 262, 263, 264, 265, 266, 267, 268, 269,\n",
      "       270, 271, 272, 273, 274, 275, 276, 277, 278, 279, 280, 281, 282,\n",
      "       283, 284, 285, 286, 287, 288, 289, 290, 291, 292, 293, 294, 295,\n",
      "       296, 297, 298, 299, 300, 301, 302, 303, 304, 305, 306, 307, 308,\n",
      "       309, 310, 311, 312, 313, 314, 315, 316, 317, 318, 319, 320, 321,\n",
      "       322, 323, 324, 325, 326, 327, 328, 329, 330, 331, 332, 333, 334,\n",
      "       335, 336, 337, 338, 339, 340, 341, 342, 343, 344, 345, 346, 347,\n",
      "       348, 349, 350, 351, 352, 353, 354, 355, 356, 357, 358, 359, 360,\n",
      "       361, 362, 363, 364, 365, 366, 367, 368, 369, 370, 371, 372, 373,\n",
      "       374, 375, 376, 377, 378, 379, 380, 381, 382, 383, 384, 385, 386,\n",
      "       387, 388, 389, 390, 391, 392, 393, 394, 395, 396, 397, 398, 399,\n",
      "       400, 401, 402, 403, 404, 405, 406, 407, 408, 409, 410, 411, 412,\n",
      "       413, 414, 415, 416, 417, 418, 419, 420, 421, 422, 423, 424, 425,\n",
      "       426, 427, 428, 429, 430, 431, 432, 433, 434, 435, 436, 437, 438,\n",
      "       439, 440, 441, 442, 443, 444, 445, 446, 447, 448, 449, 450, 451,\n",
      "       452, 453, 454, 455, 456, 457, 458, 459, 460, 461, 462, 463, 464,\n",
      "       465, 466, 467, 468, 469, 470, 471, 472, 473, 474, 475, 476, 477,\n",
      "       478, 479, 480, 481, 482, 483, 484, 485, 486, 487, 488, 489, 490,\n",
      "       491, 492, 493, 494, 495, 496, 497, 498, 499, 500, 501, 502, 503,\n",
      "       504, 505, 506, 507, 508, 509, 510, 511, 512, 513, 514, 515, 516,\n",
      "       517, 518, 519, 520, 521, 522, 523, 524, 525, 526, 527, 528, 529,\n",
      "       530, 531, 532, 533, 534, 535, 536, 537, 538, 539, 540, 541, 542,\n",
      "       543, 544, 545, 546, 547, 548, 549, 550, 551, 552, 553, 554, 555,\n",
      "       556, 557, 558, 559, 560, 561, 562, 563, 564, 565, 566, 567, 568,\n",
      "       569, 570, 571, 572, 573, 574, 575, 576, 577, 578, 579, 580, 581,\n",
      "       582, 583, 584, 585, 586, 587, 588, 589, 590, 591, 592, 593, 594,\n",
      "       595, 596, 597, 598, 599, 600, 601, 602, 603, 604, 605, 606, 607,\n",
      "       608, 609, 610, 611, 612, 613, 614, 615, 616, 617, 618, 619, 620,\n",
      "       621, 622, 623, 624, 625, 626, 627, 628, 629, 630, 631, 632, 633,\n",
      "       634, 635, 636, 637, 638, 639, 640, 641, 642, 643, 644, 645, 646,\n",
      "       647, 648, 649, 650, 651, 652, 653, 654, 655, 656, 657, 658, 659,\n",
      "       660, 661, 662, 663, 664, 665, 666, 667, 668, 669, 670, 671, 672,\n",
      "       673, 674, 675, 676, 677, 678, 679, 680, 681, 682, 683, 684, 685,\n",
      "       686, 687, 688, 689, 690, 691, 692, 693, 694, 695, 696, 697, 698,\n",
      "       699, 700, 701, 702, 703, 704, 705, 706, 707, 708, 709, 710, 711,\n",
      "       712, 713, 714, 715, 716, 717, 718, 719, 720, 721, 722, 723, 724,\n",
      "       725, 726, 727, 728, 729, 730, 731, 732, 733, 734, 735, 736, 737,\n",
      "       738, 739, 740, 741, 742, 743, 744, 745, 746, 747, 748, 749, 750,\n",
      "       751, 752, 753, 754, 755, 756, 757, 758, 759, 760, 761, 762, 763,\n",
      "       764, 765, 766, 767, 768, 769, 770, 771, 772, 773, 774, 775, 776,\n",
      "       777, 778, 779, 780, 781, 782, 783, 784, 785, 786, 787, 788, 789,\n",
      "       790, 791, 792, 793, 794, 795, 796, 797, 798, 799, 800, 801, 802,\n",
      "       803, 804, 805, 806, 807, 808, 809, 810, 811, 812, 813, 814, 815,\n",
      "       816, 817, 818, 819, 820, 821, 822, 823, 824, 825, 826, 827, 828,\n",
      "       829, 830, 831, 832, 833, 834, 835, 836, 837, 838, 839, 840, 841,\n",
      "       842, 843, 844, 845, 846, 847, 848, 849, 850, 851, 852, 853, 854,\n",
      "       855, 856, 857, 858, 859, 860, 861, 862, 863, 864, 865, 866, 867,\n",
      "       868, 869, 870, 871, 872, 873, 874, 875, 876, 877, 878, 879, 880,\n",
      "       881, 882, 883, 884, 885, 886, 887, 888, 889, 890, 891, 892, 893,\n",
      "       894, 895, 896, 897, 898, 899, 900, 901, 902, 903, 904, 905, 906,\n",
      "       907, 908, 909, 910, 911, 912, 913, 914, 915, 916, 917, 918, 919,\n",
      "       920, 921, 922, 923, 924, 925, 926, 927, 928, 929, 930, 931, 932,\n",
      "       933, 934, 935, 936, 937, 938, 939, 940, 941, 942, 943, 944, 945,\n",
      "       946, 947, 948, 949, 950, 951, 952, 953, 954, 955, 956, 957, 958,\n",
      "       959, 960, 961, 962, 963, 964, 965, 966, 967, 968, 969, 970, 971,\n",
      "       972, 973, 974, 975, 976, 977, 978, 979, 980, 981, 982, 983, 984,\n",
      "       985, 986, 987, 988, 989, 990, 991, 992, 993, 994, 995, 996, 997,\n",
      "       998, 999]), 'max_depth': array([10, 11, 12, 13, 14, 15, 16, 17, 18, 19, 20, 21, 22, 23, 24, 25, 26,\n",
      "       27, 28, 29, 30, 31, 32, 33, 34, 35, 36, 37, 38, 39, 40, 41, 42, 43,\n",
      "       44, 45, 46, 47, 48, 49, 50, 51, 52, 53, 54, 55, 56, 57, 58, 59, 60,\n",
      "       61, 62, 63, 64, 65, 66, 67, 68, 69, 70, 71, 72, 73, 74, 75, 76, 77,\n",
      "       78, 79, 80, 81, 82, 83, 84, 85, 86, 87, 88, 89, 90, 91, 92, 93, 94,\n",
      "       95, 96, 97, 98, 99])}, 'pre_dispatch': '2*n_jobs', 'refit': True, 'return_train_score': False, 'scoring': None, 'verbose': 0}\n"
     ]
    }
   ],
   "source": [
    "print(rf_bestParam.get_params())"
   ]
  },
  {
   "cell_type": "markdown",
   "metadata": {
    "id": "RGv41ra7V7Kk"
   },
   "source": [
    "Jadi: Parameter Random Forest jika digunakan GridSearchCV, n_estimator = 100 dan criterion = gini. Max_depth = None, artinya semua daunnya kurang dari min_samples_split. min_samples_split = 2."
   ]
  },
  {
   "cell_type": "code",
   "execution_count": 115,
   "metadata": {
    "id": "Mbh5mI43cjET"
   },
   "outputs": [],
   "source": [
    "rfBest = RandomForestClassifier(n_estimators=100, criterion='gini', max_depth=None, min_samples_split=2)"
   ]
  },
  {
   "cell_type": "code",
   "execution_count": 116,
   "metadata": {
    "id": "XiEEfXwedLUu"
   },
   "outputs": [],
   "source": [
    "rfBest.fit(X2_train, y2_train)\n",
    "y_rf_best_pred = rfBest.predict(X2_test)"
   ]
  },
  {
   "cell_type": "code",
   "execution_count": 117,
   "metadata": {
    "colab": {
     "base_uri": "https://localhost:8080/"
    },
    "id": "YD5o4LaYde18",
    "outputId": "e2446b56-e9b0-4061-a55c-f405bd74e49d"
   },
   "outputs": [
    {
     "data": {
      "text/plain": [
       "array([0.38, 0.48, 0.79, ..., 0.41, 0.46, 0.97])"
      ]
     },
     "execution_count": 117,
     "metadata": {},
     "output_type": "execute_result"
    }
   ],
   "source": [
    "y_best_predProba = rfBest.predict_proba(X2_test)[::,-1]\n",
    "y_best_predProba"
   ]
  },
  {
   "cell_type": "code",
   "execution_count": 118,
   "metadata": {
    "colab": {
     "base_uri": "https://localhost:8080/"
    },
    "id": "6wa9JQXZdsP7",
    "outputId": "71fd243c-7c7f-4f92-ea46-0fef9ebf76a1"
   },
   "outputs": [
    {
     "name": "stdout",
     "output_type": "stream",
     "text": [
      "Random Forest (Balanced) Score\n",
      "Accuracy: 0.74\n",
      "Precision: 0.74\n",
      "Recall: 0.73\n",
      "f1: 0.74\n",
      "ROC AUC: 0.82\n"
     ]
    }
   ],
   "source": [
    "print('Random Forest (Balanced) Score')\n",
    "print('Accuracy: {:.2f}'.format(accuracy_score(y2_test, y_rf_best_pred)))\n",
    "print('Precision: {:.2f}'.format(precision_score(y2_test, y_rf_best_pred)))\n",
    "print('Recall: {:.2f}'.format(recall_score(y2_test, y_rf_best_pred)))\n",
    "print('f1: {:.2f}'.format(f1_score(y2_test, y_rf_best_pred)))\n",
    "\n",
    "print('ROC AUC: {:.2f}'.format(roc_auc_score(y2_test, y_best_predProba)))"
   ]
  },
  {
   "cell_type": "markdown",
   "metadata": {
    "id": "YkuV5UDhk1-Z"
   },
   "source": [
    "# Saving Model"
   ]
  },
  {
   "cell_type": "code",
   "execution_count": 119,
   "metadata": {
    "colab": {
     "base_uri": "https://localhost:8080/",
     "height": 424
    },
    "id": "LtLfHIEWk1-i",
    "outputId": "21189063-27f3-4632-8592-59712b2455a8"
   },
   "outputs": [
    {
     "data": {
      "text/html": [
       "<div>\n",
       "<style scoped>\n",
       "    .dataframe tbody tr th:only-of-type {\n",
       "        vertical-align: middle;\n",
       "    }\n",
       "\n",
       "    .dataframe tbody tr th {\n",
       "        vertical-align: top;\n",
       "    }\n",
       "\n",
       "    .dataframe thead th {\n",
       "        text-align: right;\n",
       "    }\n",
       "</style>\n",
       "<table border=\"1\" class=\"dataframe\">\n",
       "  <thead>\n",
       "    <tr style=\"text-align: right;\">\n",
       "      <th></th>\n",
       "      <th>Gender</th>\n",
       "      <th>Age</th>\n",
       "      <th>CreditScore</th>\n",
       "      <th>EstimatedSalary</th>\n",
       "      <th>HasCrCard</th>\n",
       "      <th>CrdScoreGivenAge</th>\n",
       "    </tr>\n",
       "  </thead>\n",
       "  <tbody>\n",
       "    <tr>\n",
       "      <th>0</th>\n",
       "      <td>0</td>\n",
       "      <td>42</td>\n",
       "      <td>619</td>\n",
       "      <td>101348.880000</td>\n",
       "      <td>1</td>\n",
       "      <td>14.738095</td>\n",
       "    </tr>\n",
       "    <tr>\n",
       "      <th>1</th>\n",
       "      <td>0</td>\n",
       "      <td>41</td>\n",
       "      <td>608</td>\n",
       "      <td>112542.580000</td>\n",
       "      <td>0</td>\n",
       "      <td>14.829268</td>\n",
       "    </tr>\n",
       "    <tr>\n",
       "      <th>2</th>\n",
       "      <td>0</td>\n",
       "      <td>42</td>\n",
       "      <td>502</td>\n",
       "      <td>113931.570000</td>\n",
       "      <td>1</td>\n",
       "      <td>11.952381</td>\n",
       "    </tr>\n",
       "    <tr>\n",
       "      <th>3</th>\n",
       "      <td>0</td>\n",
       "      <td>39</td>\n",
       "      <td>699</td>\n",
       "      <td>93826.630000</td>\n",
       "      <td>0</td>\n",
       "      <td>17.923077</td>\n",
       "    </tr>\n",
       "    <tr>\n",
       "      <th>4</th>\n",
       "      <td>0</td>\n",
       "      <td>43</td>\n",
       "      <td>850</td>\n",
       "      <td>79084.100000</td>\n",
       "      <td>1</td>\n",
       "      <td>19.767442</td>\n",
       "    </tr>\n",
       "    <tr>\n",
       "      <th>...</th>\n",
       "      <td>...</td>\n",
       "      <td>...</td>\n",
       "      <td>...</td>\n",
       "      <td>...</td>\n",
       "      <td>...</td>\n",
       "      <td>...</td>\n",
       "    </tr>\n",
       "    <tr>\n",
       "      <th>15921</th>\n",
       "      <td>0</td>\n",
       "      <td>57</td>\n",
       "      <td>520</td>\n",
       "      <td>43376.163934</td>\n",
       "      <td>0</td>\n",
       "      <td>9.136012</td>\n",
       "    </tr>\n",
       "    <tr>\n",
       "      <th>15922</th>\n",
       "      <td>0</td>\n",
       "      <td>50</td>\n",
       "      <td>696</td>\n",
       "      <td>99369.959251</td>\n",
       "      <td>1</td>\n",
       "      <td>13.936938</td>\n",
       "    </tr>\n",
       "    <tr>\n",
       "      <th>15923</th>\n",
       "      <td>0</td>\n",
       "      <td>44</td>\n",
       "      <td>723</td>\n",
       "      <td>191708.135088</td>\n",
       "      <td>0</td>\n",
       "      <td>16.604035</td>\n",
       "    </tr>\n",
       "    <tr>\n",
       "      <th>15924</th>\n",
       "      <td>0</td>\n",
       "      <td>35</td>\n",
       "      <td>433</td>\n",
       "      <td>17376.427033</td>\n",
       "      <td>0</td>\n",
       "      <td>12.194572</td>\n",
       "    </tr>\n",
       "    <tr>\n",
       "      <th>15925</th>\n",
       "      <td>0</td>\n",
       "      <td>41</td>\n",
       "      <td>571</td>\n",
       "      <td>149607.883553</td>\n",
       "      <td>1</td>\n",
       "      <td>13.761413</td>\n",
       "    </tr>\n",
       "  </tbody>\n",
       "</table>\n",
       "<p>15926 rows × 6 columns</p>\n",
       "</div>"
      ],
      "text/plain": [
       "       Gender  Age  CreditScore  EstimatedSalary  HasCrCard  CrdScoreGivenAge\n",
       "0           0   42          619    101348.880000          1         14.738095\n",
       "1           0   41          608    112542.580000          0         14.829268\n",
       "2           0   42          502    113931.570000          1         11.952381\n",
       "3           0   39          699     93826.630000          0         17.923077\n",
       "4           0   43          850     79084.100000          1         19.767442\n",
       "...       ...  ...          ...              ...        ...               ...\n",
       "15921       0   57          520     43376.163934          0          9.136012\n",
       "15922       0   50          696     99369.959251          1         13.936938\n",
       "15923       0   44          723    191708.135088          0         16.604035\n",
       "15924       0   35          433     17376.427033          0         12.194572\n",
       "15925       0   41          571    149607.883553          1         13.761413\n",
       "\n",
       "[15926 rows x 6 columns]"
      ]
     },
     "execution_count": 119,
     "metadata": {},
     "output_type": "execute_result"
    }
   ],
   "source": [
    "X2_se = X2_smote.copy()\n",
    "X2_se\n",
    "\n",
    "y2_se = y2_smote.copy()\n",
    "X2_se"
   ]
  },
  {
   "cell_type": "code",
   "execution_count": 120,
   "metadata": {
    "id": "QZXKizk8k1-j"
   },
   "outputs": [],
   "source": [
    "a_train, a_test, b_train, b_test = train_test_split(X2_se, y2_se, test_size=0.35, random_state=1)"
   ]
  },
  {
   "cell_type": "code",
   "execution_count": 121,
   "metadata": {
    "colab": {
     "base_uri": "https://localhost:8080/",
     "height": 424
    },
    "id": "AMC1NXWhk1-j",
    "outputId": "f13250ea-c6d8-4cb6-995a-7fe11d5391f0"
   },
   "outputs": [
    {
     "data": {
      "text/html": [
       "<div>\n",
       "<style scoped>\n",
       "    .dataframe tbody tr th:only-of-type {\n",
       "        vertical-align: middle;\n",
       "    }\n",
       "\n",
       "    .dataframe tbody tr th {\n",
       "        vertical-align: top;\n",
       "    }\n",
       "\n",
       "    .dataframe thead th {\n",
       "        text-align: right;\n",
       "    }\n",
       "</style>\n",
       "<table border=\"1\" class=\"dataframe\">\n",
       "  <thead>\n",
       "    <tr style=\"text-align: right;\">\n",
       "      <th></th>\n",
       "      <th>Gender</th>\n",
       "      <th>Age</th>\n",
       "      <th>CreditScore</th>\n",
       "      <th>EstimatedSalary</th>\n",
       "      <th>HasCrCard</th>\n",
       "      <th>CrdScoreGivenAge</th>\n",
       "    </tr>\n",
       "  </thead>\n",
       "  <tbody>\n",
       "    <tr>\n",
       "      <th>15242</th>\n",
       "      <td>0</td>\n",
       "      <td>44</td>\n",
       "      <td>487</td>\n",
       "      <td>129994.114169</td>\n",
       "      <td>1</td>\n",
       "      <td>11.125413</td>\n",
       "    </tr>\n",
       "    <tr>\n",
       "      <th>4940</th>\n",
       "      <td>0</td>\n",
       "      <td>38</td>\n",
       "      <td>763</td>\n",
       "      <td>31892.820000</td>\n",
       "      <td>0</td>\n",
       "      <td>20.078947</td>\n",
       "    </tr>\n",
       "    <tr>\n",
       "      <th>15856</th>\n",
       "      <td>0</td>\n",
       "      <td>46</td>\n",
       "      <td>617</td>\n",
       "      <td>139472.228769</td>\n",
       "      <td>1</td>\n",
       "      <td>13.215096</td>\n",
       "    </tr>\n",
       "    <tr>\n",
       "      <th>5679</th>\n",
       "      <td>0</td>\n",
       "      <td>33</td>\n",
       "      <td>778</td>\n",
       "      <td>83556.650000</td>\n",
       "      <td>1</td>\n",
       "      <td>23.575758</td>\n",
       "    </tr>\n",
       "    <tr>\n",
       "      <th>11457</th>\n",
       "      <td>1</td>\n",
       "      <td>44</td>\n",
       "      <td>692</td>\n",
       "      <td>187189.972495</td>\n",
       "      <td>0</td>\n",
       "      <td>16.051830</td>\n",
       "    </tr>\n",
       "    <tr>\n",
       "      <th>...</th>\n",
       "      <td>...</td>\n",
       "      <td>...</td>\n",
       "      <td>...</td>\n",
       "      <td>...</td>\n",
       "      <td>...</td>\n",
       "      <td>...</td>\n",
       "    </tr>\n",
       "    <tr>\n",
       "      <th>905</th>\n",
       "      <td>0</td>\n",
       "      <td>45</td>\n",
       "      <td>672</td>\n",
       "      <td>92027.690000</td>\n",
       "      <td>1</td>\n",
       "      <td>14.933333</td>\n",
       "    </tr>\n",
       "    <tr>\n",
       "      <th>5192</th>\n",
       "      <td>0</td>\n",
       "      <td>39</td>\n",
       "      <td>663</td>\n",
       "      <td>101168.900000</td>\n",
       "      <td>1</td>\n",
       "      <td>17.000000</td>\n",
       "    </tr>\n",
       "    <tr>\n",
       "      <th>12172</th>\n",
       "      <td>0</td>\n",
       "      <td>41</td>\n",
       "      <td>658</td>\n",
       "      <td>36309.854021</td>\n",
       "      <td>1</td>\n",
       "      <td>16.271837</td>\n",
       "    </tr>\n",
       "    <tr>\n",
       "      <th>235</th>\n",
       "      <td>1</td>\n",
       "      <td>42</td>\n",
       "      <td>763</td>\n",
       "      <td>33462.940000</td>\n",
       "      <td>1</td>\n",
       "      <td>18.166667</td>\n",
       "    </tr>\n",
       "    <tr>\n",
       "      <th>13349</th>\n",
       "      <td>0</td>\n",
       "      <td>48</td>\n",
       "      <td>548</td>\n",
       "      <td>125586.003541</td>\n",
       "      <td>0</td>\n",
       "      <td>11.493441</td>\n",
       "    </tr>\n",
       "  </tbody>\n",
       "</table>\n",
       "<p>10351 rows × 6 columns</p>\n",
       "</div>"
      ],
      "text/plain": [
       "       Gender  Age  CreditScore  EstimatedSalary  HasCrCard  CrdScoreGivenAge\n",
       "15242       0   44          487    129994.114169          1         11.125413\n",
       "4940        0   38          763     31892.820000          0         20.078947\n",
       "15856       0   46          617    139472.228769          1         13.215096\n",
       "5679        0   33          778     83556.650000          1         23.575758\n",
       "11457       1   44          692    187189.972495          0         16.051830\n",
       "...       ...  ...          ...              ...        ...               ...\n",
       "905         0   45          672     92027.690000          1         14.933333\n",
       "5192        0   39          663    101168.900000          1         17.000000\n",
       "12172       0   41          658     36309.854021          1         16.271837\n",
       "235         1   42          763     33462.940000          1         18.166667\n",
       "13349       0   48          548    125586.003541          0         11.493441\n",
       "\n",
       "[10351 rows x 6 columns]"
      ]
     },
     "execution_count": 121,
     "metadata": {},
     "output_type": "execute_result"
    }
   ],
   "source": [
    "a_train"
   ]
  },
  {
   "cell_type": "code",
   "execution_count": 122,
   "metadata": {
    "id": "BYKjl5vlk1-j"
   },
   "outputs": [],
   "source": [
    "from sklearn.pipeline import Pipeline"
   ]
  },
  {
   "cell_type": "code",
   "execution_count": 123,
   "metadata": {
    "colab": {
     "base_uri": "https://localhost:8080/"
    },
    "id": "63nE1MEek1-k",
    "outputId": "03a51c4d-5fd1-446c-c71a-bb755afae31e"
   },
   "outputs": [
    {
     "data": {
      "text/html": [
       "<style>#sk-container-id-3 {color: black;background-color: white;}#sk-container-id-3 pre{padding: 0;}#sk-container-id-3 div.sk-toggleable {background-color: white;}#sk-container-id-3 label.sk-toggleable__label {cursor: pointer;display: block;width: 100%;margin-bottom: 0;padding: 0.3em;box-sizing: border-box;text-align: center;}#sk-container-id-3 label.sk-toggleable__label-arrow:before {content: \"▸\";float: left;margin-right: 0.25em;color: #696969;}#sk-container-id-3 label.sk-toggleable__label-arrow:hover:before {color: black;}#sk-container-id-3 div.sk-estimator:hover label.sk-toggleable__label-arrow:before {color: black;}#sk-container-id-3 div.sk-toggleable__content {max-height: 0;max-width: 0;overflow: hidden;text-align: left;background-color: #f0f8ff;}#sk-container-id-3 div.sk-toggleable__content pre {margin: 0.2em;color: black;border-radius: 0.25em;background-color: #f0f8ff;}#sk-container-id-3 input.sk-toggleable__control:checked~div.sk-toggleable__content {max-height: 200px;max-width: 100%;overflow: auto;}#sk-container-id-3 input.sk-toggleable__control:checked~label.sk-toggleable__label-arrow:before {content: \"▾\";}#sk-container-id-3 div.sk-estimator input.sk-toggleable__control:checked~label.sk-toggleable__label {background-color: #d4ebff;}#sk-container-id-3 div.sk-label input.sk-toggleable__control:checked~label.sk-toggleable__label {background-color: #d4ebff;}#sk-container-id-3 input.sk-hidden--visually {border: 0;clip: rect(1px 1px 1px 1px);clip: rect(1px, 1px, 1px, 1px);height: 1px;margin: -1px;overflow: hidden;padding: 0;position: absolute;width: 1px;}#sk-container-id-3 div.sk-estimator {font-family: monospace;background-color: #f0f8ff;border: 1px dotted black;border-radius: 0.25em;box-sizing: border-box;margin-bottom: 0.5em;}#sk-container-id-3 div.sk-estimator:hover {background-color: #d4ebff;}#sk-container-id-3 div.sk-parallel-item::after {content: \"\";width: 100%;border-bottom: 1px solid gray;flex-grow: 1;}#sk-container-id-3 div.sk-label:hover label.sk-toggleable__label {background-color: #d4ebff;}#sk-container-id-3 div.sk-serial::before {content: \"\";position: absolute;border-left: 1px solid gray;box-sizing: border-box;top: 0;bottom: 0;left: 50%;z-index: 0;}#sk-container-id-3 div.sk-serial {display: flex;flex-direction: column;align-items: center;background-color: white;padding-right: 0.2em;padding-left: 0.2em;position: relative;}#sk-container-id-3 div.sk-item {position: relative;z-index: 1;}#sk-container-id-3 div.sk-parallel {display: flex;align-items: stretch;justify-content: center;background-color: white;position: relative;}#sk-container-id-3 div.sk-item::before, #sk-container-id-3 div.sk-parallel-item::before {content: \"\";position: absolute;border-left: 1px solid gray;box-sizing: border-box;top: 0;bottom: 0;left: 50%;z-index: -1;}#sk-container-id-3 div.sk-parallel-item {display: flex;flex-direction: column;z-index: 1;position: relative;background-color: white;}#sk-container-id-3 div.sk-parallel-item:first-child::after {align-self: flex-end;width: 50%;}#sk-container-id-3 div.sk-parallel-item:last-child::after {align-self: flex-start;width: 50%;}#sk-container-id-3 div.sk-parallel-item:only-child::after {width: 0;}#sk-container-id-3 div.sk-dashed-wrapped {border: 1px dashed gray;margin: 0 0.4em 0.5em 0.4em;box-sizing: border-box;padding-bottom: 0.4em;background-color: white;}#sk-container-id-3 div.sk-label label {font-family: monospace;font-weight: bold;display: inline-block;line-height: 1.2em;}#sk-container-id-3 div.sk-label-container {text-align: center;}#sk-container-id-3 div.sk-container {/* jupyter's `normalize.less` sets `[hidden] { display: none; }` but bootstrap.min.css set `[hidden] { display: none !important; }` so we also need the `!important` here to be able to override the default hidden behavior on the sphinx rendered scikit-learn.org. See: https://github.com/scikit-learn/scikit-learn/issues/21755 */display: inline-block !important;position: relative;}#sk-container-id-3 div.sk-text-repr-fallback {display: none;}</style><div id=\"sk-container-id-3\" class=\"sk-top-container\"><div class=\"sk-text-repr-fallback\"><pre>Pipeline(steps=[(&#x27;scal&#x27;, StandardScaler()),\n",
       "                (&#x27;ranfor&#x27;, RandomForestClassifier())])</pre><b>In a Jupyter environment, please rerun this cell to show the HTML representation or trust the notebook. <br />On GitHub, the HTML representation is unable to render, please try loading this page with nbviewer.org.</b></div><div class=\"sk-container\" hidden><div class=\"sk-item sk-dashed-wrapped\"><div class=\"sk-label-container\"><div class=\"sk-label sk-toggleable\"><input class=\"sk-toggleable__control sk-hidden--visually\" id=\"sk-estimator-id-7\" type=\"checkbox\" ><label for=\"sk-estimator-id-7\" class=\"sk-toggleable__label sk-toggleable__label-arrow\">Pipeline</label><div class=\"sk-toggleable__content\"><pre>Pipeline(steps=[(&#x27;scal&#x27;, StandardScaler()),\n",
       "                (&#x27;ranfor&#x27;, RandomForestClassifier())])</pre></div></div></div><div class=\"sk-serial\"><div class=\"sk-item\"><div class=\"sk-estimator sk-toggleable\"><input class=\"sk-toggleable__control sk-hidden--visually\" id=\"sk-estimator-id-8\" type=\"checkbox\" ><label for=\"sk-estimator-id-8\" class=\"sk-toggleable__label sk-toggleable__label-arrow\">StandardScaler</label><div class=\"sk-toggleable__content\"><pre>StandardScaler()</pre></div></div></div><div class=\"sk-item\"><div class=\"sk-estimator sk-toggleable\"><input class=\"sk-toggleable__control sk-hidden--visually\" id=\"sk-estimator-id-9\" type=\"checkbox\" ><label for=\"sk-estimator-id-9\" class=\"sk-toggleable__label sk-toggleable__label-arrow\">RandomForestClassifier</label><div class=\"sk-toggleable__content\"><pre>RandomForestClassifier()</pre></div></div></div></div></div></div></div>"
      ],
      "text/plain": [
       "Pipeline(steps=[('scal', StandardScaler()),\n",
       "                ('ranfor', RandomForestClassifier())])"
      ]
     },
     "execution_count": 123,
     "metadata": {},
     "output_type": "execute_result"
    }
   ],
   "source": [
    "pipe = Pipeline([('scal', StandardScaler()), ('ranfor', RandomForestClassifier(n_estimators=100, criterion='gini', max_depth=None, min_samples_split=2))])\n",
    "pipe.fit(a_train, b_train)"
   ]
  },
  {
   "cell_type": "code",
   "execution_count": 124,
   "metadata": {
    "colab": {
     "base_uri": "https://localhost:8080/"
    },
    "id": "lwwFutuWk1-k",
    "outputId": "6665b473-55bf-43d5-b6db-eae197727723"
   },
   "outputs": [
    {
     "data": {
      "text/html": [
       "<style>#sk-container-id-4 {color: black;background-color: white;}#sk-container-id-4 pre{padding: 0;}#sk-container-id-4 div.sk-toggleable {background-color: white;}#sk-container-id-4 label.sk-toggleable__label {cursor: pointer;display: block;width: 100%;margin-bottom: 0;padding: 0.3em;box-sizing: border-box;text-align: center;}#sk-container-id-4 label.sk-toggleable__label-arrow:before {content: \"▸\";float: left;margin-right: 0.25em;color: #696969;}#sk-container-id-4 label.sk-toggleable__label-arrow:hover:before {color: black;}#sk-container-id-4 div.sk-estimator:hover label.sk-toggleable__label-arrow:before {color: black;}#sk-container-id-4 div.sk-toggleable__content {max-height: 0;max-width: 0;overflow: hidden;text-align: left;background-color: #f0f8ff;}#sk-container-id-4 div.sk-toggleable__content pre {margin: 0.2em;color: black;border-radius: 0.25em;background-color: #f0f8ff;}#sk-container-id-4 input.sk-toggleable__control:checked~div.sk-toggleable__content {max-height: 200px;max-width: 100%;overflow: auto;}#sk-container-id-4 input.sk-toggleable__control:checked~label.sk-toggleable__label-arrow:before {content: \"▾\";}#sk-container-id-4 div.sk-estimator input.sk-toggleable__control:checked~label.sk-toggleable__label {background-color: #d4ebff;}#sk-container-id-4 div.sk-label input.sk-toggleable__control:checked~label.sk-toggleable__label {background-color: #d4ebff;}#sk-container-id-4 input.sk-hidden--visually {border: 0;clip: rect(1px 1px 1px 1px);clip: rect(1px, 1px, 1px, 1px);height: 1px;margin: -1px;overflow: hidden;padding: 0;position: absolute;width: 1px;}#sk-container-id-4 div.sk-estimator {font-family: monospace;background-color: #f0f8ff;border: 1px dotted black;border-radius: 0.25em;box-sizing: border-box;margin-bottom: 0.5em;}#sk-container-id-4 div.sk-estimator:hover {background-color: #d4ebff;}#sk-container-id-4 div.sk-parallel-item::after {content: \"\";width: 100%;border-bottom: 1px solid gray;flex-grow: 1;}#sk-container-id-4 div.sk-label:hover label.sk-toggleable__label {background-color: #d4ebff;}#sk-container-id-4 div.sk-serial::before {content: \"\";position: absolute;border-left: 1px solid gray;box-sizing: border-box;top: 0;bottom: 0;left: 50%;z-index: 0;}#sk-container-id-4 div.sk-serial {display: flex;flex-direction: column;align-items: center;background-color: white;padding-right: 0.2em;padding-left: 0.2em;position: relative;}#sk-container-id-4 div.sk-item {position: relative;z-index: 1;}#sk-container-id-4 div.sk-parallel {display: flex;align-items: stretch;justify-content: center;background-color: white;position: relative;}#sk-container-id-4 div.sk-item::before, #sk-container-id-4 div.sk-parallel-item::before {content: \"\";position: absolute;border-left: 1px solid gray;box-sizing: border-box;top: 0;bottom: 0;left: 50%;z-index: -1;}#sk-container-id-4 div.sk-parallel-item {display: flex;flex-direction: column;z-index: 1;position: relative;background-color: white;}#sk-container-id-4 div.sk-parallel-item:first-child::after {align-self: flex-end;width: 50%;}#sk-container-id-4 div.sk-parallel-item:last-child::after {align-self: flex-start;width: 50%;}#sk-container-id-4 div.sk-parallel-item:only-child::after {width: 0;}#sk-container-id-4 div.sk-dashed-wrapped {border: 1px dashed gray;margin: 0 0.4em 0.5em 0.4em;box-sizing: border-box;padding-bottom: 0.4em;background-color: white;}#sk-container-id-4 div.sk-label label {font-family: monospace;font-weight: bold;display: inline-block;line-height: 1.2em;}#sk-container-id-4 div.sk-label-container {text-align: center;}#sk-container-id-4 div.sk-container {/* jupyter's `normalize.less` sets `[hidden] { display: none; }` but bootstrap.min.css set `[hidden] { display: none !important; }` so we also need the `!important` here to be able to override the default hidden behavior on the sphinx rendered scikit-learn.org. See: https://github.com/scikit-learn/scikit-learn/issues/21755 */display: inline-block !important;position: relative;}#sk-container-id-4 div.sk-text-repr-fallback {display: none;}</style><div id=\"sk-container-id-4\" class=\"sk-top-container\"><div class=\"sk-text-repr-fallback\"><pre>Pipeline(steps=[(&#x27;scal&#x27;, StandardScaler()),\n",
       "                (&#x27;ranfor&#x27;, RandomForestClassifier())])</pre><b>In a Jupyter environment, please rerun this cell to show the HTML representation or trust the notebook. <br />On GitHub, the HTML representation is unable to render, please try loading this page with nbviewer.org.</b></div><div class=\"sk-container\" hidden><div class=\"sk-item sk-dashed-wrapped\"><div class=\"sk-label-container\"><div class=\"sk-label sk-toggleable\"><input class=\"sk-toggleable__control sk-hidden--visually\" id=\"sk-estimator-id-10\" type=\"checkbox\" ><label for=\"sk-estimator-id-10\" class=\"sk-toggleable__label sk-toggleable__label-arrow\">Pipeline</label><div class=\"sk-toggleable__content\"><pre>Pipeline(steps=[(&#x27;scal&#x27;, StandardScaler()),\n",
       "                (&#x27;ranfor&#x27;, RandomForestClassifier())])</pre></div></div></div><div class=\"sk-serial\"><div class=\"sk-item\"><div class=\"sk-estimator sk-toggleable\"><input class=\"sk-toggleable__control sk-hidden--visually\" id=\"sk-estimator-id-11\" type=\"checkbox\" ><label for=\"sk-estimator-id-11\" class=\"sk-toggleable__label sk-toggleable__label-arrow\">StandardScaler</label><div class=\"sk-toggleable__content\"><pre>StandardScaler()</pre></div></div></div><div class=\"sk-item\"><div class=\"sk-estimator sk-toggleable\"><input class=\"sk-toggleable__control sk-hidden--visually\" id=\"sk-estimator-id-12\" type=\"checkbox\" ><label for=\"sk-estimator-id-12\" class=\"sk-toggleable__label sk-toggleable__label-arrow\">RandomForestClassifier</label><div class=\"sk-toggleable__content\"><pre>RandomForestClassifier()</pre></div></div></div></div></div></div></div>"
      ],
      "text/plain": [
       "Pipeline(steps=[('scal', StandardScaler()),\n",
       "                ('ranfor', RandomForestClassifier())])"
      ]
     },
     "execution_count": 124,
     "metadata": {},
     "output_type": "execute_result"
    }
   ],
   "source": [
    "Pipeline(steps=[('scal', StandardScaler()), ('ranfor', RandomForestClassifier(n_estimators=100, criterion='gini', max_depth=None, min_samples_split=2))])"
   ]
  },
  {
   "cell_type": "code",
   "execution_count": 125,
   "metadata": {
    "colab": {
     "base_uri": "https://localhost:8080/"
    },
    "id": "L8i2I8j2k1-l",
    "outputId": "d9968026-1e98-40ea-ae60-32cc7af941e9"
   },
   "outputs": [
    {
     "data": {
      "text/plain": [
       "0.7463677130044843"
      ]
     },
     "execution_count": 125,
     "metadata": {},
     "output_type": "execute_result"
    }
   ],
   "source": [
    "pipe.score(a_test, b_test)"
   ]
  },
  {
   "cell_type": "code",
   "execution_count": 126,
   "metadata": {
    "colab": {
     "base_uri": "https://localhost:8080/"
    },
    "id": "zd9mz6oHk1-l",
    "outputId": "42427338-61ce-4662-bd40-690a17d3e1b2"
   },
   "outputs": [
    {
     "data": {
      "text/plain": [
       "array([0], dtype=int64)"
      ]
     },
     "execution_count": 126,
     "metadata": {},
     "output_type": "execute_result"
    }
   ],
   "source": [
    "# 0\t43\t850\t79084.100000\t1\t19.767442 -> 0 = No Churn\n",
    "# 0\t39\t699\t93826.630000\t0\t17.923077 -> 0 = No Churn\n",
    "# 0\t42\t619\t101348.880000\t1\t14.738095 -> 1 = Churn\n",
    "pipe.predict([[0, 39, 699, 93826.630000, 0, 17.923077]])"
   ]
  },
  {
   "cell_type": "code",
   "execution_count": 127,
   "metadata": {
    "id": "xLuTYLeHk1-l"
   },
   "outputs": [],
   "source": [
    "import pickle"
   ]
  },
  {
   "cell_type": "code",
   "execution_count": 128,
   "metadata": {
    "id": "SxcjFkI7k1-l"
   },
   "outputs": [],
   "source": [
    "fileName = 'modelpred.pkl'"
   ]
  },
  {
   "cell_type": "code",
   "execution_count": 129,
   "metadata": {
    "id": "x1OX_5dAk1-l"
   },
   "outputs": [],
   "source": [
    "pickle.dump(pipe, open(fileName, 'wb'))"
   ]
  },
  {
   "cell_type": "code",
   "execution_count": 130,
   "metadata": {
    "id": "NPBfRcotk1-m"
   },
   "outputs": [],
   "source": [
    "loadModel = pickle.load(open('modelpred.pkl', 'rb'))"
   ]
  },
  {
   "cell_type": "code",
   "execution_count": 131,
   "metadata": {
    "colab": {
     "base_uri": "https://localhost:8080/"
    },
    "id": "7JykNVwUk1-m",
    "outputId": "7d7eae67-da5f-406d-aaf8-208b55dd14f0"
   },
   "outputs": [
    {
     "data": {
      "text/plain": [
       "array([1], dtype=int64)"
      ]
     },
     "execution_count": 131,
     "metadata": {},
     "output_type": "execute_result"
    }
   ],
   "source": [
    "loadModel.predict([[0, 42, 619, 101348.880000, 1, 14.738095]])"
   ]
  },
  {
   "cell_type": "code",
   "execution_count": 132,
   "metadata": {
    "colab": {
     "base_uri": "https://localhost:8080/"
    },
    "id": "WYkPF1ihk1-m",
    "outputId": "e25e5b07-e065-48e2-ec1f-05a6e305a741"
   },
   "outputs": [
    {
     "name": "stdout",
     "output_type": "stream",
     "text": [
      "[1]\n",
      "The person is churned\n"
     ]
    }
   ],
   "source": [
    "# 0\t42\t502\t113931.570000\t1\t11.952381 -> 1 = Churn\n",
    "input_data = (0, 42, 502, 113931.570000, 1, 11.952381)\n",
    "\n",
    "# changing the input_data as array\n",
    "input_data_asarray = np.asarray(input_data)\n",
    "\n",
    "# reshape the array as we are predicting for one instance\n",
    "input_data_reshaped = input_data_asarray.reshape(1,-1)\n",
    "\n",
    "prediction = loadModel.predict(input_data_reshaped)\n",
    "print(prediction)\n",
    "\n",
    "if (prediction[0] == 0):\n",
    "    print('The person is not churned')\n",
    "else:\n",
    "    print('The person is churned')"
   ]
  },
  {
   "cell_type": "markdown",
   "metadata": {
    "id": "qDOXIemMsvWk"
   },
   "source": [
    "**End of Code**"
   ]
  },
  {
   "cell_type": "code",
   "execution_count": null,
   "metadata": {
    "id": "vp2Err3mnh-D"
   },
   "outputs": [],
   "source": []
  }
 ],
 "metadata": {
  "colab": {
   "collapsed_sections": [
    "YmufYMavcm-M",
    "Yh9S3jjLbqci",
    "udLOj40ckI7Z",
    "jPT98TY5UoxT"
   ],
   "provenance": [],
   "toc_visible": true
  },
  "kernelspec": {
   "display_name": "Python 3 (ipykernel)",
   "language": "python",
   "name": "python3"
  },
  "language_info": {
   "codemirror_mode": {
    "name": "ipython",
    "version": 3
   },
   "file_extension": ".py",
   "mimetype": "text/x-python",
   "name": "python",
   "nbconvert_exporter": "python",
   "pygments_lexer": "ipython3",
   "version": "3.9.12"
  }
 },
 "nbformat": 4,
 "nbformat_minor": 1
}
